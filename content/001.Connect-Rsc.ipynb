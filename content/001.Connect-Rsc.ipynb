{
 "cells": [
  {
   "attachments": {},
   "cell_type": "markdown",
   "metadata": {},
   "source": [
    "# Connect-RSC\n",
    "Connects to Rubrik Security Cloud(RSC)\n",
    "\n",
    "Connecting to RSC via the SDK requires the use of a Service Account. A Service Account is a special account created inside RSC that is granted permissions it needs to run an automation task. Before continuing, please read the user guide section pertaining to Service Accounts and create one for your usage. That section can be found [here](https://docs.rubrik.com/en-us/saas/saas/service_account.html).\n",
    "\n",
    "Below we will show examples of connecting to RSC using a Service Account in different ways. \n",
    "\n",
    "---\n",
    "# Import Rubrik Security Cloud Powershell Module"
   ]
  },
  {
   "cell_type": "code",
   "execution_count": 1,
   "metadata": {
    "dotnet_interactive": {
     "language": "pwsh"
    },
    "polyglot_notebook": {
     "kernelName": "pwsh"
    }
   },
   "outputs": [],
   "source": [
    "Import-Module RubrikSecurityCloud"
   ]
  },
  {
   "attachments": {},
   "cell_type": "markdown",
   "metadata": {
    "azdata_cell_guid": "04b89945-2a0e-4d4f-b437-396ff3b58a9a"
   },
   "source": [
    "---\n",
    "\n",
    "# Connect using Service Account Values\n",
    "If you do not have the json file, but you have all of the values from the json file, you can pass each value into the appropriate parameter. It is important to note that the Client Secret parameter is expecting a secure string. Your code will look something like...\n",
    "\n",
    "```\n",
    "$ClientID = \"client|lasdfs1fZ9a2GYRBjrJqotseu\"\n",
    "$ClientSecret = ConvertTo-SecureString (\"CCzC_wY6PwVMOTdUZKktr8QL3OWlhasdlfhljasfIz314mErx\") -AsPlainText -Force\n",
    "$AccessTokenURI = \"https://rubrik-demo.my.rubrik.com/api/client_token\"\n",
    "\n",
    "Connect-RSC -Server $AccessTokenURI -ClientID $ClientID -ClientSecret $ClientSecret\n",
    "```\n",
    "Remember that the above values are security artifacts, so do not store these values in plain text in your scripts. They should be placed into a secure location. \n",
    "\n",
    "You should place values into the $ClientID, $ClientSecret, and $AccessTokenURI variables\n"
   ]
  },
  {
   "cell_type": "code",
   "execution_count": null,
   "metadata": {
    "dotnet_interactive": {
     "language": "pwsh"
    },
    "polyglot_notebook": {
     "kernelName": "pwsh"
    }
   },
   "outputs": [],
   "source": [
    "$ClientID = \"PLACE CLIENT ID HERE\"\n",
    "$ClientSecret = ConvertTo-SecureString (\"PLACE CLIENT SECRET HERE\") -AsPlainText -Force\n",
    "$AccessTokenURI = \"PLACE TOKEN URI HERE\"\n",
    "\n",
    "#Connect to RSC\n",
    "Connect-RSC -Server $AccessTokenURI -ClientID $ClientID -ClientSecret $ClientSecret"
   ]
  },
  {
   "attachments": {},
   "cell_type": "markdown",
   "metadata": {},
   "source": [
    "# Connect using a service account file\n",
    "## Create an encrypted format of the service account json file\n",
    "`Set-RscServiceAccountFile` will generate an encrypted service account (SA) file, store it in a default location, and prompt you to delete the clear-text SA file. We recommend that you delete the clear-text SA file after you have generated the encrypted one to avoid any security issues (if you ever need a clear-text SA file again, they can easily be retrieved from the RSC UI).\n",
    "\n",
    "You only need to do the step with `Set-RscServiceAccountFile` once."
   ]
  },
  {
   "cell_type": "code",
   "execution_count": null,
   "metadata": {
    "dotnet_interactive": {
     "language": "pwsh"
    },
    "polyglot_notebook": {
     "kernelName": "pwsh"
    }
   },
   "outputs": [],
   "source": [
    "Set-RscServiceAccountFile -InputFile /Users/Chris.Lumnah/Documents/RSCDemoServiceAccount.json"
   ]
  },
  {
   "cell_type": "code",
   "execution_count": 2,
   "metadata": {
    "dotnet_interactive": {
     "language": "pwsh"
    },
    "polyglot_notebook": {
     "kernelName": "pwsh"
    }
   },
   "outputs": [
    {
     "name": "stdout",
     "output_type": "stream",
     "text": [
      "\u001b[93mWARNING: Connect_Rsc: The installed RSC SDK version does not match the server version.\u001b[0m\n",
      "\n",
      "\u001b[32;1mClientId                               \u001b[0m\u001b[32;1m AuthenticationState\u001b[0m\u001b[32;1m SdkSchemaVersion\u001b[0m\u001b[32;1m ServerVersion\u001b[0m\n",
      "\u001b[32;1m--------                               \u001b[0m \u001b[32;1m-------------------\u001b[0m \u001b[32;1m----------------\u001b[0m \u001b[32;1m-------------\u001b[0m\n",
      "client|kB5og68XXrFlfXcvWhn3jlHdf1OKyJCB          AUTHORIZED v20231211-26     v20240205-15\n",
      "\n"
     ]
    }
   ],
   "source": [
    "Connect-Rsc"
   ]
  },
  {
   "attachments": {},
   "cell_type": "markdown",
   "metadata": {},
   "source": [
    "---\n",
    "\n",
    "# Disconnect from RSC\n",
    "It is important to have each script you create end by disconnecting from RSC. If you do not, then you will run into issues with token authentication exhaustion. RSC allows a Service Account to have 10 concurrent open connections to RSC. Additional requests will be denied until existing connections are closed. \n",
    "\n",
    "You can easily disconnect your connection by running the below statement. "
   ]
  },
  {
   "cell_type": "code",
   "execution_count": null,
   "metadata": {
    "azdata_cell_guid": "28f133a8-f128-4d9c-b609-9fe2a255abc9",
    "dotnet_interactive": {
     "language": "pwsh"
    },
    "language": "powershell",
    "polyglot_notebook": {
     "kernelName": "pwsh"
    }
   },
   "outputs": [],
   "source": [
    "Disconnect-Rsc"
   ]
  }
 ],
 "metadata": {
  "kernelspec": {
   "display_name": ".NET (C#)",
   "language": "C#",
   "name": ".net-csharp"
  },
  "language_info": {
   "name": "polyglot-notebook"
  },
  "polyglot_notebook": {
   "kernelInfo": {
    "defaultKernelName": "csharp",
    "items": [
     {
      "aliases": [],
      "name": ".NET"
     },
     {
      "aliases": [
       "C#",
       "c#"
      ],
      "languageName": "C#",
      "name": "csharp"
     },
     {
      "aliases": [
       "F#",
       "f#"
      ],
      "languageName": "F#",
      "name": "fsharp"
     },
     {
      "aliases": [],
      "languageName": "HTML",
      "name": "html"
     },
     {
      "aliases": [],
      "languageName": "KQL",
      "name": "kql"
     },
     {
      "aliases": [],
      "languageName": "Mermaid",
      "name": "mermaid"
     },
     {
      "aliases": [
       "powershell"
      ],
      "languageName": "PowerShell",
      "name": "pwsh"
     },
     {
      "aliases": [],
      "languageName": "SQL",
      "name": "sql"
     },
     {
      "aliases": [],
      "name": "value"
     },
     {
      "aliases": [
       "frontend"
      ],
      "name": "vscode"
     }
    ]
   }
  }
 },
 "nbformat": 4,
 "nbformat_minor": 2
}

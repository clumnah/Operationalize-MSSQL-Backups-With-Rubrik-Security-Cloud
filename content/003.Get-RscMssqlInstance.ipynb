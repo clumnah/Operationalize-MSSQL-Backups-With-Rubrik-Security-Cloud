{
 "cells": [
  {
   "cell_type": "markdown",
   "metadata": {},
   "source": [
    "# Get Information about a SQL Server Instance\n",
    "Typically, when dealing with SQL Server, you start with an Instance. This will hold true with Rubrik as well, as an Instance is the home to a database. If you search for a database in Rubrik, you could get back multiple entries for that database because there are multiple copies on different Instances. By getting the SQL Server Instance Id, you can use that later to ensure that when you search for a database, you get the database specific to an Instance. Additionally, the Instance ID will also be used for other operations like Exporting a Databaase, Live Mount, setting up Log Shipping. "
   ]
  },
  {
   "cell_type": "markdown",
   "metadata": {},
   "source": [
    "# Workflow\n",
    "To get information about the SQL Server Instance, you need to do the following\n",
    "1. Use **Connect-RSC** to Connect to RSC\n",
    "1. Use **Get-RscCluster** to get the cluster id that the SQL Server is registered. This is akin to the datacenter that the SQL Server is located in. While you can run the next command without the cluster ID, you may get more records back than expected. This is because your SQL Server Host could exist on 2 different cluster. Once as a replicated source and once as the replicated target. \n",
    "1. Use **Get-RscHost** to get the host id that the SQL Server is installed on. \n",
    "1. Use **Get-RscMssqlInstance** to get the instance id of the SQL Server based on the name of the instance and the cluster where it is located. \n",
    "1. Use **Disconnect-RSC** to disconnect from RSC"
   ]
  },
  {
   "cell_type": "markdown",
   "metadata": {},
   "source": [
    "## Connect to RSC"
   ]
  },
  {
   "cell_type": "code",
   "execution_count": 1,
   "metadata": {
    "dotnet_interactive": {
     "language": "pwsh"
    },
    "polyglot_notebook": {
     "kernelName": "pwsh"
    }
   },
   "outputs": [
    {
     "name": "stdout",
     "output_type": "stream",
     "text": [
      "\n",
      "\u001b[32;1mClientId                                AuthenticationState SdkSchemaVersion ServerVersion\u001b[0m\n",
      "\u001b[32;1m--------                                ------------------- ---------------- -------------\u001b[0m\n",
      "client|kB5og68XXrFlfXcvWhn3jlHdf1OKyJCB          AUTHORIZED v20231108-58     v20231108-58\n",
      "\n"
     ]
    }
   ],
   "source": [
    "Set-Location '/Users/Chris.Lumnah/Library/CloudStorage/GoogleDrive-chris.lumnah@rubrik.com/My Drive/1.Projects/Powershell SDK/rubrik-powershell-sdk'\n",
    "Import-Module ./output/rubriksecuritycloud -force\n",
    "# Import-Module RubrikSecurityCloud\n",
    "Connect-RSC"
   ]
  },
  {
   "cell_type": "markdown",
   "metadata": {},
   "source": [
    "## Get the Cluster ID"
   ]
  },
  {
   "cell_type": "code",
   "execution_count": 2,
   "metadata": {
    "dotnet_interactive": {
     "language": "pwsh"
    },
    "polyglot_notebook": {
     "kernelName": "pwsh"
    }
   },
   "outputs": [],
   "source": [
    "$ClusterName = \"vault-r-london\"\n",
    "$RscCluster = Get-RscCluster -Name $ClusterName"
   ]
  },
  {
   "cell_type": "markdown",
   "metadata": {},
   "source": [
    "## Get the Host Information"
   ]
  },
  {
   "cell_type": "code",
   "execution_count": 3,
   "metadata": {
    "dotnet_interactive": {
     "language": "pwsh"
    },
    "polyglot_notebook": {
     "kernelName": "pwsh"
    }
   },
   "outputs": [],
   "source": [
    "$HostName = \"rp-sql19s-001.perf.rubrik.com\"\n",
    "$RscHost = Get-RscHost -Name $HostName -OsType Windows"
   ]
  },
  {
   "cell_type": "markdown",
   "metadata": {},
   "source": [
    "## Get the Instance Information"
   ]
  },
  {
   "cell_type": "code",
   "execution_count": 4,
   "metadata": {
    "dotnet_interactive": {
     "language": "pwsh"
    },
    "polyglot_notebook": {
     "kernelName": "pwsh"
    }
   },
   "outputs": [
    {
     "name": "stdout",
     "output_type": "stream",
     "text": [
      "\n",
      "\u001b[32;1mAuthorizedOperations        : \u001b[0m\n",
      "\u001b[32;1mObjectType                  : \u001b[0mPHYSICAL_HOST\n",
      "\u001b[32;1mOsType                      : \u001b[0m\n",
      "\u001b[32;1mSlaAssignment               : \u001b[0mUNASSIGNED\n",
      "\u001b[32;1mConfiguredSlaDomain         : \u001b[0m\n",
      "\u001b[32;1mEffectiveRetentionSlaDomain : \u001b[0m\n",
      "\u001b[32;1mEffectiveSlaDomain          : \u001b[0mRubrikSecurityCloud.Types.GlobalSlaReply\n",
      "\u001b[32;1mPendingSla                  : \u001b[0m\n",
      "\u001b[32;1mReplicatedObjects           : \u001b[0m\n",
      "\u001b[32;1mAgentId                     : \u001b[0m{e0e2af29-6566-460f-986b-4ba31619316f}\n",
      "\u001b[32;1mCbtStatus                   : \u001b[0mEnabled\n",
      "\u001b[32;1mCdmId                       : \u001b[0m93c5aed0-2140-4c3a-a464-d57b8a8dcfbb\n",
      "\u001b[32;1mCdmLink                     : \u001b[0m\n",
      "\u001b[32;1mDefaultCbt                  : \u001b[0m\n",
      "\u001b[32;1mId                          : \u001b[0m9a2bc8af-3e59-5036-bfc4-a6252fd968e9\n",
      "\u001b[32;1mIpAddresses                 : \u001b[0m\n",
      "\u001b[32;1mIsArchived                  : \u001b[0mFalse\n",
      "\u001b[32;1mIsChangelistEnabled         : \u001b[0mFalse\n",
      "\u001b[32;1mIsOracleHost                : \u001b[0mFalse\n",
      "\u001b[32;1mName                        : \u001b[0mrp-sql19s-001.perf.rubrik.com\n",
      "\u001b[32;1mNasMigrationInfo            : \u001b[0m\n",
      "\u001b[32;1mNasVendorType               : \u001b[0m\n",
      "\u001b[32;1mNumWorkloadDescendants      : \u001b[0m8\n",
      "\u001b[32;1mOsName                      : \u001b[0m\n",
      "\u001b[32;1mReplicatedObjectCount       : \u001b[0m\n",
      "\u001b[32;1mSlaPauseStatus              : \u001b[0mFalse\n",
      "\u001b[32;1mVfdState                    : \u001b[0mNotInstalled\n",
      "\u001b[32;1mAllOrgs                     : \u001b[0m\n",
      "\u001b[32;1mCluster                     : \u001b[0m\n",
      "\u001b[32;1mConnectionStatus            : \u001b[0m\n",
      "\u001b[32;1mDescendantConnection        : \u001b[0m\n",
      "\u001b[32;1mEffectiveSlaSourceObject    : \u001b[0m\n",
      "\u001b[32;1mHostVolumes                 : \u001b[0m\n",
      "\u001b[32;1mLatestUserNote              : \u001b[0m\n",
      "\u001b[32;1mLogicalPath                 : \u001b[0m\n",
      "\u001b[32;1mOracleUserDetails           : \u001b[0m\n",
      "\u001b[32;1mPendingObjectDeletionStatus : \u001b[0m\n",
      "\u001b[32;1mPhysicalChildConnection     : \u001b[0mRubrikSecurityCloud.Types.PhysicalHostPhysicalChildTypeConnection\n",
      "\u001b[32;1mPhysicalPath                : \u001b[0m\n",
      "\u001b[32;1mPrimaryClusterLocation      : \u001b[0m\n",
      "\u001b[32;1mSnapshotDistribution        : \u001b[0m\n",
      "\n",
      "\n"
     ]
    }
   ],
   "source": [
    "$RscMssqlInstance = Get-RscMssqlInstance -RscHost $RscHost -RscCluster $RscCluster\n",
    "$RscMssqlInstance"
   ]
  },
  {
   "cell_type": "markdown",
   "metadata": {},
   "source": [
    "### Get the Instance ID\n",
    "All of the infomation about the host is returned. Part of the returned object is the information about the instance. It can be found under `PhysicalChildConnection.Nodes`"
   ]
  },
  {
   "cell_type": "code",
   "execution_count": 6,
   "metadata": {
    "dotnet_interactive": {
     "language": "pwsh"
    },
    "polyglot_notebook": {
     "kernelName": "pwsh"
    }
   },
   "outputs": [
    {
     "name": "stdout",
     "output_type": "stream",
     "text": [
      "\n",
      "\u001b[32;1mAuthorizedOperations        : \u001b[0m\n",
      "\u001b[32;1mObjectType                  : \u001b[0mMSSQL_INSTANCE\n",
      "\u001b[32;1mSlaAssignment               : \u001b[0mDIRECT\n",
      "\u001b[32;1mConfiguredSlaDomain         : \u001b[0m\n",
      "\u001b[32;1mEffectiveRetentionSlaDomain : \u001b[0m\n",
      "\u001b[32;1mEffectiveSlaDomain          : \u001b[0mRubrikSecurityCloud.Types.GlobalSlaReply\n",
      "\u001b[32;1mPendingSla                  : \u001b[0m\n",
      "\u001b[32;1mReplicatedObjects           : \u001b[0m\n",
      "\u001b[32;1mHasLogConfigFromSla         : \u001b[0mTrue\n",
      "\u001b[32;1mHostLogRetention            : \u001b[0m\n",
      "\u001b[32;1mId                          : \u001b[0mc4d61345-8661-581c-8b33-8aec3d24da35\n",
      "\u001b[32;1mLogBackupFrequencyInSeconds : \u001b[0m\n",
      "\u001b[32;1mLogBackupRetentionInHours   : \u001b[0m\n",
      "\u001b[32;1mName                        : \u001b[0mMSSQLSERVER\n",
      "\u001b[32;1mNumWorkloadDescendants      : \u001b[0m7\n",
      "\u001b[32;1mReplicatedObjectCount       : \u001b[0m\n",
      "\u001b[32;1mSlaPauseStatus              : \u001b[0mFalse\n",
      "\u001b[32;1mUnprotectableReasons        : \u001b[0m\n",
      "\u001b[32;1mAllOrgs                     : \u001b[0m\n",
      "\u001b[32;1mCluster                     : \u001b[0m\n",
      "\u001b[32;1mDescendantConnection        : \u001b[0m\n",
      "\u001b[32;1mEffectiveSlaSourceObject    : \u001b[0m\n",
      "\u001b[32;1mLatestUserNote              : \u001b[0m\n",
      "\u001b[32;1mLogicalChildConnection      : \u001b[0m\n",
      "\u001b[32;1mLogicalPath                 : \u001b[0m\n",
      "\u001b[32;1mPendingObjectDeletionStatus : \u001b[0m\n",
      "\u001b[32;1mPhysicalPath                : \u001b[0m\n",
      "\u001b[32;1mPrimaryClusterLocation      : \u001b[0m\n",
      "\u001b[32;1mSnapshotDistribution        : \u001b[0m\n",
      "\n",
      "\n"
     ]
    }
   ],
   "source": [
    "$RscMssqlInstance.PhysicalChildConnection.Nodes"
   ]
  },
  {
   "cell_type": "markdown",
   "metadata": {},
   "source": [
    "---\n",
    "\n",
    "# Disconnect from RSC\n",
    "It is important to have each script you create end by disconnecting from RSC. If you do not, then you will run into issues with token authentication exhaustion. RSC allows a Service Account to have 10 concurrent open connections to RSC. Additional requests will be denied until existing connections are closed. \n",
    "\n",
    "You can easily disconnect your connection by running the below statement. "
   ]
  },
  {
   "cell_type": "code",
   "execution_count": null,
   "metadata": {
    "dotnet_interactive": {
     "language": "pwsh"
    },
    "polyglot_notebook": {
     "kernelName": "pwsh"
    }
   },
   "outputs": [],
   "source": [
    "Disconnect-Rsc"
   ]
  }
 ],
 "metadata": {
  "kernelspec": {
   "display_name": ".NET (C#)",
   "language": "C#",
   "name": ".net-csharp"
  },
  "language_info": {
   "name": "polyglot-notebook"
  },
  "polyglot_notebook": {
   "kernelInfo": {
    "defaultKernelName": "csharp",
    "items": [
     {
      "aliases": [],
      "name": "csharp"
     },
     {
      "aliases": [],
      "languageName": "pwsh",
      "name": "pwsh"
     }
    ]
   }
  }
 },
 "nbformat": 4,
 "nbformat_minor": 2
}

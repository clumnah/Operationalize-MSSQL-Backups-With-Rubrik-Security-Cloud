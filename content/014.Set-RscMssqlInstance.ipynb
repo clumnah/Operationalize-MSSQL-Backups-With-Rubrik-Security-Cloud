{
 "cells": [
  {
   "cell_type": "markdown",
   "metadata": {},
   "source": [
    "# Set-RscMssqlDatabase\n",
    "Occasionally, it is required to make changes to the Rubrik configuration at the database level. The below shows how do common updates."
   ]
  },
  {
   "cell_type": "markdown",
   "metadata": {},
   "source": [
    "# Workflow\n",
    "To set information about the SQL Server Database, you need to do the following\n",
    "1. Use **Connect-RSC** to Connect to RSC\n",
    "1. Use **Get-RscCluster** to get the cluster id that the SQL Server is registered. This is akin to the datacenter that the SQL Server is located in. While you can run the next command without the cluster ID, you may get more records back than expected. This is because your SQL Server Host could exist on 2 different cluster. Once as a replicated source and once as the replicated target. \n",
    "1. Use **Get-RscHost** to get the host id that the SQL Server is installed on. \n",
    "1. Use **Get-RscMssqlInstance** to get the instance id of the SQL Server based on the name of the instance and the cluster where it is located. \n",
    "1. Use **Get-RscMssqlDatabase** to get the database ID based on the database name and the SQL Server Instance. \n",
    "1. Use **Set-RscMssqlDatabase** to make a change to the configuration of Rubrik for a specific database. \n",
    "1. Use **Disconnect-RSC** to disconnect from RSC"
   ]
  },
  {
   "cell_type": "markdown",
   "metadata": {},
   "source": [
    "## Connect to RSC"
   ]
  },
  {
   "cell_type": "code",
   "execution_count": 1,
   "metadata": {
    "dotnet_interactive": {
     "language": "pwsh"
    },
    "polyglot_notebook": {
     "kernelName": "pwsh"
    },
    "vscode": {
     "languageId": "polyglot-notebook"
    }
   },
   "outputs": [
    {
     "name": "stdout",
     "output_type": "stream",
     "text": [
      "\n",
      "\u001b[32;1mClientId                               \u001b[0m\u001b[32;1m AuthenticationState\u001b[0m\u001b[32;1m SdkSchemaVersion\u001b[0m\u001b[32;1m ServerVersion\u001b[0m\n",
      "\u001b[32;1m--------                               \u001b[0m \u001b[32;1m-------------------\u001b[0m \u001b[32;1m----------------\u001b[0m \u001b[32;1m-------------\u001b[0m\n",
      "client|kB5og68XXrFlfXcvWhn3jlHdf1OKyJCB          AUTHORIZED v20240219-20     v20240219-20\n",
      "\n"
     ]
    }
   ],
   "source": [
    "Import-Module RubrikSecurityCloud\n",
    "Connect-RSC"
   ]
  },
  {
   "cell_type": "markdown",
   "metadata": {},
   "source": [
    "## Get the Cluster ID"
   ]
  },
  {
   "cell_type": "code",
   "execution_count": 2,
   "metadata": {
    "dotnet_interactive": {
     "language": "pwsh"
    },
    "polyglot_notebook": {
     "kernelName": "pwsh"
    },
    "vscode": {
     "languageId": "polyglot-notebook"
    }
   },
   "outputs": [],
   "source": [
    "$ClusterName = \"vault-r-london\"\n",
    "$RscCluster = Get-RscCluster -Name $ClusterName"
   ]
  },
  {
   "cell_type": "markdown",
   "metadata": {},
   "source": [
    "## Get the Host Information"
   ]
  },
  {
   "cell_type": "code",
   "execution_count": 3,
   "metadata": {
    "dotnet_interactive": {
     "language": "pwsh"
    },
    "polyglot_notebook": {
     "kernelName": "pwsh"
    },
    "vscode": {
     "languageId": "polyglot-notebook"
    }
   },
   "outputs": [],
   "source": [
    "$HostName = \"rp-sql19s-001.perf.rubrik.com\"\n",
    "$RscHost = Get-RscHost -Name $HostName -OsType Windows"
   ]
  },
  {
   "cell_type": "markdown",
   "metadata": {},
   "source": [
    "## Get the Instance Information"
   ]
  },
  {
   "cell_type": "code",
   "execution_count": 4,
   "metadata": {
    "dotnet_interactive": {
     "language": "pwsh"
    },
    "polyglot_notebook": {
     "kernelName": "pwsh"
    },
    "vscode": {
     "languageId": "polyglot-notebook"
    }
   },
   "outputs": [
    {
     "name": "stdout",
     "output_type": "stream",
     "text": [
      "\n",
      "\u001b[32;1mAuthorizedOperations        : \u001b[0m\n",
      "\u001b[32;1mObjectType                  : \u001b[0mMSSQL_INSTANCE\n",
      "\u001b[32;1mSlaAssignment               : \u001b[0mDIRECT\n",
      "\u001b[32;1mConfiguredSlaDomain         : \u001b[0m\n",
      "\u001b[32;1mEffectiveRetentionSlaDomain : \u001b[0m\n",
      "\u001b[32;1mEffectiveSlaDomain          : \u001b[0mRubrikSecurityCloud.Types.GlobalSlaReply\n",
      "\u001b[32;1mPendingSla                  : \u001b[0m\n",
      "\u001b[32;1mReplicatedObjects           : \u001b[0m\n",
      "\u001b[32;1mHasLogConfigFromSla         : \u001b[0mTrue\n",
      "\u001b[32;1mHostLogRetention            : \u001b[0m\n",
      "\u001b[32;1mId                          : \u001b[0mc4d61345-8661-581c-8b33-8aec3d24da35\n",
      "\u001b[32;1mLogBackupFrequencyInSeconds : \u001b[0m\n",
      "\u001b[32;1mLogBackupRetentionInHours   : \u001b[0m\n",
      "\u001b[32;1mName                        : \u001b[0mMSSQLSERVER\n",
      "\u001b[32;1mNumWorkloadDescendants      : \u001b[0m8\n",
      "\u001b[32;1mReplicatedObjectCount       : \u001b[0m\n",
      "\u001b[32;1mSlaPauseStatus              : \u001b[0mFalse\n",
      "\u001b[32;1mUnprotectableReasons        : \u001b[0m\n",
      "\u001b[32;1mAllOrgs                     : \u001b[0m\n",
      "\u001b[32;1mCluster                     : \u001b[0m\n",
      "\u001b[32;1mDescendantConnection        : \u001b[0m\n",
      "\u001b[32;1mEffectiveSlaSourceObject    : \u001b[0m\n",
      "\u001b[32;1mLatestUserNote              : \u001b[0m\n",
      "\u001b[32;1mLogicalChildConnection      : \u001b[0m\n",
      "\u001b[32;1mLogicalPath                 : \u001b[0m\n",
      "\u001b[32;1mPendingObjectDeletionStatus : \u001b[0m\n",
      "\u001b[32;1mPhysicalPath                : \u001b[0m\n",
      "\u001b[32;1mPrimaryClusterLocation      : \u001b[0m\n",
      "\u001b[32;1mSnapshotDistribution        : \u001b[0m\n",
      "\n"
     ]
    }
   ],
   "source": [
    "$RscMssqlInstance = Get-RscMssqlInstance -RscHost $RscHost -RscCluster $RscCluster\n",
    "$RscMssqlInstance"
   ]
  },
  {
   "cell_type": "markdown",
   "metadata": {},
   "source": [
    "## Set the SLA on an Instance"
   ]
  },
  {
   "cell_type": "code",
   "execution_count": 6,
   "metadata": {
    "dotnet_interactive": {
     "language": "pwsh"
    },
    "polyglot_notebook": {
     "kernelName": "pwsh"
    },
    "vscode": {
     "languageId": "polyglot-notebook"
    }
   },
   "outputs": [
    {
     "name": "stdout",
     "output_type": "stream",
     "text": [
      "\n",
      "\u001b[32;1mItems\u001b[0m\n",
      "\u001b[32;1m-----\u001b[0m\n",
      "{}\n",
      "\n"
     ]
    },
    {
     "ename": "Error",
     "evalue": "Command failed: SubmitCode: $RscSlaDomain = Get-RscSla -Name \"MSSQL-1d-30d-NoA ...",
     "output_type": "error",
     "traceback": [
      "Command failed: SubmitCode: $RscSlaDomain = Get-RscSla -Name \"MSSQL-1d-30d-NoA ..."
     ]
    }
   ],
   "source": [
    "$RscSlaDomain = Get-RscSla -Name \"MSSQL-1d-30d-NoArchive-Repl-Houghton\"\n",
    "Set-RscMssqlInstance -RscMssqlInstance $RscMssqlInstance -RscSlaDomain $RscSlaDomain"
   ]
  },
  {
   "cell_type": "markdown",
   "metadata": {},
   "source": [
    "---\n",
    "\n",
    "# Disconnect from RSC\n",
    "It is important to have each script you create end by disconnecting from RSC. If you do not, then you will run into issues with token authentication exhaustion. RSC allows a Service Account to have 10 concurrent open connections to RSC. Additional requests will be denied until existing connections are closed. \n",
    "\n",
    "You can easily disconnect your connection by running the below statement. "
   ]
  },
  {
   "cell_type": "code",
   "execution_count": 7,
   "metadata": {
    "dotnet_interactive": {
     "language": "pwsh"
    },
    "polyglot_notebook": {
     "kernelName": "pwsh"
    },
    "vscode": {
     "languageId": "polyglot-notebook"
    }
   },
   "outputs": [
    {
     "name": "stdout",
     "output_type": "stream",
     "text": [
      "The Rubrik Security Cloud session has been terminated.\n"
     ]
    }
   ],
   "source": [
    "Disconnect-Rsc"
   ]
  }
 ],
 "metadata": {
  "kernelspec": {
   "display_name": "Python 3",
   "language": "python",
   "name": "python3"
  },
  "language_info": {
   "name": "python",
   "version": "3.12.0"
  },
  "polyglot_notebook": {
   "kernelInfo": {
    "defaultKernelName": "csharp",
    "items": [
     {
      "aliases": [],
      "name": "csharp"
     },
     {
      "aliases": [],
      "languageName": "pwsh",
      "name": "pwsh"
     }
    ]
   }
  }
 },
 "nbformat": 4,
 "nbformat_minor": 2
}

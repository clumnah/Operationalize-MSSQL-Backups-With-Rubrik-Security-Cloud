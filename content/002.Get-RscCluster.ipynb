{
 "cells": [
  {
   "cell_type": "markdown",
   "metadata": {},
   "source": [
    "# Get Information about a Rubrik Cluster\n",
    "RSC has the ability to work databases in any of the datacenters connected to RSC. This is done by having a Rubrik Vault or cluster in each data center. To be able to interact with those objects you first have to get the cluster information, specifically the ID of the cluster. "
   ]
  },
  {
   "cell_type": "code",
   "execution_count": 1,
   "metadata": {
    "dotnet_interactive": {
     "language": "pwsh"
    },
    "polyglot_notebook": {
     "kernelName": "pwsh"
    }
   },
   "outputs": [
    {
     "name": "stdout",
     "output_type": "stream",
     "text": [
      "\n",
      "Loading Rubrik Security Cloud PowerShell Module (PowerShell Core)...\n",
      "\n",
      "Welcome to the Rubrik Security Cloud PowerShell SDK!\n",
      "\n",
      "\tPlease refer to the Getting Started section of the Readme documentation: \n",
      "\thttps://github.com/rubrikinc/rubrik-powershell-sdk#getting-started\n",
      "\n",
      "\u001b[93mWARNING: Connect_Rsc: The installed RSC SDK version does not match the server version.\u001b[0m\n",
      "\n",
      "\u001b[32;1mClientId                                AuthenticationState SdkSchemaVersion ServerVersion\u001b[0m\n",
      "\u001b[32;1m--------                                ------------------- ---------------- -------------\u001b[0m\n",
      "client|kB5og68XXrFlfXcvWhn3jlHdf1OKyJCB          AUTHORIZED v20230920-45     v20231011-41\n",
      "\n"
     ]
    }
   ],
   "source": [
    "Set-Location '/Users/Chris.Lumnah/Library/CloudStorage/GoogleDrive-chris.lumnah@rubrik.com/My Drive/1.Projects/Powershell SDK/rubrik-powershell-sdk'\n",
    "Import-Module ./output/rubriksecuritycloud -force\n",
    "# Import-Module RubrikSecurityCloud\n",
    "Connect-RSC\n"
   ]
  },
  {
   "cell_type": "code",
   "execution_count": 2,
   "metadata": {
    "dotnet_interactive": {
     "language": "pwsh"
    },
    "polyglot_notebook": {
     "kernelName": "pwsh"
    }
   },
   "outputs": [
    {
     "name": "stdout",
     "output_type": "stream",
     "text": [
      "Get-RscCluster field profile: DEFAULT\n",
      "\n",
      "\u001b[32;1mLicensedProducts                : \u001b[0m\n",
      "\u001b[32;1mPauseStatus                     : \u001b[0mNOT_PAUSED\n",
      "\u001b[32;1mProductType                     : \u001b[0m\n",
      "\u001b[32;1mRegisteredMode                  : \u001b[0m\n",
      "\u001b[32;1mStatus                          : \u001b[0mCONNECTED\n",
      "\u001b[32;1mSubStatus                       : \u001b[0mDEFAULT\n",
      "\u001b[32;1mSystemStatus                    : \u001b[0mOK\n",
      "\u001b[32;1mType                            : \u001b[0mON_PREM\n",
      "\u001b[32;1mConnectivityLastUpdated         : \u001b[0m\n",
      "\u001b[32;1mDefaultAddress                  : \u001b[0m\n",
      "\u001b[32;1mDefaultPort                     : \u001b[0m\n",
      "\u001b[32;1mEncryptionEnabled               : \u001b[0m\n",
      "\u001b[32;1mEstimatedRunway                 : \u001b[0m\n",
      "\u001b[32;1mId                              : \u001b[0m86da734b-2fee-4fdc-bdc8-a73ab5648fb1\n",
      "\u001b[32;1mIsHealthy                       : \u001b[0m\n",
      "\u001b[32;1mLastConnectionTime              : \u001b[0m\n",
      "\u001b[32;1mName                            : \u001b[0mvault-f-houghton\n",
      "\u001b[32;1mNoSqlWorkloadCount              : \u001b[0m\n",
      "\u001b[32;1mPassesConnectivityCheck         : \u001b[0m\n",
      "\u001b[32;1mRegistrationTime                : \u001b[0m\n",
      "\u001b[32;1mSnapshotCount                   : \u001b[0m\n",
      "\u001b[32;1mSystemStatusMessage             : \u001b[0m1 Node Down.\n",
      "\u001b[32;1mTimezone                        : \u001b[0m\n",
      "\u001b[32;1mVersion                         : \u001b[0m9.0.0-24610\n",
      "\u001b[32;1mActivitySeriesConnection        : \u001b[0m\n",
      "\u001b[32;1mAllOrgs                         : \u001b[0m\n",
      "\u001b[32;1mAuthorizedOperations            : \u001b[0m\n",
      "\u001b[32;1mCcprovisionInfo                 : \u001b[0m\n",
      "\u001b[32;1mCdmClusterNodeDetails           : \u001b[0m\n",
      "\u001b[32;1mCdmNotificationSettings         : \u001b[0m\n",
      "\u001b[32;1mCdmUpgradeInfo                  : \u001b[0m\n",
      "\u001b[32;1mCloudInfo                       : \u001b[0m\n",
      "\u001b[32;1mClusterDiskConnection           : \u001b[0m\n",
      "\u001b[32;1mClusterNodeConnection           : \u001b[0m\n",
      "\u001b[32;1mClusterNodeStats                : \u001b[0m\n",
      "\u001b[32;1mConfigProtectionInfo            : \u001b[0m\n",
      "\u001b[32;1mDatagovAutoEnablePolicyConfig   : \u001b[0m\n",
      "\u001b[32;1mDatagovPreviewerConfig          : \u001b[0m\n",
      "\u001b[32;1mGeoLocation                     : \u001b[0m\n",
      "\u001b[32;1mGlobalManagerConnectivityStatus : \u001b[0m\n",
      "\u001b[32;1mLambdaConfig                    : \u001b[0m\n",
      "\u001b[32;1mLambdaFeatureHistory            : \u001b[0m\n",
      "\u001b[32;1mMetadataPullScheduler           : \u001b[0m\n",
      "\u001b[32;1mMetric                          : \u001b[0m\n",
      "\u001b[32;1mMetricTimeSeries                : \u001b[0m\n",
      "\u001b[32;1mReplicationSources              : \u001b[0m\n",
      "\u001b[32;1mReplicationTargets              : \u001b[0m\n",
      "\u001b[32;1mRubrikSyncStatus                : \u001b[0m\n",
      "\u001b[32;1mSnappableConnection             : \u001b[0m\n",
      "\u001b[32;1mState                           : \u001b[0m\n",
      "\u001b[32;1mSystemStatusAffectedNodes       : \u001b[0m\n",
      "\n",
      "\n"
     ]
    }
   ],
   "source": [
    "$ClusterName = \"vault-f-houghton\"\n",
    "$RubrikCluster = Get-RscCluster -Name $ClusterName\n",
    "$RubrikCluster"
   ]
  },
  {
   "cell_type": "markdown",
   "metadata": {},
   "source": [
    "---\n",
    "\n",
    "# Disconnect from RSC\n",
    "It is important to have each script you create end by disconnecting from RSC. If you do not, then you will run into issues with token authentication exhaustion. RSC allows a Service Account to have 10 concurrent open connections to RSC. Additional requests will be denied until existing connections are closed. \n",
    "\n",
    "You can easily disconnect your connection by running the below statement. "
   ]
  },
  {
   "cell_type": "code",
   "execution_count": null,
   "metadata": {
    "dotnet_interactive": {
     "language": "pwsh"
    },
    "polyglot_notebook": {
     "kernelName": "pwsh"
    }
   },
   "outputs": [
    {
     "name": "stdout",
     "output_type": "stream",
     "text": [
      "The Rubrik Security Cloud session has been terminated.\n"
     ]
    }
   ],
   "source": [
    "Disconnect-Rsc"
   ]
  }
 ],
 "metadata": {
  "kernelspec": {
   "display_name": ".NET (PowerShell)",
   "language": "PowerShell",
   "name": ".net-pwsh"
  },
  "language_info": {
   "name": "polyglot-notebook"
  },
  "polyglot_notebook": {
   "kernelInfo": {
    "defaultKernelName": "pwsh",
    "items": [
     {
      "aliases": [],
      "languageName": "pwsh",
      "name": "pwsh"
     }
    ]
   }
  }
 },
 "nbformat": 4,
 "nbformat_minor": 2
}

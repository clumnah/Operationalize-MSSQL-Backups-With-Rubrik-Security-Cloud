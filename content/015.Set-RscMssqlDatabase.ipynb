{
 "cells": [
  {
   "cell_type": "markdown",
   "metadata": {},
   "source": [
    "# Set-RscMssqlInstance\n",
    "This will allow you to assign an SLA to a MSSQL Instance."
   ]
  },
  {
   "cell_type": "markdown",
   "metadata": {},
   "source": [
    "# Workflow\n",
    "To set information about the SQL Server Database, you need to do the following\n",
    "1. Use **Connect-RSC** to Connect to RSC\n",
    "1. Use **Get-RscCluster** to get the cluster id that the SQL Server is registered. This is akin to the datacenter that the SQL Server is located in. While you can run the next command without the cluster ID, you may get more records back than expected. This is because your SQL Server Host could exist on 2 different cluster. Once as a replicated source and once as the replicated target. \n",
    "1. Use **Get-RscHost** to get the host id that the SQL Server is installed on. \n",
    "1. Use **Get-RscMssqlInstance** to get the instance id of the SQL Server based on the name of the instance and the cluster where it is located. \n",
    "1. Use **Set-RscMssqlInstance** to make a change to the configuration of Rubrik for a specific MSSQL Instance. \n",
    "1. Use **Disconnect-RSC** to disconnect from RSC"
   ]
  },
  {
   "cell_type": "markdown",
   "metadata": {},
   "source": [
    "## Connect to RSC"
   ]
  },
  {
   "cell_type": "code",
   "execution_count": 1,
   "metadata": {
    "dotnet_interactive": {
     "language": "pwsh"
    },
    "polyglot_notebook": {
     "kernelName": "pwsh"
    },
    "vscode": {
     "languageId": "polyglot-notebook"
    }
   },
   "outputs": [
    {
     "name": "stdout",
     "output_type": "stream",
     "text": [
      "\n",
      "\u001b[32;1mClientId                               \u001b[0m\u001b[32;1m AuthenticationState\u001b[0m\u001b[32;1m SdkSchemaVersion\u001b[0m\u001b[32;1m ServerVersion\u001b[0m\n",
      "\u001b[32;1m--------                               \u001b[0m \u001b[32;1m-------------------\u001b[0m \u001b[32;1m----------------\u001b[0m \u001b[32;1m-------------\u001b[0m\n",
      "client|kB5og68XXrFlfXcvWhn3jlHdf1OKyJCB          AUTHORIZED v20240219-20     v20240219-20\n",
      "\n"
     ]
    }
   ],
   "source": [
    "Import-Module RubrikSecurityCloud\n",
    "Connect-RSC"
   ]
  },
  {
   "cell_type": "markdown",
   "metadata": {},
   "source": [
    "## Get the Cluster ID"
   ]
  },
  {
   "cell_type": "code",
   "execution_count": 2,
   "metadata": {
    "dotnet_interactive": {
     "language": "pwsh"
    },
    "polyglot_notebook": {
     "kernelName": "pwsh"
    },
    "vscode": {
     "languageId": "polyglot-notebook"
    }
   },
   "outputs": [],
   "source": [
    "$ClusterName = \"vault-r-london\"\n",
    "$RscCluster = Get-RscCluster -Name $ClusterName"
   ]
  },
  {
   "cell_type": "markdown",
   "metadata": {},
   "source": [
    "## Get the Host Information"
   ]
  },
  {
   "cell_type": "code",
   "execution_count": 3,
   "metadata": {
    "dotnet_interactive": {
     "language": "pwsh"
    },
    "polyglot_notebook": {
     "kernelName": "pwsh"
    },
    "vscode": {
     "languageId": "polyglot-notebook"
    }
   },
   "outputs": [],
   "source": [
    "$HostName = \"rp-sql19s-001.perf.rubrik.com\"\n",
    "$RscHost = Get-RscHost -Name $HostName -OsType Windows"
   ]
  },
  {
   "cell_type": "markdown",
   "metadata": {},
   "source": [
    "## Get the Instance Information"
   ]
  },
  {
   "cell_type": "code",
   "execution_count": 4,
   "metadata": {
    "dotnet_interactive": {
     "language": "pwsh"
    },
    "polyglot_notebook": {
     "kernelName": "pwsh"
    },
    "vscode": {
     "languageId": "polyglot-notebook"
    }
   },
   "outputs": [],
   "source": [
    "$RscMssqlInstance = Get-RscMssqlInstance -RscHost $RscHost -RscCluster $RscCluster"
   ]
  },
  {
   "cell_type": "markdown",
   "metadata": {},
   "source": [
    "## Get the Database Information"
   ]
  },
  {
   "cell_type": "code",
   "execution_count": 5,
   "metadata": {
    "dotnet_interactive": {
     "language": "pwsh"
    },
    "polyglot_notebook": {
     "kernelName": "pwsh"
    },
    "vscode": {
     "languageId": "polyglot-notebook"
    }
   },
   "outputs": [
    {
     "name": "stdout",
     "output_type": "stream",
     "text": [
      "\n",
      "\u001b[32;1mAuthorizedOperations            : \u001b[0m\n",
      "\u001b[32;1mObjectType                      : \u001b[0mMSSQL\n",
      "\u001b[32;1mSlaAssignment                   : \u001b[0mDERIVED\n",
      "\u001b[32;1mConfiguredSlaDomain             : \u001b[0m\n",
      "\u001b[32;1mEffectiveRetentionSlaDomain     : \u001b[0m\n",
      "\u001b[32;1mEffectiveSlaDomain              : \u001b[0mRubrikSecurityCloud.Types.GlobalSlaReply\n",
      "\u001b[32;1mPendingSla                      : \u001b[0m\n",
      "\u001b[32;1mReplicatedObjects               : \u001b[0m\n",
      "\u001b[32;1mCdmId                           : \u001b[0m42527305-5e85-4777-8689-955237d3d951\n",
      "\u001b[32;1mCdmLink                         : \u001b[0m\n",
      "\u001b[32;1mCdmOnDemandSnapshotCount        : \u001b[0m\n",
      "\u001b[32;1mCopyOnly                        : \u001b[0mFalse\n",
      "\u001b[32;1mDagId                           : \u001b[0m9024703f-4510-5209-b3bb-52b7115ad5b9\n",
      "\u001b[32;1mHasLogConfigFromSla             : \u001b[0mTrue\n",
      "\u001b[32;1mHasPermissions                  : \u001b[0mTrue\n",
      "\u001b[32;1mHostLogRetention                : \u001b[0m-1\n",
      "\u001b[32;1mId                              : \u001b[0ma3ca658f-3a80-5a3f-8108-a2156e5fd6a3\n",
      "\u001b[32;1mIsInAvailabilityGroup           : \u001b[0mFalse\n",
      "\u001b[32;1mIsLogShippingSecondary          : \u001b[0mFalse\n",
      "\u001b[32;1mIsMount                         : \u001b[0mFalse\n",
      "\u001b[32;1mIsOnline                        : \u001b[0mTrue\n",
      "\u001b[32;1mIsRelic                         : \u001b[0mFalse\n",
      "\u001b[32;1mLogBackupFrequencyInSeconds     : \u001b[0m-2\n",
      "\u001b[32;1mLogBackupRetentionInHours       : \u001b[0m-3\n",
      "\u001b[32;1mName                            : \u001b[0mAdventureWorks2019\n",
      "\u001b[32;1mNumWorkloadDescendants          : \u001b[0m0\n",
      "\u001b[32;1mOnDemandSnapshotCount           : \u001b[0m\n",
      "\u001b[32;1mPostBackupScript                : \u001b[0m{\"scriptPath\":\"c:\\\\rubrik\\\\scripts\\\\dosomething.bat\",\"timeoutMs\":\n",
      "                                  5000,\"scriptErrorAction\":\"continue\"}\n",
      "\u001b[32;1mPreBackupScript                 : \u001b[0m{\"scriptPath\":\"c:\\\\rubrik\\\\scripts\\\\dosomething.bat\",\"timeoutMs\":\n",
      "                                  5000,\"scriptErrorAction\":\"abort\"}\n",
      "\u001b[32;1mRecoveryModel                   : \u001b[0m\n",
      "\u001b[32;1mReplicatedObjectCount           : \u001b[0m\n",
      "\u001b[32;1mSlaPauseStatus                  : \u001b[0mFalse\n",
      "\u001b[32;1mUnprotectableReasons            : \u001b[0m\n",
      "\u001b[32;1mAllOrgs                         : \u001b[0m\n",
      "\u001b[32;1mCdmGroupedSnapshots             : \u001b[0m\n",
      "\u001b[32;1mCdmNewestSnapshot               : \u001b[0m\n",
      "\u001b[32;1mCdmOldestSnapshot               : \u001b[0m\n",
      "\u001b[32;1mCdmSnapshots                    : \u001b[0m\n",
      "\u001b[32;1mCluster                         : \u001b[0m\n",
      "\u001b[32;1mEffectiveSlaSourceObject        : \u001b[0m\n",
      "\u001b[32;1mLatestUserNote                  : \u001b[0m\n",
      "\u001b[32;1mLiveMounts                      : \u001b[0m\n",
      "\u001b[32;1mLogicalPath                     : \u001b[0m\n",
      "\u001b[32;1mMissedSnapshotConnection        : \u001b[0m\n",
      "\u001b[32;1mMissedSnapshotGroupByConnection : \u001b[0m\n",
      "\u001b[32;1mNewestArchivedSnapshot          : \u001b[0m\n",
      "\u001b[32;1mNewestIndexedSnapshot           : \u001b[0m\n",
      "\u001b[32;1mNewestReplicatedSnapshot        : \u001b[0m\n",
      "\u001b[32;1mNewestSnapshot                  : \u001b[0m\n",
      "\u001b[32;1mOldestSnapshot                  : \u001b[0m\n",
      "\u001b[32;1mPendingObjectDeletionStatus     : \u001b[0m\n",
      "\u001b[32;1mPhysicalPath                    : \u001b[0m{MSSQLSERVER, rp-sql19s-001.perf.rubrik.com}\n",
      "\u001b[32;1mPrimaryClusterLocation          : \u001b[0m\n",
      "\u001b[32;1mReplicas                        : \u001b[0m\n",
      "\u001b[32;1mSnapshotConnection              : \u001b[0m\n",
      "\u001b[32;1mSnapshotDistribution            : \u001b[0m\n",
      "\u001b[32;1mSnapshotGroupByConnection       : \u001b[0m\n",
      "\u001b[32;1mSnapshotGroupBySummary          : \u001b[0m\n",
      "\n"
     ]
    }
   ],
   "source": [
    "$DatabaseName = \"AdventureWorks2019\"\n",
    "$RscMssqlDatabase = Get-RscMssqlDatabase -Name $DatabaseName  -RscMssqlInstance $RscMssqlInstance\n",
    "$RscMssqlDatabase"
   ]
  },
  {
   "cell_type": "markdown",
   "metadata": {},
   "source": [
    "## Change the configuration of Rubrik for the database\n",
    "### Set DO NOT PROTECT on a database\n",
    "This is used to tell Rubrik to not backup a database"
   ]
  },
  {
   "cell_type": "code",
   "execution_count": 6,
   "metadata": {
    "dotnet_interactive": {
     "language": "pwsh"
    },
    "polyglot_notebook": {
     "kernelName": "pwsh"
    },
    "vscode": {
     "languageId": "polyglot-notebook"
    }
   },
   "outputs": [
    {
     "name": "stdout",
     "output_type": "stream",
     "text": [
      "\n",
      "\u001b[32;1mItems\u001b[0m\n",
      "\u001b[32;1m-----\u001b[0m\n",
      "{}\n",
      "\n"
     ]
    }
   ],
   "source": [
    "Set-RscMssqlDatabase -RscMssqlDatabase $RscMssqlDatabase -RscCluster $RscCluster -DoNotProtect -ExistingSnapshotRetention RETAIN_SNAPSHOTS"
   ]
  },
  {
   "cell_type": "markdown",
   "metadata": {},
   "source": [
    "### Set \"Clear Existing assignment\"\n",
    "This is used to tell Rubrik clear the direct assignment and revert back to the SLA assignment from a higher level. Effectively reverses the DO NOT PROTECT setting. "
   ]
  },
  {
   "cell_type": "code",
   "execution_count": 7,
   "metadata": {
    "dotnet_interactive": {
     "language": "pwsh"
    },
    "polyglot_notebook": {
     "kernelName": "pwsh"
    },
    "vscode": {
     "languageId": "polyglot-notebook"
    }
   },
   "outputs": [
    {
     "name": "stdout",
     "output_type": "stream",
     "text": [
      "\n",
      "\u001b[32;1mItems\u001b[0m\n",
      "\u001b[32;1m-----\u001b[0m\n",
      "{}\n",
      "\n"
     ]
    }
   ],
   "source": [
    "Set-RscMssqlDatabase -RscMssqlDatabase $RscMssqlDatabase -RscCluster $RscCluster -ClearExistingProtection"
   ]
  },
  {
   "cell_type": "markdown",
   "metadata": {},
   "source": [
    "### Set an SLA to the database\n",
    "This should only be used when the database needs a specific SLA that differs from the Host/Instance assigned SLA"
   ]
  },
  {
   "cell_type": "code",
   "execution_count": 8,
   "metadata": {
    "dotnet_interactive": {
     "language": "pwsh"
    },
    "polyglot_notebook": {
     "kernelName": "pwsh"
    },
    "vscode": {
     "languageId": "polyglot-notebook"
    }
   },
   "outputs": [
    {
     "name": "stdout",
     "output_type": "stream",
     "text": [
      "\n",
      "\u001b[32;1mItems\u001b[0m\n",
      "\u001b[32;1m-----\u001b[0m\n",
      "{}\n",
      "\n"
     ]
    }
   ],
   "source": [
    "$RscSlaDomain = Get-RscSla -Name \"lumnah test\"\n",
    "Set-RscMssqlDatabase -RscMssqlDatabase $RscMssqlDatabase -RscCluster $RscCluster -RscSlaDomain $RscSlaDomain"
   ]
  },
  {
   "cell_type": "markdown",
   "metadata": {},
   "source": [
    "As part of the assigning of the SLA, there are various options to set in addition to the SLA Domain.\n",
    "#### Configuring Log Backups\n",
    "Enabling log backups ensures that Point In Time Recovery is available for a database. "
   ]
  },
  {
   "cell_type": "code",
   "execution_count": 9,
   "metadata": {
    "dotnet_interactive": {
     "language": "pwsh"
    },
    "polyglot_notebook": {
     "kernelName": "pwsh"
    },
    "vscode": {
     "languageId": "polyglot-notebook"
    }
   },
   "outputs": [
    {
     "name": "stdout",
     "output_type": "stream",
     "text": [
      "\n",
      "\u001b[32;1mItems\u001b[0m\n",
      "\u001b[32;1m-----\u001b[0m\n",
      "{}\n",
      "\n"
     ]
    }
   ],
   "source": [
    "$RscSlaDomain = Get-RscSla -Name \"lumnah test\"\n",
    "Set-RscMssqlDatabase -RscMssqlDatabase $RscMssqlDatabase -RscCluster $RscCluster -RscSlaDomain $RscSlaDomain -EnableLogBackups -UseSLALogConfig"
   ]
  },
  {
   "cell_type": "code",
   "execution_count": 10,
   "metadata": {
    "dotnet_interactive": {
     "language": "pwsh"
    },
    "polyglot_notebook": {
     "kernelName": "pwsh"
    },
    "vscode": {
     "languageId": "polyglot-notebook"
    }
   },
   "outputs": [
    {
     "name": "stdout",
     "output_type": "stream",
     "text": [
      "\n",
      "\u001b[32;1mItems\u001b[0m\n",
      "\u001b[32;1m-----\u001b[0m\n",
      "{}\n",
      "\n"
     ]
    }
   ],
   "source": [
    "$RscSlaDomain = Get-RscSla -Name \"lumnah test\"\n",
    "Set-RscMssqlDatabase -RscMssqlDatabase $RscMssqlDatabase -RscCluster $RscCluster -RscSlaDomain $RscSlaDomain -EnableLogBackups -logBackupFrequencyInSeconds 3600 -logRetentionHours 168"
   ]
  },
  {
   "cell_type": "markdown",
   "metadata": {},
   "source": [
    "#### Pause Backups"
   ]
  },
  {
   "cell_type": "code",
   "execution_count": 11,
   "metadata": {
    "dotnet_interactive": {
     "language": "pwsh"
    },
    "polyglot_notebook": {
     "kernelName": "pwsh"
    },
    "vscode": {
     "languageId": "polyglot-notebook"
    }
   },
   "outputs": [
    {
     "name": "stdout",
     "output_type": "stream",
     "text": [
      "\n",
      "\u001b[32;1mItems\u001b[0m\n",
      "\u001b[32;1m-----\u001b[0m\n",
      "{77E231CA-551B-4E6D-8B2F-5FE0FF93504F}\n",
      "\n"
     ]
    }
   ],
   "source": [
    "Set-RscMssqlDatabase -RscMssqlDatabase $RscMssqlDatabase -RscCluster $RscCluster -isPaused "
   ]
  },
  {
   "cell_type": "markdown",
   "metadata": {},
   "source": [
    "#### Resume Backups"
   ]
  },
  {
   "cell_type": "code",
   "execution_count": 12,
   "metadata": {
    "dotnet_interactive": {
     "language": "pwsh"
    },
    "polyglot_notebook": {
     "kernelName": "pwsh"
    },
    "vscode": {
     "languageId": "polyglot-notebook"
    }
   },
   "outputs": [
    {
     "name": "stdout",
     "output_type": "stream",
     "text": [
      "\n",
      "\u001b[32;1mItems\u001b[0m\n",
      "\u001b[32;1m-----\u001b[0m\n",
      "{77E231CA-551B-4E6D-8B2F-5FE0FF93504F}\n",
      "\n"
     ]
    }
   ],
   "source": [
    "Set-RscMssqlDatabase -RscMssqlDatabase $RscMssqlDatabase -RscCluster $RscCluster -isPaused:$false"
   ]
  },
  {
   "cell_type": "markdown",
   "metadata": {},
   "source": [
    "#### Configure Host Log Retention"
   ]
  },
  {
   "cell_type": "code",
   "execution_count": 13,
   "metadata": {
    "dotnet_interactive": {
     "language": "pwsh"
    },
    "polyglot_notebook": {
     "kernelName": "pwsh"
    },
    "vscode": {
     "languageId": "polyglot-notebook"
    }
   },
   "outputs": [
    {
     "name": "stdout",
     "output_type": "stream",
     "text": [
      "\n",
      "\u001b[32;1mItems\u001b[0m\n",
      "\u001b[32;1m-----\u001b[0m\n",
      "{}\n",
      "\n"
     ]
    }
   ],
   "source": [
    "$RscSlaDomain = Get-RscSla -Name \"lumnah test\"\n",
    "Set-RscMssqlDatabase -RscMssqlDatabase $RscMssqlDatabase -RscCluster $RscCluster -RscSlaDomain $RscSlaDomain -EnableLogBackups -EnableHostLogRetention -HostLogRetentionInSeconds 3600"
   ]
  },
  {
   "cell_type": "markdown",
   "metadata": {},
   "source": [
    "#### Disable Host Log Retention"
   ]
  },
  {
   "cell_type": "code",
   "execution_count": 14,
   "metadata": {
    "dotnet_interactive": {
     "language": "pwsh"
    },
    "polyglot_notebook": {
     "kernelName": "pwsh"
    },
    "vscode": {
     "languageId": "polyglot-notebook"
    }
   },
   "outputs": [
    {
     "name": "stdout",
     "output_type": "stream",
     "text": [
      "\n",
      "\u001b[32;1mItems\u001b[0m\n",
      "\u001b[32;1m-----\u001b[0m\n",
      "{}\n",
      "\n"
     ]
    }
   ],
   "source": [
    "$RscSlaDomain = Get-RscSla -Name \"lumnah test\"\n",
    "Set-RscMssqlDatabase -RscMssqlDatabase $RscMssqlDatabase -RscCluster $RscCluster -RscSlaDomain $RscSlaDomain -EnableLogBackups"
   ]
  },
  {
   "cell_type": "markdown",
   "metadata": {},
   "source": [
    "#### Set Pre-Script"
   ]
  },
  {
   "cell_type": "code",
   "execution_count": 15,
   "metadata": {
    "dotnet_interactive": {
     "language": "pwsh"
    },
    "polyglot_notebook": {
     "kernelName": "pwsh"
    },
    "vscode": {
     "languageId": "polyglot-notebook"
    }
   },
   "outputs": [
    {
     "name": "stdout",
     "output_type": "stream",
     "text": [
      "\n",
      "\u001b[32;1mItems\u001b[0m\n",
      "\u001b[32;1m-----\u001b[0m\n",
      "{77E231CA-551B-4E6D-8B2F-5FE0FF93504F}\n",
      "\n"
     ]
    }
   ],
   "source": [
    "$PreBackupScriptPath = \"c:\\rubrik\\scripts\\dosomething.bat\"\n",
    "$PreBackupScriptTimeoutMs = 5000\n",
    "Set-RscMssqlDatabase -RscMssqlDatabase $RscMssqlDatabase `\n",
    "    -RscCluster $RscCluster `\n",
    "    -PreBackupScriptErrorAction \"SCRIPT_ERROR_ACTION_ABORT\" `\n",
    "    -PreBackupScriptPath $PreBackupScriptPath `\n",
    "    -PreBackupScriptTimeoutMs $PreBackupScriptTimeoutMs"
   ]
  },
  {
   "cell_type": "markdown",
   "metadata": {},
   "source": [
    "#### Set Post-Script"
   ]
  },
  {
   "cell_type": "code",
   "execution_count": 16,
   "metadata": {
    "dotnet_interactive": {
     "language": "pwsh"
    },
    "polyglot_notebook": {
     "kernelName": "pwsh"
    },
    "vscode": {
     "languageId": "polyglot-notebook"
    }
   },
   "outputs": [
    {
     "name": "stdout",
     "output_type": "stream",
     "text": [
      "\n",
      "\u001b[32;1mItems\u001b[0m\n",
      "\u001b[32;1m-----\u001b[0m\n",
      "{77E231CA-551B-4E6D-8B2F-5FE0FF93504F}\n",
      "\n"
     ]
    }
   ],
   "source": [
    "$PostBackupScriptPath = \"c:\\rubrik\\scripts\\dosomething.bat\"\n",
    "$PostBackupScriptTimeoutMs = 5000\n",
    "Set-RscMssqlDatabase -RscMssqlDatabase $RscMssqlDatabase `\n",
    "    -RscCluster $RscCluster `\n",
    "    -PostBackupScriptErrorAction \"SCRIPT_ERROR_ACTION_CONTINUE\" `\n",
    "    -PostBackupScriptPath $PostBackupScriptPath `\n",
    "    -PostBackupScriptTimeoutMs $PostBackupScriptTimeoutMs"
   ]
  },
  {
   "cell_type": "markdown",
   "metadata": {},
   "source": [
    "#### Remove Pre Scipt\n",
    "**Currently this will not work as the endpoint does not allow for it to be removed**"
   ]
  },
  {
   "cell_type": "code",
   "execution_count": null,
   "metadata": {
    "dotnet_interactive": {
     "language": "pwsh"
    },
    "polyglot_notebook": {
     "kernelName": "pwsh"
    },
    "vscode": {
     "languageId": "polyglot-notebook"
    }
   },
   "outputs": [],
   "source": [
    "Set-RscMssqlDatabase -RscMssqlDatabase $RscMssqlDatabase `\n",
    "    -RscCluster $RscCluster `\n",
    "    -RemovePreBackupScript"
   ]
  },
  {
   "cell_type": "markdown",
   "metadata": {},
   "source": [
    "#### Remove Post Scipt\n",
    "**Currently this will not work as the endpoint does not allow for it to be removed**"
   ]
  },
  {
   "cell_type": "code",
   "execution_count": null,
   "metadata": {
    "dotnet_interactive": {
     "language": "pwsh"
    },
    "polyglot_notebook": {
     "kernelName": "pwsh"
    },
    "vscode": {
     "languageId": "polyglot-notebook"
    }
   },
   "outputs": [],
   "source": [
    "Set-RscMssqlDatabase -RscMssqlDatabase $RscMssqlDatabase `\n",
    "    -RscCluster $RscCluster `\n",
    "    -RemovePostBackupScript"
   ]
  },
  {
   "cell_type": "markdown",
   "metadata": {},
   "source": [
    "---\n",
    "\n",
    "# Disconnect from RSC\n",
    "It is important to have each script you create end by disconnecting from RSC. If you do not, then you will run into issues with token authentication exhaustion. RSC allows a Service Account to have 10 concurrent open connections to RSC. Additional requests will be denied until existing connections are closed. \n",
    "\n",
    "You can easily disconnect your connection by running the below statement. "
   ]
  },
  {
   "cell_type": "code",
   "execution_count": 17,
   "metadata": {
    "dotnet_interactive": {
     "language": "pwsh"
    },
    "polyglot_notebook": {
     "kernelName": "pwsh"
    },
    "vscode": {
     "languageId": "polyglot-notebook"
    }
   },
   "outputs": [
    {
     "name": "stdout",
     "output_type": "stream",
     "text": [
      "The Rubrik Security Cloud session has been terminated.\n"
     ]
    }
   ],
   "source": [
    "Disconnect-Rsc"
   ]
  }
 ],
 "metadata": {
  "kernelspec": {
   "display_name": "Python 3",
   "language": "python",
   "name": "python3"
  },
  "language_info": {
   "name": "python",
   "version": "3.12.0"
  },
  "polyglot_notebook": {
   "kernelInfo": {
    "defaultKernelName": "csharp",
    "items": [
     {
      "aliases": [],
      "name": "csharp"
     },
     {
      "aliases": [],
      "languageName": "pwsh",
      "name": "pwsh"
     }
    ]
   }
  }
 },
 "nbformat": 4,
 "nbformat_minor": 2
}

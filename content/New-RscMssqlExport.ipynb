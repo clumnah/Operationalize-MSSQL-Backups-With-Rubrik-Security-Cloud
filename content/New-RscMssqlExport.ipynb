{
 "cells": [
  {
   "cell_type": "markdown",
   "metadata": {},
   "source": [
    "# New-RscMssqlExport\n",
    "In Rubrik, an export is a database recovery that you control all the parameters of. You can restore a database to a different instance or to the same instance as a different name. You can control the paths and filenames of the recovered database. You can control if the database should be fully recovered or left in NORECOVERY mode. You can control if you overwrite the target database or not. \n",
    "\n",
    "New-RscMssqlExport has multiple parameters, but the important ones to understand for most workflows are:\n",
    "- RscMssqlDatabase: This will be the object returned from Get-RscMssqlDatabase\n",
    "- RecoveryDateTime: This will be a value returned from Get-RscMssqlDatabaseRecoveryPoint\n",
    "- TargetMssqlInstance: This will be the object returned from Get-RscMssqlInstance\n",
    "- TargetDatabaseName: The name of the newly created database from the restore\n",
    "- TargetDataPath & TargeLogPath: Used for the location of all data and log files of the database. This would be for the Simple Method in the UI.\n",
    "- TargetFilePaths: Used for the location of all data and log files of the database. This would be the Advanced Method in the UI.  You are providing a hashtable with each file listed. You can get a list of files from Get-RscMssqlDatabaseFiles\n",
    "- Overwrite: Used to denote if the target database should be overwritten \n",
    "- FinishRecovery: Ommitting this switch will restore the database into NORECOVERY mode. "
   ]
  },
  {
   "cell_type": "markdown",
   "metadata": {},
   "source": [
    "# Workflow\n",
    "To start an Export (Recovery) of a database, you need to do the following\n",
    "1. Use **Connect-RSC** to Connect to RSC\n",
    "1. Use **Get-RscCluster** to get the cluster id that the SQL Server is registered. This is akin to the datacenter that the SQL Server is located in. While you can run the next command without the cluster ID, you may get more records back than expected. This is because your SQL Server Host could exist on 2 different cluster. Once as a replicated source and once as the replicated target. \n",
    "1. Use **Get-RscMssqlInstance** to get the instance id of the SQL Server based on the name of the instance and the cluster where it is located. \n",
    "1. Use **Get-RscMssqlDatabase** to get the database ID based on the database name and the SQL Server Instance. \n",
    "1. Use **Get-RscMssqlDatabaseRecoveryPoint** to get the fully formatted date that corresponds to the recovery point selected.\n",
    "1. Use **Get-RscMssqlDatabaseFiles** to get the list of files from the backup. \n",
    "1. Use **Get-RscMssqlInstance** to get the instance id of the Target SQL Server based on the name of the instance and the cluster where it is located. \n",
    "1. Use **New-RscMssqlExport** to start an in place restore of the database to the point in time provided. \n",
    "1. Use **Get-RscRequest** to track the request and know when it completes. ***DOES NOT EXIST YET***\n",
    "1. Use **Disconnect-RSC** to disconnect from RSC"
   ]
  },
  {
   "cell_type": "markdown",
   "metadata": {},
   "source": [
    "## Connect to RSC"
   ]
  },
  {
   "cell_type": "code",
   "execution_count": 1,
   "metadata": {
    "dotnet_interactive": {
     "language": "pwsh"
    },
    "polyglot_notebook": {
     "kernelName": "pwsh"
    }
   },
   "outputs": [
    {
     "name": "stdout",
     "output_type": "stream",
     "text": [
      "\n",
      "\u001b[32;1mClientId                               \u001b[0m\u001b[32;1m AuthenticationState\u001b[0m\u001b[32;1m SdkSchemaVersion\u001b[0m\u001b[32;1m ServerVersion\u001b[0m\n",
      "\u001b[32;1m--------                               \u001b[0m \u001b[32;1m-------------------\u001b[0m \u001b[32;1m----------------\u001b[0m \u001b[32;1m-------------\u001b[0m\n",
      "client|kB5og68XXrFlfXcvWhn3jlHdf1OKyJCB          AUTHORIZED v20240325-21     v20240325-21\n",
      "\n"
     ]
    }
   ],
   "source": [
    "Import-Module RubrikSecurityCloud\n",
    "Connect-RSC"
   ]
  },
  {
   "cell_type": "markdown",
   "metadata": {},
   "source": [
    "## Get the Cluster ID"
   ]
  },
  {
   "cell_type": "code",
   "execution_count": 2,
   "metadata": {
    "dotnet_interactive": {
     "language": "pwsh"
    },
    "polyglot_notebook": {
     "kernelName": "pwsh"
    }
   },
   "outputs": [],
   "source": [
    "$ClusterName = \"vault-r-london\"\n",
    "$RscCluster = Get-RscCluster -Name $ClusterName"
   ]
  },
  {
   "cell_type": "markdown",
   "metadata": {},
   "source": [
    "## Get the Instance Information"
   ]
  },
  {
   "cell_type": "code",
   "execution_count": 3,
   "metadata": {
    "dotnet_interactive": {
     "language": "pwsh"
    },
    "polyglot_notebook": {
     "kernelName": "pwsh"
    }
   },
   "outputs": [],
   "source": [
    "$HostName = \"rp-sql19s-001.perf.rubrik.com\"\n",
    "$RscMssqlInstance = Get-RscMssqlInstance -RscCluster $RscCluster -HostName $HostName"
   ]
  },
  {
   "cell_type": "markdown",
   "metadata": {},
   "source": [
    "## Get the Database Information"
   ]
  },
  {
   "cell_type": "code",
   "execution_count": 4,
   "metadata": {
    "dotnet_interactive": {
     "language": "pwsh"
    },
    "polyglot_notebook": {
     "kernelName": "pwsh"
    }
   },
   "outputs": [],
   "source": [
    "$DatabaseName = \"AdventureWorks2019\"\n",
    "$RscMssqlDatabase = Get-RscMssqlDatabase -Name $DatabaseName  -RscMssqlInstance $RscMssqlInstance"
   ]
  },
  {
   "cell_type": "markdown",
   "metadata": {},
   "source": [
    "## Get the fully formatted recovery point"
   ]
  },
  {
   "cell_type": "code",
   "execution_count": 5,
   "metadata": {
    "dotnet_interactive": {
     "language": "pwsh"
    },
    "polyglot_notebook": {
     "kernelName": "pwsh"
    }
   },
   "outputs": [],
   "source": [
    "$RecoveryDateTime = Get-RscMssqlDatabaseRecoveryPoint -RscMssqlDatabase $RscMssqlDatabase -Latest"
   ]
  },
  {
   "cell_type": "markdown",
   "metadata": {},
   "source": [
    "## Get the Target Instance Information"
   ]
  },
  {
   "cell_type": "code",
   "execution_count": 6,
   "metadata": {
    "dotnet_interactive": {
     "language": "pwsh"
    },
    "polyglot_notebook": {
     "kernelName": "pwsh"
    }
   },
   "outputs": [],
   "source": [
    "$HostName = \"rp-sql19s-001.perf.rubrik.com\"\n",
    "$TargetMssqlInstance = Get-RscMssqlInstance -RscCluster $RscCluster -HostName $HostName"
   ]
  },
  {
   "cell_type": "markdown",
   "metadata": {},
   "source": [
    "## Export using the Simple Method"
   ]
  },
  {
   "cell_type": "code",
   "execution_count": 7,
   "metadata": {
    "dotnet_interactive": {
     "language": "pwsh"
    },
    "polyglot_notebook": {
     "kernelName": "pwsh"
    }
   },
   "outputs": [
    {
     "name": "stdout",
     "output_type": "stream",
     "text": [
      "\n",
      "\u001b[32;1mEndTime   : \u001b[0m\n",
      "\u001b[32;1mId        : \u001b[0mRESTORE_MSSQL_DB_138e0fbc-c0f8-4df2-97b4-3338258e49c1_4af8f4b2-f8bf-4d76-8b7c-d6d59bbc8\n",
      "            0d1:::0\n",
      "\u001b[32;1mNodeId    : \u001b[0m\n",
      "\u001b[32;1mProgress  : \u001b[0m\n",
      "\u001b[32;1mStartTime : \u001b[0m\n",
      "\u001b[32;1mStatus    : \u001b[0mQUEUED\n",
      "\u001b[32;1mError     : \u001b[0m\n",
      "\u001b[32;1mLinks     : \u001b[0m\n",
      "\n"
     ]
    }
   ],
   "source": [
    "$NewRscMssqlExport = @{\n",
    "    RscMssqlDatabase = $RscMssqlDatabase\n",
    "    RecoveryDateTime = $RecoveryDateTime\n",
    "    TargetMssqlInstance = $TargetMssqlInstance\n",
    "    TargetDatabaseName = \"test_simple_method\"\n",
    "    TargetDataPath = \"c:\\mnt\\sqldata\\\"\n",
    "    TargeLogPath = \"c:\\mnt\\sqllogs\\\"\n",
    "    Overwrite = $true\n",
    "}\n",
    "New-RscMssqlExport @NewRscMssqlExport"
   ]
  },
  {
   "cell_type": "markdown",
   "metadata": {},
   "source": [
    "## Get list of files of the database from the backup"
   ]
  },
  {
   "cell_type": "code",
   "execution_count": 8,
   "metadata": {
    "dotnet_interactive": {
     "language": "pwsh"
    },
    "polyglot_notebook": {
     "kernelName": "pwsh"
    }
   },
   "outputs": [
    {
     "name": "stdout",
     "output_type": "stream",
     "text": [
      "\n",
      "\u001b[32;1mFileType     : \u001b[0mMSSQL_DATABASE_FILE_TYPE_DATA\n",
      "\u001b[32;1mFileId       : \u001b[0m1\n",
      "\u001b[32;1mLogicalName  : \u001b[0mAdventureWorks2017\n",
      "\u001b[32;1mOriginalName : \u001b[0mAdventureWorks2019.mdf\n",
      "\u001b[32;1mOriginalPath : \u001b[0mc:\\mnt\\sqldata\n",
      "\n",
      "\u001b[32;1mFileType     : \u001b[0mMSSQL_DATABASE_FILE_TYPE_LOG\n",
      "\u001b[32;1mFileId       : \u001b[0m2\n",
      "\u001b[32;1mLogicalName  : \u001b[0mAdventureWorks2017_log\n",
      "\u001b[32;1mOriginalName : \u001b[0mAdventureWorks2019_log.ldf\n",
      "\u001b[32;1mOriginalPath : \u001b[0mc:\\mnt\\sqllogs\n",
      "\n"
     ]
    }
   ],
   "source": [
    "$RscMssqlDatabaseFiles = Get-RscMssqlDatabaseFiles -RscMssqlDatabase $RscMssqlDatabase -RecoveryDateTime $RecoveryDateTime\n",
    "$RscMssqlDatabaseFiles"
   ]
  },
  {
   "cell_type": "markdown",
   "metadata": {},
   "source": [
    "## Create hash table of files"
   ]
  },
  {
   "cell_type": "code",
   "execution_count": 9,
   "metadata": {
    "dotnet_interactive": {
     "language": "pwsh"
    },
    "polyglot_notebook": {
     "kernelName": "pwsh"
    }
   },
   "outputs": [
    {
     "name": "stdout",
     "output_type": "stream",
     "text": [
      "\n",
      "\u001b[32;1mName                          \u001b[0m\u001b[32;1m Value\u001b[0m\n",
      "\u001b[32;1m----                          \u001b[0m \u001b[32;1m-----\u001b[0m\n",
      "newFilename                    Lumnah_Test.mdf\n",
      "logicalName                    AdventureWorks2017\n",
      "exportPath                     c:\\mnt\\sqldata\n",
      "newFilename                    Lumnah_Test_log.ldf\n",
      "logicalName                    AdventureWorks2017_log\n",
      "exportPath                     c:\\mnt\\sqllogs\n",
      "\n"
     ]
    }
   ],
   "source": [
    "$TargetFilePaths = @()\n",
    "foreach($File in $RscMssqlDatabaseFiles){\n",
    "    If ($File.FileType -eq 'MSSQL_DATABASE_FILE_TYPE_DATA'){\n",
    "        $TargetDataPath = @{\n",
    "            exportPath = $File.OriginalPath\n",
    "            logicalName = $File.LogicalName\n",
    "            newFilename = \"Lumnah_Test.mdf\"\n",
    "        }\n",
    "        $TargetFilePaths += $TargetDataPath\n",
    "    }\n",
    "\n",
    "    If ($File.FileType -eq 'MSSQL_DATABASE_FILE_TYPE_LOG'){\n",
    "        $TargetLogPath = @{\n",
    "            exportPath = $File.OriginalPath\n",
    "            logicalName = $File.LogicalName\n",
    "            newFilename = \"Lumnah_Test_log.ldf\"\n",
    "        } \n",
    "        $TargetFilePaths += $TargetLogPath\n",
    "    }\n",
    "}\n",
    "$TargetFilePaths"
   ]
  },
  {
   "cell_type": "markdown",
   "metadata": {},
   "source": [
    "## Export using the Advanced Method"
   ]
  },
  {
   "cell_type": "code",
   "execution_count": 10,
   "metadata": {
    "dotnet_interactive": {
     "language": "pwsh"
    },
    "polyglot_notebook": {
     "kernelName": "pwsh"
    }
   },
   "outputs": [
    {
     "name": "stdout",
     "output_type": "stream",
     "text": [
      "\n",
      "\u001b[32;1mEndTime   : \u001b[0m\n",
      "\u001b[32;1mId        : \u001b[0mRESTORE_MSSQL_DB_138e0fbc-c0f8-4df2-97b4-3338258e49c1_2e67c830-90e1-447c-8d4f-c86f35468\n",
      "            304:::0\n",
      "\u001b[32;1mNodeId    : \u001b[0m\n",
      "\u001b[32;1mProgress  : \u001b[0m\n",
      "\u001b[32;1mStartTime : \u001b[0m\n",
      "\u001b[32;1mStatus    : \u001b[0mQUEUED\n",
      "\u001b[32;1mError     : \u001b[0m\n",
      "\u001b[32;1mLinks     : \u001b[0m\n",
      "\n"
     ]
    }
   ],
   "source": [
    "$NewRscMssqlExport = @{\n",
    "    RscMssqlDatabase = $RscMssqlDatabase\n",
    "    RecoveryDateTime = $RecoveryDateTime\n",
    "    TargetMssqlInstance = $TargetMssqlInstance\n",
    "    TargetDatabaseName = \"test_advanced_method\"\n",
    "    TargetFilePaths = $TargetFilePaths\n",
    "    Overwrite = $true\n",
    "}\n",
    "New-RscMssqlExport @NewRscMssqlExport"
   ]
  },
  {
   "cell_type": "markdown",
   "metadata": {},
   "source": [
    "## Track the status of the restore"
   ]
  },
  {
   "cell_type": "code",
   "execution_count": 11,
   "metadata": {
    "dotnet_interactive": {
     "language": "pwsh"
    },
    "polyglot_notebook": {
     "kernelName": "pwsh"
    }
   },
   "outputs": [],
   "source": []
  },
  {
   "cell_type": "markdown",
   "metadata": {},
   "source": [
    "---\n",
    "\n",
    "# Disconnect from RSC\n",
    "It is important to have each script you create end by disconnecting from RSC. If you do not, then you will run into issues with token authentication exhaustion. RSC allows a Service Account to have 10 concurrent open connections to RSC. Additional requests will be denied until existing connections are closed. \n",
    "\n",
    "You can easily disconnect your connection by running the below statement. "
   ]
  },
  {
   "cell_type": "code",
   "execution_count": 12,
   "metadata": {
    "dotnet_interactive": {
     "language": "pwsh"
    },
    "polyglot_notebook": {
     "kernelName": "pwsh"
    }
   },
   "outputs": [
    {
     "name": "stdout",
     "output_type": "stream",
     "text": [
      "The Rubrik Security Cloud session has been terminated.\n"
     ]
    }
   ],
   "source": [
    "Disconnect-Rsc"
   ]
  }
 ],
 "metadata": {
  "kernelspec": {
   "display_name": ".NET (C#)",
   "language": "C#",
   "name": ".net-csharp"
  },
  "language_info": {
   "name": "polyglot-notebook"
  },
  "polyglot_notebook": {
   "kernelInfo": {
    "defaultKernelName": "csharp",
    "items": [
     {
      "aliases": [],
      "name": "csharp"
     },
     {
      "aliases": [],
      "languageName": "pwsh",
      "name": "pwsh"
     }
    ]
   }
  }
 },
 "nbformat": 4,
 "nbformat_minor": 2
}

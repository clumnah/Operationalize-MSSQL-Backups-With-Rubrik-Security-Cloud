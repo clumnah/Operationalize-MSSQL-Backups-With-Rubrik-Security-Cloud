{
 "cells": [
  {
   "cell_type": "markdown",
   "metadata": {},
   "source": [
    "# Initiate a in place restore of a MSSQL Database\n",
    "In Rubrik, a restore is a in place operation. The original database on the original SQL Server instance is overwritten with the point in time provided. This is very important to understand as you could cause a production outage recovering a database when you mean to make a copy of a database. For that use export. Restore should only be used as a disaster recovery process.  \n",
    "\n",
    "New-RscMssqlRestore has multiple parameters, but the important ones to understand for most workflows are:\n",
    "- RscMssqlDatabase: This will be the object returned from Get-RscMssqlDatabase\n",
    "- Recovery Time: For the point in time value, there are a few different possibilities. \n",
    "    - **latest**: This will tell Rubrik to export the database to the latest recovery point Rubrik knows about. This will include the last full and any logs to get to the latest recovery point\n",
    "    - **lastfull**: This will tell Rubrik to restore back to the last full backup it has\n",
    "    - **RestoreTime**: This can be done in 1 of 2 formats\n",
    "        - Format: (HH:MM:SS.mmm) or (HH:MM:SS.mmmZ) - Restores the database back to the local or UTC time (respectively) at the point in time specified within the last 24 hours\n",
    "        - Format: Any valid <value> that PS Get-Date supports in: \"Get-Date -Date <Value>\"\n",
    "            - Example: \"2018-08-01T02:00:00.000Z\" restores back to 2AM on August 1, 2018 UTC.\n",
    "    This cmdlet will run Get-RscMssqlDatabaseRecoveryPoint\n",
    "- FinishRecovery: Ommitting this switch will restore the database into NORECOVERY mode. "
   ]
  },
  {
   "cell_type": "markdown",
   "metadata": {},
   "source": [
    "# Workflow\n",
    "To get information about the SQL Server Instance, you need to do the following\n",
    "1. Use **Connect-RSC** to Connect to RSC\n",
    "1. Use **Get-RscCluster** to get the cluster id that the SQL Server is registered. This is akin to the datacenter that the SQL Server is located in. While you can run the next command without the cluster ID, you may get more records back than expected. This is because your SQL Server Host could exist on 2 different cluster. Once as a replicated source and once as the replicated target. \n",
    "1. Use **Get-RscMssqlInstance** to get the instance id of the SQL Server based on the name of the instance and the cluster where it is located. \n",
    "1. Use **Get-RscMssqlDatabase** to get the database ID based on the database name and the SQL Server Instance. \n",
    "1. Use **Get-RscMssqlDatabaseRecoveryPoint** to get the fully formatted date that corresponds to the recovery point selected. \n",
    "1. Use **New-RscMssqlRestore** to start an in place restore of the database to the point in time provided. \n",
    "1. Use **Get-RscRequest** to track the request and know when it completes. ***DOES NOT EXIST YET***\n",
    "1. Use **Disconnect-RSC** to disconnect from RSC\n",
    " new-rscmssqllogBackup -RscMssqlDatabase $mssqldatabase  "
   ]
  },
  {
   "cell_type": "markdown",
   "metadata": {},
   "source": [
    "## Connect to RSC"
   ]
  },
  {
   "cell_type": "code",
   "execution_count": 1,
   "metadata": {
    "dotnet_interactive": {
     "language": "pwsh"
    },
    "polyglot_notebook": {
     "kernelName": "pwsh"
    }
   },
   "outputs": [
    {
     "name": "stdout",
     "output_type": "stream",
     "text": [
      "\n",
      "\u001b[32;1mClientId                                AuthenticationState SdkSchemaVersion ServerVersion\u001b[0m\n",
      "\u001b[32;1m--------                                ------------------- ---------------- -------------\u001b[0m\n",
      "client|kB5og68XXrFlfXcvWhn3jlHdf1OKyJCB          AUTHORIZED v20231108-58     v20231108-58\n",
      "\n"
     ]
    }
   ],
   "source": [
    "Set-Location '/Users/Chris.Lumnah/Library/CloudStorage/GoogleDrive-chris.lumnah@rubrik.com/My Drive/1.Projects/Powershell SDK/rubrik-powershell-sdk'\n",
    "Import-Module ./output/rubriksecuritycloud -force\n",
    "# Import-Module RubrikSecurityCloud\n",
    "Connect-RSC"
   ]
  },
  {
   "cell_type": "markdown",
   "metadata": {},
   "source": [
    "## Get the Cluster ID"
   ]
  },
  {
   "cell_type": "code",
   "execution_count": 2,
   "metadata": {
    "dotnet_interactive": {
     "language": "pwsh"
    },
    "polyglot_notebook": {
     "kernelName": "pwsh"
    }
   },
   "outputs": [
    {
     "name": "stdout",
     "output_type": "stream",
     "text": [
      "\n",
      "\u001b[32;1mLicensedProducts                : \u001b[0m\n",
      "\u001b[32;1mPauseStatus                     : \u001b[0mNOT_PAUSED\n",
      "\u001b[32;1mProductType                     : \u001b[0m\n",
      "\u001b[32;1mRegisteredMode                  : \u001b[0m\n",
      "\u001b[32;1mStatus                          : \u001b[0mCONNECTED\n",
      "\u001b[32;1mSubStatus                       : \u001b[0mDEFAULT\n",
      "\u001b[32;1mSystemStatus                    : \u001b[0mOK\n",
      "\u001b[32;1mType                            : \u001b[0mON_PREM\n",
      "\u001b[32;1mConnectivityLastUpdated         : \u001b[0m\n",
      "\u001b[32;1mDefaultAddress                  : \u001b[0m\n",
      "\u001b[32;1mDefaultPort                     : \u001b[0m\n",
      "\u001b[32;1mEncryptionEnabled               : \u001b[0m\n",
      "\u001b[32;1mEstimatedRunway                 : \u001b[0m\n",
      "\u001b[32;1mId                              : \u001b[0m39b92c18-d897-4b55-a7f9-17ff178616d0\n",
      "\u001b[32;1mIsHealthy                       : \u001b[0m\n",
      "\u001b[32;1mLastConnectionTime              : \u001b[0m\n",
      "\u001b[32;1mName                            : \u001b[0mvault-r-london\n",
      "\u001b[32;1mNoSqlWorkloadCount              : \u001b[0m\n",
      "\u001b[32;1mPassesConnectivityCheck         : \u001b[0m\n",
      "\u001b[32;1mRegistrationTime                : \u001b[0m\n",
      "\u001b[32;1mSnapshotCount                   : \u001b[0m\n",
      "\u001b[32;1mSystemStatusMessage             : \u001b[0m1 Node Down.\n",
      "\u001b[32;1mTimezone                        : \u001b[0m\n",
      "\u001b[32;1mVersion                         : \u001b[0m9.0.0-24610\n",
      "\u001b[32;1mActivitySeriesConnection        : \u001b[0m\n",
      "\u001b[32;1mAllOrgs                         : \u001b[0m\n",
      "\u001b[32;1mAuthorizedOperations            : \u001b[0m\n",
      "\u001b[32;1mCcprovisionInfo                 : \u001b[0m\n",
      "\u001b[32;1mCdmClusterNodeDetails           : \u001b[0m\n",
      "\u001b[32;1mCdmNotificationSettings         : \u001b[0m\n",
      "\u001b[32;1mCdmUpgradeInfo                  : \u001b[0m\n",
      "\u001b[32;1mCloudInfo                       : \u001b[0m\n",
      "\u001b[32;1mClusterDiskConnection           : \u001b[0m\n",
      "\u001b[32;1mClusterNodeConnection           : \u001b[0m\n",
      "\u001b[32;1mClusterNodeStats                : \u001b[0m\n",
      "\u001b[32;1mConfigProtectionInfo            : \u001b[0m\n",
      "\u001b[32;1mDatagovAutoEnablePolicyConfig   : \u001b[0m\n",
      "\u001b[32;1mDatagovPreviewerConfig          : \u001b[0m\n",
      "\u001b[32;1mGeoLocation                     : \u001b[0m\n",
      "\u001b[32;1mGlobalManagerConnectivityStatus : \u001b[0m\n",
      "\u001b[32;1mLambdaConfig                    : \u001b[0m\n",
      "\u001b[32;1mLambdaFeatureHistory            : \u001b[0m\n",
      "\u001b[32;1mMetadataPullScheduler           : \u001b[0m\n",
      "\u001b[32;1mMetric                          : \u001b[0m\n",
      "\u001b[32;1mMetricTimeSeries                : \u001b[0m\n",
      "\u001b[32;1mReplicationSources              : \u001b[0m\n",
      "\u001b[32;1mReplicationTargets              : \u001b[0m\n",
      "\u001b[32;1mRubrikSyncStatus                : \u001b[0m\n",
      "\u001b[32;1mSnappableConnection             : \u001b[0m\n",
      "\u001b[32;1mState                           : \u001b[0m\n",
      "\u001b[32;1mSystemStatusAffectedNodes       : \u001b[0m\n",
      "\n",
      "\n"
     ]
    }
   ],
   "source": [
    "$ClusterName = \"vault-r-london\"\n",
    "$RscCluster = Get-RscCluster -Name $ClusterName\n",
    "$RscCluster"
   ]
  },
  {
   "cell_type": "markdown",
   "metadata": {},
   "source": [
    "## Get the Instance Information"
   ]
  },
  {
   "cell_type": "code",
   "execution_count": 3,
   "metadata": {
    "dotnet_interactive": {
     "language": "pwsh"
    },
    "polyglot_notebook": {
     "kernelName": "pwsh"
    }
   },
   "outputs": [
    {
     "name": "stdout",
     "output_type": "stream",
     "text": [
      "\n",
      "\u001b[32;1mAuthorizedOperations        : \u001b[0m\n",
      "\u001b[32;1mObjectType                  : \u001b[0mPHYSICAL_HOST\n",
      "\u001b[32;1mOsType                      : \u001b[0m\n",
      "\u001b[32;1mSlaAssignment               : \u001b[0mUNASSIGNED\n",
      "\u001b[32;1mConfiguredSlaDomain         : \u001b[0m\n",
      "\u001b[32;1mEffectiveRetentionSlaDomain : \u001b[0m\n",
      "\u001b[32;1mEffectiveSlaDomain          : \u001b[0mRubrikSecurityCloud.Types.GlobalSlaReply\n",
      "\u001b[32;1mPendingSla                  : \u001b[0m\n",
      "\u001b[32;1mReplicatedObjects           : \u001b[0m\n",
      "\u001b[32;1mAgentId                     : \u001b[0m{e0e2af29-6566-460f-986b-4ba31619316f}\n",
      "\u001b[32;1mCbtStatus                   : \u001b[0mEnabled\n",
      "\u001b[32;1mCdmId                       : \u001b[0m93c5aed0-2140-4c3a-a464-d57b8a8dcfbb\n",
      "\u001b[32;1mCdmLink                     : \u001b[0m\n",
      "\u001b[32;1mDefaultCbt                  : \u001b[0m\n",
      "\u001b[32;1mId                          : \u001b[0m9a2bc8af-3e59-5036-bfc4-a6252fd968e9\n",
      "\u001b[32;1mIpAddresses                 : \u001b[0m\n",
      "\u001b[32;1mIsArchived                  : \u001b[0mFalse\n",
      "\u001b[32;1mIsChangelistEnabled         : \u001b[0mFalse\n",
      "\u001b[32;1mIsOracleHost                : \u001b[0mFalse\n",
      "\u001b[32;1mName                        : \u001b[0mrp-sql19s-001.perf.rubrik.com\n",
      "\u001b[32;1mNasMigrationInfo            : \u001b[0m\n",
      "\u001b[32;1mNasVendorType               : \u001b[0m\n",
      "\u001b[32;1mNumWorkloadDescendants      : \u001b[0m9\n",
      "\u001b[32;1mOsName                      : \u001b[0m\n",
      "\u001b[32;1mReplicatedObjectCount       : \u001b[0m\n",
      "\u001b[32;1mSlaPauseStatus              : \u001b[0mFalse\n",
      "\u001b[32;1mVfdState                    : \u001b[0mNotInstalled\n",
      "\u001b[32;1mAllOrgs                     : \u001b[0m\n",
      "\u001b[32;1mCluster                     : \u001b[0m\n",
      "\u001b[32;1mConnectionStatus            : \u001b[0m\n",
      "\u001b[32;1mDescendantConnection        : \u001b[0m\n",
      "\u001b[32;1mEffectiveSlaSourceObject    : \u001b[0m\n",
      "\u001b[32;1mHostVolumes                 : \u001b[0m\n",
      "\u001b[32;1mLatestUserNote              : \u001b[0m\n",
      "\u001b[32;1mLogicalPath                 : \u001b[0m\n",
      "\u001b[32;1mOracleUserDetails           : \u001b[0m\n",
      "\u001b[32;1mPendingObjectDeletionStatus : \u001b[0m\n",
      "\u001b[32;1mPhysicalChildConnection     : \u001b[0mRubrikSecurityCloud.Types.PhysicalHostPhysicalChildTypeConnection\n",
      "\u001b[32;1mPhysicalPath                : \u001b[0m\n",
      "\u001b[32;1mPrimaryClusterLocation      : \u001b[0m\n",
      "\u001b[32;1mSnapshotDistribution        : \u001b[0m\n",
      "\n",
      "\n"
     ]
    }
   ],
   "source": [
    "$HostName = \"rp-sql19s-001.perf.rubrik.com\"\n",
    "$RscHost = Get-RscHost -Name $HostName -OsType Windows\n",
    "\n",
    "$RscMssqlInstance = Get-RscMssqlInstance -RscHost $RscHost -RscCluster $RscCluster\n",
    "$RscMssqlInstance"
   ]
  },
  {
   "cell_type": "markdown",
   "metadata": {},
   "source": [
    "## Get the Database Information"
   ]
  },
  {
   "cell_type": "code",
   "execution_count": 4,
   "metadata": {
    "dotnet_interactive": {
     "language": "pwsh"
    },
    "polyglot_notebook": {
     "kernelName": "pwsh"
    }
   },
   "outputs": [],
   "source": [
    "$DatabaseName = \"AdventureWorks2019\"\n",
    "$RscMssqlDatabase = Get-RscMssqlDatabase -Name $DatabaseName -RscMssqlInstance $RscMssqlInstance"
   ]
  },
  {
   "cell_type": "markdown",
   "metadata": {},
   "source": [
    "## Get the fully formatted recovery point"
   ]
  },
  {
   "cell_type": "code",
   "execution_count": 5,
   "metadata": {
    "dotnet_interactive": {
     "language": "pwsh"
    },
    "polyglot_notebook": {
     "kernelName": "pwsh"
    }
   },
   "outputs": [
    {
     "name": "stdout",
     "output_type": "stream",
     "text": [
      "2023-11-29T00:40:32.000Z\n"
     ]
    }
   ],
   "source": [
    "$RecoveryDateTime = Get-RscMssqlDatabaseRecoveryPoint -RscMssqlDatabase $RscMssqlDatabase -Latest\n",
    "$RecoveryDateTime"
   ]
  },
  {
   "cell_type": "markdown",
   "metadata": {},
   "source": [
    "## Intiate an in place restore of a database using the last snapshot"
   ]
  },
  {
   "cell_type": "code",
   "execution_count": 6,
   "metadata": {
    "dotnet_interactive": {
     "language": "pwsh"
    },
    "polyglot_notebook": {
     "kernelName": "pwsh"
    }
   },
   "outputs": [
    {
     "name": "stdout",
     "output_type": "stream",
     "text": [
      "\n",
      "\u001b[32;1mEndTime   : \u001b[0m\n",
      "\u001b[32;1mId        : \u001b[0mRESTORE_MSSQL_DB_138e0fbc-c0f8-4df2-97b4-3338258e49c1_9ab99e17-fb5d-426c-9d9b-deddabc3c\n",
      "            fe4:::0\n",
      "\u001b[32;1mNodeId    : \u001b[0m\n",
      "\u001b[32;1mProgress  : \u001b[0m\n",
      "\u001b[32;1mStartTime : \u001b[0m\n",
      "\u001b[32;1mStatus    : \u001b[0mQUEUED\n",
      "\u001b[32;1mError     : \u001b[0m\n",
      "\u001b[32;1mLinks     : \u001b[0m\n",
      "\n",
      "\n"
     ]
    }
   ],
   "source": [
    "New-RscMssqlRestore -RscMssqlDatabase $RscMssqlDatabase -RecoveryDateTime $RecoveryDateTime -FinishRecovery"
   ]
  },
  {
   "cell_type": "markdown",
   "metadata": {},
   "source": [
    "## Track the status of the restore"
   ]
  },
  {
   "cell_type": "code",
   "execution_count": null,
   "metadata": {
    "dotnet_interactive": {
     "language": "pwsh"
    },
    "polyglot_notebook": {
     "kernelName": "pwsh"
    }
   },
   "outputs": [],
   "source": []
  },
  {
   "cell_type": "markdown",
   "metadata": {},
   "source": [
    "---\n",
    "\n",
    "# Disconnect from RSC\n",
    "It is important to have each script you create end by disconnecting from RSC. If you do not, then you will run into issues with token authentication exhaustion. RSC allows a Service Account to have 10 concurrent open connections to RSC. Additional requests will be denied until existing connections are closed. \n",
    "\n",
    "You can easily disconnect your connection by running the below statement. "
   ]
  },
  {
   "cell_type": "code",
   "execution_count": null,
   "metadata": {
    "dotnet_interactive": {
     "language": "pwsh"
    },
    "polyglot_notebook": {
     "kernelName": "pwsh"
    }
   },
   "outputs": [],
   "source": [
    "Disconnect-Rsc"
   ]
  }
 ],
 "metadata": {
  "kernelspec": {
   "display_name": ".NET (C#)",
   "language": "C#",
   "name": ".net-csharp"
  },
  "language_info": {
   "name": "polyglot-notebook"
  },
  "polyglot_notebook": {
   "kernelInfo": {
    "defaultKernelName": "csharp",
    "items": [
     {
      "aliases": [],
      "name": "csharp"
     },
     {
      "aliases": [],
      "languageName": "pwsh",
      "name": "pwsh"
     }
    ]
   }
  }
 },
 "nbformat": 4,
 "nbformat_minor": 2
}

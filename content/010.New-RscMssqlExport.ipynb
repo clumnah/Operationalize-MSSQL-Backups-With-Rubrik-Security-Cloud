{
 "cells": [
  {
   "cell_type": "markdown",
   "metadata": {},
   "source": [
    "# New-RscMssqlExport\n",
    "In Rubrik, an export is a database recovery that you control all the parameters of. You can restore a database to a different instance or to the same instance as a different name. You can control the paths and filenames of the recovered database. You can control if the database should be fully recovered or left in NORECOVERY mode. You can control if you overwrite the target database or not. \n",
    "\n",
    "New-RscMssqlExport has multiple parameters, but the important ones to understand for most workflows are:\n",
    "- RscMssqlDatabase: This will be the object returned from Get-RscMssqlDatabase\n",
    "- RecoveryDateTime: This will be a value returned from Get-RscMssqlDatabaseRecoveryPoint\n",
    "- TargetMssqlInstance: This will be the object returned from Get-RscMssqlInstance\n",
    "- TargetDatabaseName: The name of the newly created database from the restore\n",
    "- TargetDataPath & TargeLogPath: Used for the location of all data and log files of the database. This would be for the Simple Method in the UI.\n",
    "- TargetFilePaths: Used for the location of all data and log files of the database. This would be the Advanced Method in the UI.  You are providing a hashtable with each file listed. You can get a list of files from Get-RscMssqlDatabaseFiles\n",
    "- Overwrite: Used to denote if the target database should be overwritten \n",
    "- FinishRecovery: Ommitting this switch will restore the database into NORECOVERY mode. "
   ]
  },
  {
   "cell_type": "markdown",
   "metadata": {},
   "source": [
    "# Workflow\n",
    "To start an Export (Recovery) of a database, you need to do the following\n",
    "1. Use **Connect-RSC** to Connect to RSC\n",
    "1. Use **Get-RscCluster** to get the cluster id that the SQL Server is registered. This is akin to the datacenter that the SQL Server is located in. While you can run the next command without the cluster ID, you may get more records back than expected. This is because your SQL Server Host could exist on 2 different cluster. Once as a replicated source and once as the replicated target. \n",
    "1. Use **Get-RscHost** to get the host id that the SQL Server is installed on. \n",
    "1. Use **Get-RscMssqlInstance** to get the instance id of the SQL Server based on the name of the instance and the cluster where it is located. \n",
    "1. Use **Get-RscMssqlDatabase** to get the database ID based on the database name and the SQL Server Instance. \n",
    "1. Use **Get-RscMssqlDatabaseRecoveryPoint** to get the fully formatted date that corresponds to the recovery point selected.\n",
    "1. Use **Get-RscMssqlDatabaseFiles** to get the list of files from the backup. \n",
    "1. Use **Get-RscMssqlInstance** to get the instance id of the Target SQL Server based on the name of the instance and the cluster where it is located. \n",
    "1. Use **New-RscMssqlExport** to start an in place restore of the database to the point in time provided. \n",
    "1. Use **Get-RscRequest** to track the request and know when it completes. ***DOES NOT EXIST YET***\n",
    "1. Use **Disconnect-RSC** to disconnect from RSC"
   ]
  },
  {
   "cell_type": "markdown",
   "metadata": {},
   "source": [
    "## Connect to RSC"
   ]
  },
  {
   "cell_type": "code",
   "execution_count": null,
   "metadata": {
    "dotnet_interactive": {
     "language": "pwsh"
    },
    "polyglot_notebook": {
     "kernelName": "pwsh"
    }
   },
   "outputs": [],
   "source": [
    "Set-Location '/Users/Chris.Lumnah/Documents/rubrik-powershell-sdk'\n",
    "Import-Module ./output/rubriksecuritycloud -force\n",
    "# Import-Module RubrikSecurityCloud\n",
    "Connect-RSC"
   ]
  },
  {
   "cell_type": "markdown",
   "metadata": {},
   "source": [
    "## Get the Cluster ID"
   ]
  },
  {
   "cell_type": "code",
   "execution_count": null,
   "metadata": {
    "dotnet_interactive": {
     "language": "pwsh"
    },
    "polyglot_notebook": {
     "kernelName": "pwsh"
    }
   },
   "outputs": [],
   "source": [
    "$ClusterName = \"vault-r-london\"\n",
    "$RscCluster = Get-RscCluster -Name $ClusterName"
   ]
  },
  {
   "cell_type": "markdown",
   "metadata": {},
   "source": [
    "## Get the Host Information"
   ]
  },
  {
   "cell_type": "code",
   "execution_count": null,
   "metadata": {
    "dotnet_interactive": {
     "language": "pwsh"
    },
    "polyglot_notebook": {
     "kernelName": "pwsh"
    }
   },
   "outputs": [],
   "source": [
    "$HostName = \"rp-sql19s-001.perf.rubrik.com\"\n",
    "$RscHost = Get-RscHost -Name $HostName -OsType Windows"
   ]
  },
  {
   "cell_type": "markdown",
   "metadata": {},
   "source": [
    "## Get the Instance Information"
   ]
  },
  {
   "cell_type": "code",
   "execution_count": null,
   "metadata": {
    "dotnet_interactive": {
     "language": "pwsh"
    },
    "polyglot_notebook": {
     "kernelName": "pwsh"
    }
   },
   "outputs": [],
   "source": [
    "$RscMssqlInstance = Get-RscMssqlInstance -RscHost $RscHost -RscCluster $RscCluster"
   ]
  },
  {
   "cell_type": "markdown",
   "metadata": {},
   "source": [
    "## Get the Database Information"
   ]
  },
  {
   "cell_type": "code",
   "execution_count": null,
   "metadata": {
    "dotnet_interactive": {
     "language": "pwsh"
    },
    "polyglot_notebook": {
     "kernelName": "pwsh"
    }
   },
   "outputs": [],
   "source": [
    "$DatabaseName = \"AdventureWorks2019\"\n",
    "$RscMssqlDatabase = Get-RscMssqlDatabase -Name $DatabaseName  -RscMssqlInstance $RscMssqlInstance"
   ]
  },
  {
   "cell_type": "markdown",
   "metadata": {},
   "source": [
    "## Get the fully formatted recovery point"
   ]
  },
  {
   "cell_type": "code",
   "execution_count": null,
   "metadata": {
    "dotnet_interactive": {
     "language": "pwsh"
    },
    "polyglot_notebook": {
     "kernelName": "pwsh"
    }
   },
   "outputs": [],
   "source": [
    "$RecoveryDateTime = Get-RscMssqlDatabaseRecoveryPoint -RscMssqlDatabase $RscMssqlDatabase -Latest"
   ]
  },
  {
   "cell_type": "markdown",
   "metadata": {},
   "source": [
    "## Get the Target Instance Information"
   ]
  },
  {
   "cell_type": "code",
   "execution_count": null,
   "metadata": {
    "dotnet_interactive": {
     "language": "pwsh"
    },
    "polyglot_notebook": {
     "kernelName": "pwsh"
    }
   },
   "outputs": [],
   "source": [
    "$HostName = \"rp-sql19s-001.perf.rubrik.com\"\n",
    "$RscHost = Get-RscHost -Name $HostName -OsType Windows\n",
    "$TargetMssqlInstance = Get-RscMssqlInstance -RscHost $RscHost -RscCluster $RscCluster"
   ]
  },
  {
   "cell_type": "markdown",
   "metadata": {},
   "source": [
    "## Export using the Simple Method"
   ]
  },
  {
   "cell_type": "code",
   "execution_count": null,
   "metadata": {
    "dotnet_interactive": {
     "language": "pwsh"
    },
    "polyglot_notebook": {
     "kernelName": "pwsh"
    }
   },
   "outputs": [],
   "source": [
    "$NewRscMssqlExport = @{\n",
    "    RscMssqlDatabase = $RscMssqlDatabase\n",
    "    RecoveryDateTime = $RecoveryDateTime\n",
    "    TargetMssqlInstance = $TargetMssqlInstance\n",
    "    TargetDatabaseName = \"test\"\n",
    "    TargetDataPath = \"c:\\mnt\\sqldata\\\"\n",
    "    TargeLogPath = \"c:\\mnt\\sqllogs\\\"\n",
    "    Overwrite = $true\n",
    "}\n",
    "New-RscMssqlExport @NewRscMssqlExport"
   ]
  },
  {
   "cell_type": "markdown",
   "metadata": {},
   "source": [
    "## Get list of files of the database from the backup"
   ]
  },
  {
   "cell_type": "code",
   "execution_count": null,
   "metadata": {
    "dotnet_interactive": {
     "language": "pwsh"
    },
    "polyglot_notebook": {
     "kernelName": "pwsh"
    }
   },
   "outputs": [],
   "source": [
    "$RscMssqlDatabaseFiles = Get-RscMssqlDatabaseFiles -RscMssqlDatabase $RscMssqlDatabase -RecoveryDateTime $RecoveryDateTime\n",
    "$RscMssqlDatabaseFiles"
   ]
  },
  {
   "cell_type": "markdown",
   "metadata": {},
   "source": [
    "## Create hash table of files"
   ]
  },
  {
   "cell_type": "code",
   "execution_count": null,
   "metadata": {
    "dotnet_interactive": {
     "language": "pwsh"
    },
    "polyglot_notebook": {
     "kernelName": "pwsh"
    }
   },
   "outputs": [],
   "source": [
    "$TargetFilePaths = @()\n",
    "foreach($File in $RscMssqlDatabaseFiles){\n",
    "    If ($File.FileType -eq 'MSSQL_DATABASE_FILE_TYPE_DATA'){\n",
    "        $TargetDataPath = @{\n",
    "            exportPath = $File.OriginalPath\n",
    "            logicalName = $File.LogicalName\n",
    "            newFilename = \"Lumnah_Test.mdf\"\n",
    "        }\n",
    "        $TargetFilePaths += $TargetDataPath\n",
    "    }\n",
    "\n",
    "    If ($File.FileType -eq 'MSSQL_DATABASE_FILE_TYPE_LOG'){\n",
    "        $TargetLogPath = @{\n",
    "            exportPath = $File.OriginalPath\n",
    "            logicalName = $File.LogicalName\n",
    "            newFilename = \"Lumnah_Test_log.ldf\"\n",
    "        } \n",
    "        $TargetFilePaths += $TargetLogPath\n",
    "    }\n",
    "}\n",
    "$TargetFilePaths"
   ]
  },
  {
   "cell_type": "markdown",
   "metadata": {},
   "source": [
    "## Export using the Advanced Method"
   ]
  },
  {
   "cell_type": "code",
   "execution_count": null,
   "metadata": {
    "dotnet_interactive": {
     "language": "pwsh"
    },
    "polyglot_notebook": {
     "kernelName": "pwsh"
    }
   },
   "outputs": [],
   "source": [
    "$NewRscMssqlExport = @{\n",
    "    RscMssqlDatabase = $RscMssqlDatabase\n",
    "    RecoveryDateTime = $RecoveryDateTime\n",
    "    TargetMssqlInstance = $TargetMssqlInstance\n",
    "    TargetDatabaseName = \"test\"\n",
    "    TargetFilePaths = $TargetFilePaths\n",
    "    Overwrite = $true\n",
    "}\n",
    "New-RscMssqlExport @NewRscMssqlExport"
   ]
  },
  {
   "cell_type": "markdown",
   "metadata": {},
   "source": [
    "## Track the status of the restore"
   ]
  },
  {
   "cell_type": "code",
   "execution_count": null,
   "metadata": {
    "dotnet_interactive": {
     "language": "pwsh"
    },
    "polyglot_notebook": {
     "kernelName": "pwsh"
    }
   },
   "outputs": [],
   "source": []
  },
  {
   "cell_type": "markdown",
   "metadata": {},
   "source": [
    "---\n",
    "\n",
    "# Disconnect from RSC\n",
    "It is important to have each script you create end by disconnecting from RSC. If you do not, then you will run into issues with token authentication exhaustion. RSC allows a Service Account to have 10 concurrent open connections to RSC. Additional requests will be denied until existing connections are closed. \n",
    "\n",
    "You can easily disconnect your connection by running the below statement. "
   ]
  },
  {
   "cell_type": "code",
   "execution_count": null,
   "metadata": {
    "dotnet_interactive": {
     "language": "pwsh"
    },
    "polyglot_notebook": {
     "kernelName": "pwsh"
    }
   },
   "outputs": [],
   "source": [
    "Disconnect-Rsc"
   ]
  }
 ],
 "metadata": {
  "kernelspec": {
   "display_name": ".NET (C#)",
   "language": "C#",
   "name": ".net-csharp"
  },
  "language_info": {
   "name": "polyglot-notebook"
  },
  "polyglot_notebook": {
   "kernelInfo": {
    "defaultKernelName": "csharp",
    "items": [
     {
      "aliases": [],
      "name": "csharp"
     },
     {
      "aliases": [],
      "languageName": "pwsh",
      "name": "pwsh"
     }
    ]
   }
  }
 },
 "nbformat": 4,
 "nbformat_minor": 2
}

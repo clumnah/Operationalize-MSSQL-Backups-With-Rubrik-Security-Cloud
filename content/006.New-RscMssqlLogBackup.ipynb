{
 "cells": [
  {
   "cell_type": "markdown",
   "metadata": {},
   "source": [
    "# Take an On Demand Log Backup of a MSSQL Database\n",
    "Like an On Demand Snapshot, DBAs have the need to initiate an on demand log backup. When taking the log backup, all that is required is the database information, as log backups are only retained as long as defined in the SLA Domain that is assigned to the database. "
   ]
  },
  {
   "cell_type": "markdown",
   "metadata": {},
   "source": [
    "# Workflow\n",
    "To get information about the SQL Server Instance, you need to do the following\n",
    "1. Use **Connect-RSC** to Connect to RSC\n",
    "1. Use **Get-RscCluster** to get the cluster id that the SQL Server is registered. This is akin to the datacenter that the SQL Server is located in. While you can run the next command without the cluster ID, you may get more records back than expected. This is because your SQL Server Host could exist on 2 different cluster. Once as a replicated source and once as the replicated target. \n",
    "1. Use **Get-RscMssqlInstance** to get the instance id of the SQL Server based on the name of the instance and the cluster where it is located. \n",
    "1. Use **Get-RscMssqlDatabase** to get the database ID based on the database name and the SQL Server Instance. \n",
    "1. Use **New-RscMssqlLogBackup** to initiate an On Demand Log Backup of a database. \n",
    "1. Use **Get-RscRequest** to track the request and know when it completes. ***DOES NOT EXIST YET***\n",
    "1. Use **Disconnect-RSC** to disconnect from RSC\n",
    " new-rscmssqllogBackup -RscMssqlDatabase $mssqldatabase  "
   ]
  },
  {
   "cell_type": "markdown",
   "metadata": {},
   "source": [
    "## Connect to RSC"
   ]
  },
  {
   "cell_type": "code",
   "execution_count": 1,
   "metadata": {
    "dotnet_interactive": {
     "language": "pwsh"
    },
    "polyglot_notebook": {
     "kernelName": "pwsh"
    }
   },
   "outputs": [
    {
     "name": "stdout",
     "output_type": "stream",
     "text": [
      "\n",
      "Loading Rubrik Security Cloud PowerShell Module (PowerShell Core)...\n",
      "\n",
      "Welcome to the Rubrik Security Cloud PowerShell SDK!\n",
      "\n",
      "\tPlease refer to the Getting Started section of the Readme documentation: \n",
      "\thttps://github.com/rubrikinc/rubrik-powershell-sdk#getting-started\n",
      "\n",
      "\u001b[93mWARNING: Connect_Rsc: The installed RSC SDK version does not match the server version.\u001b[0m\n",
      "\n",
      "\u001b[32;1mClientId                                AuthenticationState SdkSchemaVersion ServerVersion\u001b[0m\n",
      "\u001b[32;1m--------                                ------------------- ---------------- -------------\u001b[0m\n",
      "client|kB5og68XXrFlfXcvWhn3jlHdf1OKyJCB          AUTHORIZED v20230920-45     v20231018-24\n",
      "\n"
     ]
    }
   ],
   "source": [
    "Set-Location '/Users/Chris.Lumnah/Library/CloudStorage/GoogleDrive-chris.lumnah@rubrik.com/My Drive/1.Projects/Powershell SDK/rubrik-powershell-sdk'\n",
    "Import-Module ./output/rubriksecuritycloud -force\n",
    "# Import-Module RubrikSecurityCloud\n",
    "Connect-RSC"
   ]
  },
  {
   "cell_type": "markdown",
   "metadata": {},
   "source": [
    "## Get the Cluster ID"
   ]
  },
  {
   "cell_type": "code",
   "execution_count": 3,
   "metadata": {
    "dotnet_interactive": {
     "language": "pwsh"
    },
    "polyglot_notebook": {
     "kernelName": "pwsh"
    }
   },
   "outputs": [
    {
     "name": "stdout",
     "output_type": "stream",
     "text": [
      "Get-RscCluster field profile: DEFAULT\n"
     ]
    }
   ],
   "source": [
    "$ClusterName = \"vault-r-london\"\n",
    "$RubrikCluster = Get-RscCluster -Name $ClusterName"
   ]
  },
  {
   "cell_type": "markdown",
   "metadata": {},
   "source": [
    "## Get the Instance Information"
   ]
  },
  {
   "cell_type": "code",
   "execution_count": 4,
   "metadata": {
    "dotnet_interactive": {
     "language": "pwsh"
    },
    "polyglot_notebook": {
     "kernelName": "pwsh"
    }
   },
   "outputs": [
    {
     "name": "stdout",
     "output_type": "stream",
     "text": [
      "Get-RscMssqlInstance field profile: DEFAULT\n"
     ]
    }
   ],
   "source": [
    "$HostName = \"rp-sql19s-001.perf.rubrik.com\"\n",
    "$RscMssqlInstance = Get-RscMssqlInstance -HostName $HostName  -ClusterId $RubrikCluster.id"
   ]
  },
  {
   "cell_type": "markdown",
   "metadata": {},
   "source": [
    "## Get the Database Information"
   ]
  },
  {
   "cell_type": "code",
   "execution_count": 6,
   "metadata": {
    "dotnet_interactive": {
     "language": "pwsh"
    },
    "polyglot_notebook": {
     "kernelName": "pwsh"
    }
   },
   "outputs": [
    {
     "name": "stdout",
     "output_type": "stream",
     "text": [
      "Get-RscMssqlDatabase field profile: DEFAULT\n"
     ]
    }
   ],
   "source": [
    "$DatabaseName = \"AdventureWorks2019\"\n",
    "$RscMssqlDatabase = Get-RscMssqlDatabase -Name $DatabaseName  -RscMssqlInstance $RscMssqlInstance"
   ]
  },
  {
   "cell_type": "markdown",
   "metadata": {},
   "source": [
    "## Initiate On Demand Log Backup"
   ]
  },
  {
   "cell_type": "code",
   "execution_count": 8,
   "metadata": {
    "dotnet_interactive": {
     "language": "pwsh"
    },
    "polyglot_notebook": {
     "kernelName": "pwsh"
    }
   },
   "outputs": [
    {
     "name": "stdout",
     "output_type": "stream",
     "text": [
      "\n",
      "\u001b[32;1mEndTime   : \u001b[0m\n",
      "\u001b[32;1mId        : \u001b[0mMSSQL_LOG_BACKUP_138e0fbc-c0f8-4df2-97b4-3338258e49c1_cbfe844c-4130-4635-bc72-cb98cc64a\n",
      "            e19:::0\n",
      "\u001b[32;1mNodeId    : \u001b[0m\n",
      "\u001b[32;1mProgress  : \u001b[0m\n",
      "\u001b[32;1mStartTime : \u001b[0m\n",
      "\u001b[32;1mStatus    : \u001b[0mQUEUED\n",
      "\u001b[32;1mError     : \u001b[0m\n",
      "\u001b[32;1mLinks     : \u001b[0m\n",
      "\n",
      "\n"
     ]
    }
   ],
   "source": [
    "New-RscMssqlLogBackup -RscMssqlDatabase $RscMssqlDatabase  "
   ]
  },
  {
   "cell_type": "markdown",
   "metadata": {},
   "source": [
    "## Track the status of the backup"
   ]
  },
  {
   "cell_type": "code",
   "execution_count": null,
   "metadata": {
    "dotnet_interactive": {
     "language": "pwsh"
    },
    "polyglot_notebook": {
     "kernelName": "pwsh"
    }
   },
   "outputs": [],
   "source": []
  },
  {
   "cell_type": "markdown",
   "metadata": {},
   "source": [
    "---\n",
    "\n",
    "# Disconnect from RSC\n",
    "It is important to have each script you create end by disconnecting from RSC. If you do not, then you will run into issues with token authentication exhaustion. RSC allows a Service Account to have 10 concurrent open connections to RSC. Additional requests will be denied until existing connections are closed. \n",
    "\n",
    "You can easily disconnect your connection by running the below statement. "
   ]
  },
  {
   "cell_type": "code",
   "execution_count": null,
   "metadata": {
    "dotnet_interactive": {
     "language": "pwsh"
    },
    "polyglot_notebook": {
     "kernelName": "pwsh"
    }
   },
   "outputs": [],
   "source": [
    "Disconnect-Rsc"
   ]
  }
 ],
 "metadata": {
  "kernelspec": {
   "display_name": ".NET (C#)",
   "language": "C#",
   "name": ".net-csharp"
  },
  "language_info": {
   "name": "polyglot-notebook"
  },
  "polyglot_notebook": {
   "kernelInfo": {
    "defaultKernelName": "csharp",
    "items": [
     {
      "aliases": [],
      "name": "csharp"
     },
     {
      "aliases": [],
      "languageName": "pwsh",
      "name": "pwsh"
     }
    ]
   }
  }
 },
 "nbformat": 4,
 "nbformat_minor": 2
}

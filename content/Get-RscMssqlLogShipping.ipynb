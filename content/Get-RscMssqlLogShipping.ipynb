{
 "cells": [
  {
   "cell_type": "markdown",
   "metadata": {},
   "source": [
    "# Get-RscMssqlLogShipping\n",
    "Used to return existing log shipping relationships in RSC\n",
    "\n",
    "---\n",
    "# Workflow\n",
    "To get information about the Log Shipping relationship, you need to do the following\n",
    "1. Use **Connect-RSC** to Connect to RSC\n",
    "1. Use **Get-RscCluster** to get the cluster id that the SQL Server is registered. This is akin to the datacenter that the SQL Server is located in. \n",
    "1. Use **Get-RscMssqlLogShipping** to get the MSSQL log shipping relationship\n",
    "1. Use **Disconnect-RSC** to disconnect from RSC\n",
    "\n",
    "## Connect to RSC"
   ]
  },
  {
   "cell_type": "code",
   "execution_count": 15,
   "metadata": {
    "dotnet_interactive": {
     "language": "pwsh"
    },
    "polyglot_notebook": {
     "kernelName": "pwsh"
    }
   },
   "outputs": [],
   "source": [
    "Set-Location '/Users/Chris.Lumnah/Documents/rubrik-powershell-sdk'\n",
    "Import-Module ./output/rubriksecuritycloud \n",
    "# Import-Module RubrikSecurityCloud\n",
    "Connect-RSC"
   ]
  },
  {
   "cell_type": "markdown",
   "metadata": {},
   "source": [
    "## Get Cluster ID"
   ]
  },
  {
   "cell_type": "code",
   "execution_count": 16,
   "metadata": {
    "dotnet_interactive": {
     "language": "pwsh"
    },
    "polyglot_notebook": {
     "kernelName": "pwsh"
    }
   },
   "outputs": [],
   "source": [
    "$ClusterName = \"vault-r-london\"\n",
    "$RscCluster = Get-RscCluster -Name $ClusterName"
   ]
  },
  {
   "cell_type": "markdown",
   "metadata": {},
   "source": [
    "## Get a list of Log Shipping relationships"
   ]
  },
  {
   "cell_type": "code",
   "execution_count": 17,
   "metadata": {
    "dotnet_interactive": {
     "language": "pwsh"
    },
    "polyglot_notebook": {
     "kernelName": "pwsh"
    }
   },
   "outputs": [
    {
     "name": "stdout",
     "output_type": "stream",
     "text": [
      "did i get here?\n",
      "\n",
      "\u001b[32;1mCdmId              : \u001b[0m03ca6e61-6889-4978-8422-8ef9438a35b6\n",
      "\u001b[32;1mFid                : \u001b[0m7c686e81-e3e6-5099-9d35-6a8fe9653b43\n",
      "\u001b[32;1mLagTimeFromPrimary : \u001b[0m0\n",
      "\u001b[32;1mLastAppliedPoint   : \u001b[0m4/3/2024 2:08:22 PM\n",
      "\u001b[32;1mLocation           : \u001b[0m\n",
      "\u001b[32;1mLogFrequency       : \u001b[0m-1\n",
      "\u001b[32;1mState              : \u001b[0mRESTORING\n",
      "\u001b[32;1mStatus             : \u001b[0mAPPLYING\n",
      "\u001b[32;1mCluster            : \u001b[0mRubrikSecurityCloud.Types.Cluster\n",
      "\u001b[32;1mPrimaryCluster     : \u001b[0mRubrikSecurityCloud.Types.Cluster\n",
      "\u001b[32;1mPrimaryDatabase    : \u001b[0mRubrikSecurityCloud.Types.MssqlDatabase\n",
      "\u001b[32;1mSecondaryDatabase  : \u001b[0mRubrikSecurityCloud.Types.MssqlDatabase\n",
      "\u001b[32;1mSecondaryInstance  : \u001b[0mRubrikSecurityCloud.Types.MssqlInstance\n",
      "\n",
      "\u001b[32;1mCdmId              : \u001b[0mafda72a4-d203-4acb-abc1-c0c2fb52157c\n",
      "\u001b[32;1mFid                : \u001b[0m13a38ada-0937-5fe0-88e4-06017a91aa41\n",
      "\u001b[32;1mLagTimeFromPrimary : \u001b[0m0\n",
      "\u001b[32;1mLastAppliedPoint   : \u001b[0m4/3/2024 2:23:01 PM\n",
      "\u001b[32;1mLocation           : \u001b[0m\n",
      "\u001b[32;1mLogFrequency       : \u001b[0m-1\n",
      "\u001b[32;1mState              : \u001b[0mRESTORING\n",
      "\u001b[32;1mStatus             : \u001b[0mAPPLYING\n",
      "\u001b[32;1mCluster            : \u001b[0mRubrikSecurityCloud.Types.Cluster\n",
      "\u001b[32;1mPrimaryCluster     : \u001b[0mRubrikSecurityCloud.Types.Cluster\n",
      "\u001b[32;1mPrimaryDatabase    : \u001b[0mRubrikSecurityCloud.Types.MssqlDatabase\n",
      "\u001b[32;1mSecondaryDatabase  : \u001b[0mRubrikSecurityCloud.Types.MssqlDatabase\n",
      "\u001b[32;1mSecondaryInstance  : \u001b[0mRubrikSecurityCloud.Types.MssqlInstance\n",
      "\n"
     ]
    }
   ],
   "source": [
    "$RscMssqlLogShipping= Get-RscMssqlLogShipping \n",
    "$RscMssqlLogShipping"
   ]
  },
  {
   "cell_type": "markdown",
   "metadata": {},
   "source": [
    "## Get a specific log shipping relationship"
   ]
  },
  {
   "cell_type": "markdown",
   "metadata": {},
   "source": [
    "### Get the Instance Information"
   ]
  },
  {
   "cell_type": "code",
   "execution_count": 18,
   "metadata": {
    "dotnet_interactive": {
     "language": "pwsh"
    },
    "polyglot_notebook": {
     "kernelName": "pwsh"
    }
   },
   "outputs": [],
   "source": [
    "$HostName = \"rp-sql19s-001.perf.rubrik.com\"\n",
    "$RscMssqlInstance = Get-RscMssqlInstance -RscCluster $RscCluster -HostName $HostName"
   ]
  },
  {
   "cell_type": "markdown",
   "metadata": {},
   "source": [
    "### Get the Database Information"
   ]
  },
  {
   "cell_type": "code",
   "execution_count": 19,
   "metadata": {
    "dotnet_interactive": {
     "language": "pwsh"
    },
    "polyglot_notebook": {
     "kernelName": "pwsh"
    }
   },
   "outputs": [],
   "source": [
    "$DatabaseName = \"AdventureWorks2019\"\n",
    "$RscMssqlDatabase = Get-RscMssqlDatabase -Name $DatabaseName  -RscMssqlInstance $RscMssqlInstance"
   ]
  },
  {
   "cell_type": "markdown",
   "metadata": {},
   "source": [
    "### Get Log Shipping relationship"
   ]
  },
  {
   "cell_type": "code",
   "execution_count": 20,
   "metadata": {
    "dotnet_interactive": {
     "language": "pwsh"
    },
    "polyglot_notebook": {
     "kernelName": "pwsh"
    }
   },
   "outputs": [
    {
     "name": "stdout",
     "output_type": "stream",
     "text": [
      "\n",
      "\u001b[32;1mCdmId              : \u001b[0mafda72a4-d203-4acb-abc1-c0c2fb52157c\n",
      "\u001b[32;1mFid                : \u001b[0m13a38ada-0937-5fe0-88e4-06017a91aa41\n",
      "\u001b[32;1mLagTimeFromPrimary : \u001b[0m0\n",
      "\u001b[32;1mLastAppliedPoint   : \u001b[0m4/3/2024 2:23:01 PM\n",
      "\u001b[32;1mLocation           : \u001b[0m\n",
      "\u001b[32;1mLogFrequency       : \u001b[0m-1\n",
      "\u001b[32;1mState              : \u001b[0mRESTORING\n",
      "\u001b[32;1mStatus             : \u001b[0mAPPLYING\n",
      "\u001b[32;1mCluster            : \u001b[0mRubrikSecurityCloud.Types.Cluster\n",
      "\u001b[32;1mPrimaryCluster     : \u001b[0m\n",
      "\u001b[32;1mPrimaryDatabase    : \u001b[0mRubrikSecurityCloud.Types.MssqlDatabase\n",
      "\u001b[32;1mSecondaryDatabase  : \u001b[0mRubrikSecurityCloud.Types.MssqlDatabase\n",
      "\u001b[32;1mSecondaryInstance  : \u001b[0mRubrikSecurityCloud.Types.MssqlInstance\n",
      "\n"
     ]
    }
   ],
   "source": [
    "$GetRscMssqlLogShipping = @{\n",
    "    RscMssqlDatabase = $RscMssqlDatabase\n",
    "    SecondaryDatabaseName = \"logshipping_advanced_method\"\n",
    "    RscCluster = $RscCluster\n",
    "}\n",
    "$RscMssqlLogShipping = Get-RscMssqlLogShipping @GetRscMssqlLogShipping\n",
    "$RscMssqlLogShipping\n"
   ]
  },
  {
   "cell_type": "markdown",
   "metadata": {},
   "source": [
    "---\n",
    "\n",
    "# Disconnect from RSC\n",
    "It is important to have each script you create end by disconnecting from RSC. If you do not, then you will run into issues with token authentication exhaustion. RSC allows a Service Account to have 10 concurrent open connections to RSC. Additional requests will be denied until existing connections are closed. \n",
    "\n",
    "You can easily disconnect your connection by running the below statement. "
   ]
  },
  {
   "cell_type": "code",
   "execution_count": 21,
   "metadata": {
    "dotnet_interactive": {
     "language": "pwsh"
    },
    "polyglot_notebook": {
     "kernelName": "pwsh"
    }
   },
   "outputs": [],
   "source": [
    "# Disconnect-Rsc"
   ]
  }
 ],
 "metadata": {
  "kernelspec": {
   "display_name": ".NET (C#)",
   "language": "C#",
   "name": ".net-csharp"
  },
  "language_info": {
   "name": "polyglot-notebook"
  },
  "polyglot_notebook": {
   "kernelInfo": {
    "defaultKernelName": "csharp",
    "items": [
     {
      "aliases": [],
      "name": "csharp"
     },
     {
      "aliases": [],
      "languageName": "pwsh",
      "name": "pwsh"
     }
    ]
   }
  }
 },
 "nbformat": 4,
 "nbformat_minor": 2
}

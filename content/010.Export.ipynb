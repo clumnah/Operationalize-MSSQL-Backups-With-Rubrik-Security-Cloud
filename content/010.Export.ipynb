{
 "cells": [
  {
   "cell_type": "markdown",
   "metadata": {},
   "source": [
    "# Initiate a in place restore of a MSSQL Database\n",
    "In Rubrik, a restore is a in place operation. The original database on the original SQL Server instance is overwritten with the point in time provided. This is very important to understand as you could cause a production outage recovering a database when you mean to make a copy of a database. For that use export. Restore should only be used as a disaster recovery process.  \n",
    "\n",
    "New-RscMssqlRestore has multiple parameters, but the important ones to understand for most workflows are:\n",
    "- RscMssqlDatabase: This will be the object returned from Get-RscMssqlDatabase\n",
    "- Recovery Time: For the point in time value, there are a few different possibilities. \n",
    "    - **latest**: This will tell Rubrik to export the database to the latest recovery point Rubrik knows about. This will include the last full and any logs to get to the latest recovery point\n",
    "    - **lastfull**: This will tell Rubrik to restore back to the last full backup it has\n",
    "    - **RestoreTime**: This can be done in 1 of 2 formats\n",
    "        - Format: (HH:MM:SS.mmm) or (HH:MM:SS.mmmZ) - Restores the database back to the local or UTC time (respectively) at the point in time specified within the last 24 hours\n",
    "        - Format: Any valid <value> that PS Get-Date supports in: \"Get-Date -Date <Value>\"\n",
    "            - Example: \"2018-08-01T02:00:00.000Z\" restores back to 2AM on August 1, 2018 UTC.\n",
    "    This cmdlet will run Get-RscMssqlDatabaseRecoveryPoint\n",
    "- FinishRecovery: Ommitting this switch will restore the database into NORECOVERY mode. "
   ]
  },
  {
   "cell_type": "markdown",
   "metadata": {},
   "source": [
    "# Workflow\n",
    "To get information about the SQL Server Instance, you need to do the following\n",
    "1. Use **Connect-RSC** to Connect to RSC\n",
    "1. Use **Get-RscCluster** to get the cluster id that the SQL Server is registered. This is akin to the datacenter that the SQL Server is located in. While you can run the next command without the cluster ID, you may get more records back than expected. This is because your SQL Server Host could exist on 2 different cluster. Once as a replicated source and once as the replicated target. \n",
    "1. Use **Get-RscMssqlInstance** to get the instance id of the SQL Server based on the name of the instance and the cluster where it is located. \n",
    "1. Use **Get-RscMssqlDatabase** to get the database ID based on the database name and the SQL Server Instance. \n",
    "1. Use **New-RscMssqlRestore** to start an in place restore of the database to the point in time provided. \n",
    "1. Use **Get-RscRequest** to track the request and know when it completes. ***DOES NOT EXIST YET***\n",
    "1. Use **Disconnect-RSC** to disconnect from RSC\n",
    " new-rscmssqllogBackup -RscMssqlDatabase $mssqldatabase  "
   ]
  },
  {
   "cell_type": "markdown",
   "metadata": {},
   "source": [
    "## Connect to RSC"
   ]
  },
  {
   "cell_type": "code",
   "execution_count": 2,
   "metadata": {
    "dotnet_interactive": {
     "language": "pwsh"
    },
    "polyglot_notebook": {
     "kernelName": "pwsh"
    }
   },
   "outputs": [
    {
     "name": "stdout",
     "output_type": "stream",
     "text": [
      "\n",
      "Loading Rubrik Security Cloud PowerShell Module (PowerShell Core)...\n",
      "\n",
      "Welcome to the Rubrik Security Cloud PowerShell SDK!\n",
      "\n",
      "\tPlease refer to the Getting Started section of the Readme documentation: \n",
      "\thttps://github.com/rubrikinc/rubrik-powershell-sdk#getting-started\n",
      "\n",
      "\u001b[93mWARNING: Connect_Rsc: The installed RSC SDK version does not match the server version.\u001b[0m\n",
      "\n",
      "\u001b[32;1mClientId                                AuthenticationState SdkSchemaVersion ServerVersion\u001b[0m\n",
      "\u001b[32;1m--------                                ------------------- ---------------- -------------\u001b[0m\n",
      "client|kB5og68XXrFlfXcvWhn3jlHdf1OKyJCB          AUTHORIZED v20230920-45     v20231011-41\n",
      "\n"
     ]
    }
   ],
   "source": [
    "Set-Location '/Users/Chris.Lumnah/Library/CloudStorage/GoogleDrive-chris.lumnah@rubrik.com/My Drive/1.Projects/Powershell SDK/rubrik-powershell-sdk'\n",
    "Import-Module ./output/rubriksecuritycloud -force\n",
    "# Import-Module RubrikSecurityCloud\n",
    "Connect-RSC"
   ]
  },
  {
   "cell_type": "markdown",
   "metadata": {},
   "source": [
    "## Get the Cluster ID"
   ]
  },
  {
   "cell_type": "code",
   "execution_count": 3,
   "metadata": {
    "dotnet_interactive": {
     "language": "pwsh"
    },
    "polyglot_notebook": {
     "kernelName": "pwsh"
    }
   },
   "outputs": [
    {
     "name": "stdout",
     "output_type": "stream",
     "text": [
      "Get-RscCluster field profile: DEFAULT\n"
     ]
    }
   ],
   "source": [
    "$ClusterName = \"vault-r-london\"\n",
    "$RubrikCluster = Get-RscCluster -Name $ClusterName"
   ]
  },
  {
   "cell_type": "markdown",
   "metadata": {},
   "source": [
    "## Get the Instance Information"
   ]
  },
  {
   "cell_type": "code",
   "execution_count": 4,
   "metadata": {
    "dotnet_interactive": {
     "language": "pwsh"
    },
    "polyglot_notebook": {
     "kernelName": "pwsh"
    }
   },
   "outputs": [
    {
     "name": "stdout",
     "output_type": "stream",
     "text": [
      "Get-RscMssqlInstance field profile: DEFAULT\n"
     ]
    }
   ],
   "source": [
    "$HostName = \"rp-sql19s-001.perf.rubrik.com\"\n",
    "$RscMssqlInstance = Get-RscMssqlInstance -HostName $HostName  -ClusterId $RubrikCluster.id"
   ]
  },
  {
   "cell_type": "markdown",
   "metadata": {},
   "source": [
    "## Get the Database Information"
   ]
  },
  {
   "cell_type": "code",
   "execution_count": 5,
   "metadata": {
    "dotnet_interactive": {
     "language": "pwsh"
    },
    "polyglot_notebook": {
     "kernelName": "pwsh"
    }
   },
   "outputs": [
    {
     "name": "stdout",
     "output_type": "stream",
     "text": [
      "Get-RscMssqlDatabase field profile: DEFAULT\n"
     ]
    }
   ],
   "source": [
    "$DatabaseName = \"AdventureWorks2017\"\n",
    "$RscMssqlDatabase = Get-RscMssqlDatabase -Name $DatabaseName  -RscMssqlInstance $RscMssqlInstance"
   ]
  },
  {
   "cell_type": "markdown",
   "metadata": {},
   "source": [
    "## Intiate an in place restore of a database"
   ]
  },
  {
   "cell_type": "code",
   "execution_count": 6,
   "metadata": {
    "dotnet_interactive": {
     "language": "pwsh"
    },
    "polyglot_notebook": {
     "kernelName": "pwsh"
    }
   },
   "outputs": [
    {
     "name": "stdout",
     "output_type": "stream",
     "text": [
      "Get-RscMssqlDatabaseRecoveryPoint field profile: DEFAULT\n",
      "\u001b[31;1mMethodInvocationException: \u001b[0m/Users/Chris.Lumnah/Library/CloudStorage/GoogleDrive-chris.lumnah@rubrik.com/My Drive/1.Projects/Powershell SDK/rubrik-powershell-sdk/output/Toolkit/Public/New-RscMssqlRestore.ps1:103\u001b[0m\n",
      "\u001b[31;1m\u001b[0m\u001b[36;1mLine |\u001b[0m\n",
      "\u001b[31;1m\u001b[0m\u001b[36;1m\u001b[36;1m 103 | \u001b[0m         \u001b[36;1m$query.Invoke()\u001b[0m\n",
      "\u001b[31;1m\u001b[0m\u001b[36;1m\u001b[36;1m\u001b[0m\u001b[36;1m\u001b[0m\u001b[36;1m     | \u001b[31;1m         ~~~~~~~~~~~~~~~\u001b[0m\n",
      "\u001b[31;1m\u001b[0m\u001b[36;1m\u001b[36;1m\u001b[0m\u001b[36;1m\u001b[0m\u001b[36;1m\u001b[31;1m\u001b[31;1m\u001b[36;1m     | \u001b[31;1mException calling \"Invoke\" with \"0\" argument(s): \" One or more errors occurred. (The request\u001b[0m\n",
      "\u001b[31;1m\u001b[0m\u001b[36;1m\u001b[36;1m\u001b[0m\u001b[36;1m\u001b[0m\u001b[36;1m\u001b[31;1m\u001b[31;1m\u001b[36;1m\u001b[31;1m\u001b[36;1m     | \u001b[31;1mgenerated an error.  Query: mutation MutationRestoreMssqlDatabase($input:\u001b[0m\n",
      "\u001b[31;1m\u001b[0m\u001b[36;1m\u001b[36;1m\u001b[0m\u001b[36;1m\u001b[0m\u001b[36;1m\u001b[31;1m\u001b[31;1m\u001b[36;1m\u001b[31;1m\u001b[36;1m\u001b[31;1m\u001b[36;1m     | \u001b[31;1mRestoreMssqlDatabaseInput!) {   restoreMssqlDatabase   (   input: $input   )   {   id  \u001b[0m\n",
      "\u001b[31;1m\u001b[0m\u001b[36;1m\u001b[36;1m\u001b[0m\u001b[36;1m\u001b[0m\u001b[36;1m\u001b[31;1m\u001b[31;1m\u001b[36;1m\u001b[31;1m\u001b[36;1m\u001b[31;1m\u001b[36;1m\u001b[31;1m\u001b[36;1m     | \u001b[31;1mnodeId   status    __typename }  __typename }  Variables:\u001b[0m\n",
      "\u001b[31;1m\u001b[0m\u001b[36;1m\u001b[36;1m\u001b[0m\u001b[36;1m\u001b[0m\u001b[36;1m\u001b[31;1m\u001b[31;1m\u001b[36;1m\u001b[31;1m\u001b[36;1m\u001b[31;1m\u001b[36;1m\u001b[31;1m\u001b[36;1m\u001b[31;1m\u001b[36;1m     | \u001b[31;1m{\"input\":{\"config\":{\"finishRecovery\":true,\"maxDataStreams\":2,\"recoveryPoint\":{\"date\":\"2023-10-18T18:14:32-04:00\"}},\"id\":\"62e52b73-0516-5698-8c62-968f3c664dda\"}} Operation Name: MutationRestoreMssqlDatabase   GraphQLResponse<JObject>: Data: null Errors:  500 UNKNOWN: Status: 422 Unprocessable Entity. Body: {\"errorType\":\"user_error\",\"message\":\"Cannot recover database AdventureWorks2017 to instance rp-sql19s-001.perf.rubrik.com\\\\MSSQLSERVER.\",\"code\":\"RBK20200040\",\"cause\":null}   Locations:     Line: 3, Column: 3   Path: restoreMssqlDatabase   Extensions: {   \"code\": 500,   \"trace\": {     \"operation\": \"/api/graphql\",     \"traceId\": \"/pn6xtyuCCPW3el1XOwzew==\",     \"spanId\": \"NtuvSLjpmRQ=\"   } }   HTTP Status Code: 200 OK   ) The request generated an error.  Query: mutation MutationRestoreMssqlDatabase($input: RestoreMssqlDatabaseInput!) {   restoreMssqlDatabase   (   input: $input   )   {   id   nodeId   status    __typename }  __typename }  Variables: {\"input\":{\"config\":{\"finishRecovery\":true,\"maxDataStreams\":2,\"recoveryPoint\":{\"date\":\"2023-10-18T18:14:32-04:00\"}},\"id\":\"62e52b73-0516-5698-8c62-968f3c664dda\"}} Operation Name: MutationRestoreMssqlDatabase   GraphQLResponse<JObject>: Data: null Errors:  500 UNKNOWN: Status: 422 Unprocessable Entity. Body: {\"errorType\":\"user_error\",\"message\":\"Cannot recover database AdventureWorks2017 to instance rp-sql19s-001.perf.rubrik.com\\\\MSSQLSERVER.\",\"code\":\"RBK20200040\",\"cause\":null}   Locations:     Line: 3, Column: 3   Path: restoreMssqlDatabase   Extensions: {   \"code\": 500,   \"trace\": {     \"operation\": \"/api/graphql\",     \"traceId\": \"/pn6xtyuCCPW3el1XOwzew==\",     \"spanId\": \"NtuvSLjpmRQ=\"   } }   HTTP Status Code: 200 OK   \"\u001b[0m\n"
     ]
    }
   ],
   "source": [
    "New-RscMssqlRestore -RscMssqlDatabase $RscMssqlDatabase -Latest -FinishRecovery"
   ]
  },
  {
   "cell_type": "markdown",
   "metadata": {},
   "source": [
    "## Track the status of the restore"
   ]
  },
  {
   "cell_type": "code",
   "execution_count": null,
   "metadata": {
    "dotnet_interactive": {
     "language": "pwsh"
    },
    "polyglot_notebook": {
     "kernelName": "pwsh"
    }
   },
   "outputs": [],
   "source": []
  },
  {
   "cell_type": "markdown",
   "metadata": {},
   "source": [
    "---\n",
    "\n",
    "# Disconnect from RSC\n",
    "It is important to have each script you create end by disconnecting from RSC. If you do not, then you will run into issues with token authentication exhaustion. RSC allows a Service Account to have 10 concurrent open connections to RSC. Additional requests will be denied until existing connections are closed. \n",
    "\n",
    "You can easily disconnect your connection by running the below statement. "
   ]
  },
  {
   "cell_type": "code",
   "execution_count": null,
   "metadata": {
    "dotnet_interactive": {
     "language": "pwsh"
    },
    "polyglot_notebook": {
     "kernelName": "pwsh"
    }
   },
   "outputs": [],
   "source": [
    "Disconnect-Rsc"
   ]
  }
 ],
 "metadata": {
  "kernelspec": {
   "display_name": ".NET (C#)",
   "language": "C#",
   "name": ".net-csharp"
  },
  "language_info": {
   "name": "polyglot-notebook"
  },
  "polyglot_notebook": {
   "kernelInfo": {
    "defaultKernelName": "csharp",
    "items": [
     {
      "aliases": [],
      "name": "csharp"
     },
     {
      "aliases": [],
      "languageName": "pwsh",
      "name": "pwsh"
     }
    ]
   }
  }
 },
 "nbformat": 4,
 "nbformat_minor": 2
}

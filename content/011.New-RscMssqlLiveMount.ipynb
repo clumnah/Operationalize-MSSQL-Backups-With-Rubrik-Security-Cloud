{
 "cells": [
  {
   "cell_type": "markdown",
   "metadata": {},
   "source": [
    "# Initiate a live mount of a MSSQL Database\n",
    "Rubrik offers a unique feature called Live Mount that does a full restore of a database to a specific point in time, but instead of copying the data back to the target SQL Server, Rubrik uses its own storage for the database. SQL Server will acces these files via a secured SMB3 share on the Rubrik cluster. \n",
    "\n",
    "New-RscMssqlLiveMount has multiple parameters that are needed to perform the Live Mount\n",
    "- RscMssqlDatabase: This will be the object returned from Get-RscMssqlDatabase\n",
    "- MountedDatabaseName: The name of the Live Mounted Database\n",
    "- TargetMssqlInstance: This will be the object returned from Get-RscMssqlInstance\n",
    "- Recovery Time: For the point in time value, there are a few different possibilities. \n",
    "    - **latest**: This will tell Rubrik to export the database to the latest recovery point Rubrik knows about. This will include the last full and any logs to get to the latest recovery point\n",
    "    - **lastfull**: This will tell Rubrik to restore back to the last full backup it has\n",
    "    - **RestoreTime**: This can be done in 1 of 2 formats\n",
    "        - Format: (HH:MM:SS.mmm) or (HH:MM:SS.mmmZ) - Restores the database back to the local or UTC time (respectively) at the point in time specified within the last 24 hours\n",
    "        - Format: Any valid <value> that PS Get-Date supports in: \"Get-Date -Date <Value>\"\n",
    "            - Example: \"2018-08-01T02:00:00.000Z\" restores back to 2AM on August 1, 2018 UTC.\n",
    "    This cmdlet will run Get-RscMssqlDatabaseRecoveryPoint"
   ]
  },
  {
   "cell_type": "markdown",
   "metadata": {},
   "source": [
    "# Workflow\n",
    "To get information about the SQL Server Instance, you need to do the following\n",
    "1. Use **Connect-RSC** to Connect to RSC\n",
    "1. Use **Get-RscCluster** to get the cluster id that the SQL Server is registered. This is akin to the datacenter that the SQL Server is located in. While you can run the next command without the cluster ID, you may get more records back than expected. This is because your SQL Server Host could exist on 2 different cluster. Once as a replicated source and once as the replicated target. \n",
    "1. Use **Get-RscMssqlInstance** to get the instance id of the Source SQL Server based on the name of the instance and the cluster where it is located. \n",
    "1. Use **Get-RscMssqlDatabase** to get the database ID based on the database name and the SQL Server Instance. \n",
    "1. Use **Get-RscMssqlInstance** to get the instance id of the Target SQL Server based on the name of the instance and the cluster where it is located. \n",
    "1. Use **Get-RscMssqlDatabaseRecoveryPoint** to get the fully formatted date that corresponds to the recovery point selected. \n",
    "1. Use **New-RscMssqlLiveMount** to start live mount of a database to a specific point in time. \n",
    "1. Use **Get-RscRequest** to track the request and know when it completes. ***DOES NOT EXIST YET***\n",
    "1. Use **Disconnect-RSC** to disconnect from RSC\n",
    " new-rscmssqllogBackup -RscMssqlDatabase $mssqldatabase  "
   ]
  },
  {
   "cell_type": "markdown",
   "metadata": {},
   "source": [
    "## Connect to RSC"
   ]
  },
  {
   "cell_type": "code",
   "execution_count": null,
   "metadata": {
    "dotnet_interactive": {
     "language": "pwsh"
    },
    "polyglot_notebook": {
     "kernelName": "pwsh"
    }
   },
   "outputs": [],
   "source": [
    "Set-Location '/Users/Chris.Lumnah/Library/CloudStorage/GoogleDrive-chris.lumnah@rubrik.com/My Drive/1.Projects/Powershell SDK/rubrik-powershell-sdk'\n",
    "Import-Module ./output/rubriksecuritycloud -force\n",
    "# Import-Module RubrikSecurityCloud\n",
    "Connect-RSC"
   ]
  },
  {
   "cell_type": "markdown",
   "metadata": {},
   "source": [
    "## Get the Cluster ID"
   ]
  },
  {
   "cell_type": "code",
   "execution_count": null,
   "metadata": {
    "dotnet_interactive": {
     "language": "pwsh"
    },
    "polyglot_notebook": {
     "kernelName": "pwsh"
    }
   },
   "outputs": [],
   "source": [
    "$ClusterName = \"vault-r-london\"\n",
    "$RscCluster = Get-RscCluster -Name $ClusterName"
   ]
  },
  {
   "cell_type": "markdown",
   "metadata": {},
   "source": [
    "## Get the Source Instance Information"
   ]
  },
  {
   "cell_type": "code",
   "execution_count": null,
   "metadata": {
    "dotnet_interactive": {
     "language": "pwsh"
    },
    "polyglot_notebook": {
     "kernelName": "pwsh"
    }
   },
   "outputs": [],
   "source": [
    "$HostName = \"rp-sql19s-001.perf.rubrik.com\"\n",
    "$RscHost = Get-RscHost -Name $HostName -OsType Windows\n",
    "\n",
    "$RscMssqlInstance = Get-RscMssqlInstance -RscHost $RscHost -RscCluster $RscCluster"
   ]
  },
  {
   "cell_type": "markdown",
   "metadata": {},
   "source": [
    "## Get the Database Information"
   ]
  },
  {
   "cell_type": "code",
   "execution_count": null,
   "metadata": {
    "dotnet_interactive": {
     "language": "pwsh"
    },
    "polyglot_notebook": {
     "kernelName": "pwsh"
    }
   },
   "outputs": [],
   "source": [
    "$DatabaseName = \"AdventureWorks2019\"\n",
    "$RscMssqlDatabase = Get-RscMssqlDatabase -Name $DatabaseName -RscMssqlInstance $RscMssqlInstance\n",
    "$RscMssqlDatabase"
   ]
  },
  {
   "cell_type": "markdown",
   "metadata": {},
   "source": [
    "## Get the Target Instance Information"
   ]
  },
  {
   "cell_type": "code",
   "execution_count": null,
   "metadata": {
    "dotnet_interactive": {
     "language": "pwsh"
    },
    "polyglot_notebook": {
     "kernelName": "pwsh"
    }
   },
   "outputs": [],
   "source": [
    "$HostName = \"rp-sql19s-001.perf.rubrik.com\"\n",
    "$RscHost = Get-RscHost -Name $HostName -OsType Windows\n",
    "\n",
    "$TargetMssqlInstance = Get-RscMssqlInstance -RscHost $RscHost -RscCluster $RscCluster"
   ]
  },
  {
   "cell_type": "markdown",
   "metadata": {},
   "source": [
    "## Get the fully formatted recovery point"
   ]
  },
  {
   "cell_type": "code",
   "execution_count": null,
   "metadata": {
    "dotnet_interactive": {
     "language": "pwsh"
    },
    "polyglot_notebook": {
     "kernelName": "pwsh"
    }
   },
   "outputs": [],
   "source": [
    "$RecoveryDateTime = Get-RscMssqlDatabaseRecoveryPoint -RscMssqlDatabase $RscMssqlDatabase -Latest"
   ]
  },
  {
   "cell_type": "markdown",
   "metadata": {},
   "source": [
    "## Intiate an Live Mount of a database"
   ]
  },
  {
   "cell_type": "code",
   "execution_count": null,
   "metadata": {
    "dotnet_interactive": {
     "language": "pwsh"
    },
    "polyglot_notebook": {
     "kernelName": "pwsh"
    }
   },
   "outputs": [],
   "source": [
    "$NewRscMssqlLiveMount = @{\n",
    "    RscMssqlDatabase = $RscMssqlDatabase\n",
    "    MountedDatabaseName = \"test\"\n",
    "    TargetMssqlInstance = $TargetMssqlInstance\n",
    "    RecoveryDateTime = $RecoveryDateTime\n",
    "}\n",
    "New-RscMssqlLiveMount @NewRscMssqlLiveMount"
   ]
  },
  {
   "cell_type": "markdown",
   "metadata": {},
   "source": [
    "## Track the status of the restore"
   ]
  },
  {
   "cell_type": "code",
   "execution_count": null,
   "metadata": {
    "dotnet_interactive": {
     "language": "pwsh"
    },
    "polyglot_notebook": {
     "kernelName": "pwsh"
    }
   },
   "outputs": [],
   "source": []
  },
  {
   "cell_type": "markdown",
   "metadata": {},
   "source": [
    "---\n",
    "\n",
    "# Disconnect from RSC\n",
    "It is important to have each script you create end by disconnecting from RSC. If you do not, then you will run into issues with token authentication exhaustion. RSC allows a Service Account to have 10 concurrent open connections to RSC. Additional requests will be denied until existing connections are closed. \n",
    "\n",
    "You can easily disconnect your connection by running the below statement. "
   ]
  },
  {
   "cell_type": "code",
   "execution_count": null,
   "metadata": {
    "dotnet_interactive": {
     "language": "pwsh"
    },
    "polyglot_notebook": {
     "kernelName": "pwsh"
    }
   },
   "outputs": [],
   "source": [
    "Disconnect-Rsc"
   ]
  }
 ],
 "metadata": {
  "kernelspec": {
   "display_name": ".NET (C#)",
   "language": "C#",
   "name": ".net-csharp"
  },
  "language_info": {
   "name": "polyglot-notebook"
  },
  "polyglot_notebook": {
   "kernelInfo": {
    "defaultKernelName": "csharp",
    "items": [
     {
      "aliases": [],
      "name": "csharp"
     },
     {
      "aliases": [],
      "languageName": "pwsh",
      "name": "pwsh"
     }
    ]
   }
  }
 },
 "nbformat": 4,
 "nbformat_minor": 2
}

{
 "cells": [
  {
   "cell_type": "markdown",
   "metadata": {},
   "source": [
    "# New-RscMssqlSnapshot\n",
    "DBAs will often take a backup before they make a change to the database. In general, you need 2 things to take a snapshot of a database, the database ID and the SLA ID. An SLA is required for all on demand snapshots to manage the retention of the snapshot. "
   ]
  },
  {
   "cell_type": "markdown",
   "metadata": {},
   "source": [
    "# Workflow\n",
    "To start an On-Demand Snapsot of a database, you need to do the following\n",
    "1. Use **Connect-RSC** to Connect to RSC\n",
    "1. Use **Get-RscCluster** to get the cluster id that the SQL Server is registered. This is akin to the datacenter that the SQL Server is located in. While you can run the next command without the cluster ID, you may get more records back than expected. This is because your SQL Server Host could exist on 2 different cluster. Once as a replicated source and once as the replicated target. \n",
    "1. Use **Get-RscMssqlInstance** to get the instance id of the SQL Server based on the name of the instance and the cluster where it is located. \n",
    "1. Use **Get-RscMssqlDatabase** to get the database ID based on the database name and the SQL Server Instance. \n",
    "1. Use **Get-RscSLADomain** to get the ID SLA Domain that will manage the retention of the snapshot.\n",
    "1. Use **New-RscMssqlSnapshot** to initiate an On Demand Snapshot of a database. \n",
    "1. Use **Get-RscRequest** to track the request and know when it completes. ***DOES NOT EXIST YET***\n",
    "1. Use **Disconnect-RSC** to disconnect from RSC"
   ]
  },
  {
   "cell_type": "markdown",
   "metadata": {},
   "source": [
    "## Connect to RSC"
   ]
  },
  {
   "cell_type": "code",
   "execution_count": 1,
   "metadata": {
    "dotnet_interactive": {
     "language": "pwsh"
    },
    "polyglot_notebook": {
     "kernelName": "pwsh"
    }
   },
   "outputs": [
    {
     "name": "stdout",
     "output_type": "stream",
     "text": [
      "\n",
      "\u001b[32;1mClientId                               \u001b[0m\u001b[32;1m AuthenticationState\u001b[0m\u001b[32;1m SdkSchemaVersion\u001b[0m\u001b[32;1m ServerVersion\u001b[0m\n",
      "\u001b[32;1m--------                               \u001b[0m \u001b[32;1m-------------------\u001b[0m \u001b[32;1m----------------\u001b[0m \u001b[32;1m-------------\u001b[0m\n",
      "client|kB5og68XXrFlfXcvWhn3jlHdf1OKyJCB          AUTHORIZED v20231211-26     v20231211-26\n",
      "\n"
     ]
    }
   ],
   "source": [
    "Import-Module RubrikSecurityCloud\n",
    "Connect-RSC"
   ]
  },
  {
   "cell_type": "markdown",
   "metadata": {},
   "source": [
    "## Get the Cluster ID"
   ]
  },
  {
   "cell_type": "code",
   "execution_count": 2,
   "metadata": {
    "dotnet_interactive": {
     "language": "pwsh"
    },
    "polyglot_notebook": {
     "kernelName": "pwsh"
    }
   },
   "outputs": [],
   "source": [
    "$ClusterName = \"vault-r-london\"\n",
    "$RscCluster = Get-RscCluster -Name $ClusterName"
   ]
  },
  {
   "cell_type": "markdown",
   "metadata": {},
   "source": [
    "## Get the Instance Information"
   ]
  },
  {
   "cell_type": "code",
   "execution_count": 3,
   "metadata": {
    "dotnet_interactive": {
     "language": "pwsh"
    },
    "polyglot_notebook": {
     "kernelName": "pwsh"
    }
   },
   "outputs": [],
   "source": [
    "$HostName = \"rp-sql19s-001.perf.rubrik.com\"\n",
    "$RscHost = Get-RscHost -Name $HostName -OsType Windows\n",
    "$RscMssqlInstance = Get-RscMssqlInstance -RscHost $RscHost -RscCluster $RscCluster"
   ]
  },
  {
   "cell_type": "markdown",
   "metadata": {},
   "source": [
    "## Get the Database Information"
   ]
  },
  {
   "cell_type": "code",
   "execution_count": 4,
   "metadata": {
    "dotnet_interactive": {
     "language": "pwsh"
    },
    "polyglot_notebook": {
     "kernelName": "pwsh"
    }
   },
   "outputs": [],
   "source": [
    "$DatabaseName = \"AdventureWorks2019\"\n",
    "$RscMssqlDatabase = Get-RscMssqlDatabase -Name $DatabaseName  -RscMssqlInstance $RscMssqlInstance"
   ]
  },
  {
   "cell_type": "markdown",
   "metadata": {},
   "source": [
    "## Get SLA Domain Information"
   ]
  },
  {
   "cell_type": "code",
   "execution_count": 10,
   "metadata": {
    "dotnet_interactive": {
     "language": "pwsh"
    },
    "polyglot_notebook": {
     "kernelName": "pwsh"
    }
   },
   "outputs": [
    {
     "name": "stdout",
     "output_type": "stream",
     "text": [
      "\n",
      "   TypeName: RubrikSecurityCloud.Types.GlobalSlaReply\n",
      "\n",
      "\u001b[32;1mName                         \u001b[0m\u001b[32;1m MemberType\u001b[0m\u001b[32;1m Definition\u001b[0m\n",
      "\u001b[32;1m----                         \u001b[0m \u001b[32;1m----------\u001b[0m \u001b[32;1m----------\u001b[0m\n",
      "AllFields                     Method     System.Collections.Generic.List[string] AllFields()\n",
      "ApplyExploratoryFieldSpec     Method     void ApplyExploratoryFieldSpec(RubrikSecurityCloud.Explor…\n",
      "AsFieldSpec                   Method     string AsFieldSpec(RubrikSecurityCloud.Types.FieldSpecCon…\n",
      "Equals                        Method     bool Equals(System.Object obj)\n",
      "GetGqlTypeName                Method     string GetGqlTypeName()\n",
      "GetHashCode                   Method     int GetHashCode()\n",
      "GetType                       Method     type GetType()\n",
      "SelectedFields                Method     System.Collections.Generic.List[string] SelectedFields(),…\n",
      "SelectForRetrieval            Method     void SelectForRetrieval(), void IFieldSpec.SelectForRetri…\n",
      "Set                           Method     RubrikSecurityCloud.Types.GlobalSlaReply Set(System.Colle…\n",
      "ToString                      Method     string ToString()\n",
      "UnselectedFields              Method     System.Collections.Generic.List[string] UnselectedFields()\n",
      "AllOrgsHavingAccess           Property   System.Collections.Generic.List[RubrikSecurityCloud.Types…\n",
      "AllOrgsWithAccess             Property   System.Collections.Generic.List[RubrikSecurityCloud.Types…\n",
      "ArchivalLocationsUpgradeInfo  Property   System.Collections.Generic.List[RubrikSecurityCloud.Types…\n",
      "ArchivalSpec                  Property   RubrikSecurityCloud.Types.ArchivalSpec ArchivalSpec {get;…\n",
      "ArchivalSpecs                 Property   System.Collections.Generic.List[RubrikSecurityCloud.Types…\n",
      "BackupWindows                 Property   System.Collections.Generic.List[RubrikSecurityCloud.Types…\n",
      "BaseFrequency                 Property   RubrikSecurityCloud.Types.Duration BaseFrequency {get;set…\n",
      "ClusterToSyncStatusMap        Property   System.Collections.Generic.List[RubrikSecurityCloud.Types…\n",
      "ClusterUuid                   Property   string ClusterUuid {get;set;}\n",
      "Description                   Property   string Description {get;set;}\n",
      "FirstFullBackupWindows        Property   System.Collections.Generic.List[RubrikSecurityCloud.Types…\n",
      "Id                            Property   string Id {get;set;}\n",
      "IsArchived                    Property   System.Nullable[bool] IsArchived {get;set;}\n",
      "IsDefault                     Property   System.Nullable[bool] IsDefault {get;set;}\n",
      "IsRetentionLockedSla          Property   System.Nullable[bool] IsRetentionLockedSla {get;set;}\n",
      "LocalRetentionLimit           Property   RubrikSecurityCloud.Types.Duration LocalRetentionLimit {g…\n",
      "LogConfig                     Property   RubrikSecurityCloud.Types.LogConfigResult LogConfig {get;…\n",
      "Name                          Property   string Name {get;set;}\n",
      "ObjectSpecificConfigs         Property   RubrikSecurityCloud.Types.ObjectSpecificConfigs ObjectSpe…\n",
      "ObjectTypes                   Property   System.Collections.Generic.List[RubrikSecurityCloud.Types…\n",
      "OwnerOrg                      Property   RubrikSecurityCloud.Types.SlaAssociatedOrganization Owner…\n",
      "OwnerOrgName                  Property   string OwnerOrgName {get;set;}\n",
      "PausedClustersInfo            Property   RubrikSecurityCloud.Types.PausedClustersInfo PausedCluste…\n",
      "ProtectedObjectCount          Property   System.Nullable[int] ProtectedObjectCount {get;set;}\n",
      "ReplicationSpec               Property   RubrikSecurityCloud.Types.ReplicationSpec ReplicationSpec…\n",
      "ReplicationSpecsV2            Property   System.Collections.Generic.List[RubrikSecurityCloud.Types…\n",
      "RetentionLockMode             Property   System.Nullable[RubrikSecurityCloud.Types.RetentionLockMo…\n",
      "SnapshotSchedule              Property   RubrikSecurityCloud.Types.SnapshotSchedule SnapshotSchedu…\n",
      "SnapshotScheduleLastUpdatedAt Property   System.Nullable[datetime] SnapshotScheduleLastUpdatedAt {…\n",
      "StateVersion                  Property   System.Nullable[long] StateVersion {get;set;}\n",
      "UiColor                       Property   string UiColor {get;set;}\n",
      "UpgradeInfo                   Property   RubrikSecurityCloud.Types.SlaUpgradeInfo UpgradeInfo {get…\n",
      "Version                       Property   string Version {get;set;}\n",
      "\n"
     ]
    }
   ],
   "source": [
    "$SLADomain = \"MSSQL-1d-30d-NoArchive-Repl-Houghton\"\n",
    "$RscSlaDomain = Get-RscSlaDomain -Name $SLADomain\n",
    "$RscSlaDomain.Nodes |Get-Member"
   ]
  },
  {
   "cell_type": "markdown",
   "metadata": {},
   "source": [
    "## Initiate On Demand Snapshot"
   ]
  },
  {
   "cell_type": "code",
   "execution_count": 11,
   "metadata": {
    "dotnet_interactive": {
     "language": "pwsh"
    },
    "polyglot_notebook": {
     "kernelName": "pwsh"
    }
   },
   "outputs": [
    {
     "name": "stdout",
     "output_type": "stream",
     "text": [
      "\u001b[31;1mNew-RscMssqlSnapshot: \u001b[31;1mCannot process argument transformation on parameter 'RscSlaDomain'. Cannot convert the \"System.Collections.Generic.List`1[RubrikSecurityCloud.Types.SlaDomain]\" value of type \"System.Collections.Generic.List`1[[RubrikSecurityCloud.Types.SlaDomain, RubrikSecurityCloud.Schema, Version=1.0.0.0, Culture=neutral, PublicKeyToken=null]]\" to type \"RubrikSecurityCloud.Types.GlobalSlaReply\".\u001b[0m\n"
     ]
    },
    {
     "ename": "Error",
     "evalue": "Command failed: SubmitCode: New-RscMssqlSnapshot -RscMssqlDatabase $RscMssqlDa ...",
     "output_type": "error",
     "traceback": [
      "Command failed: SubmitCode: New-RscMssqlSnapshot -RscMssqlDatabase $RscMssqlDa ..."
     ]
    }
   ],
   "source": [
    "New-RscMssqlSnapshot -RscMssqlDatabase $RscMssqlDatabase -RscSlaDomain ($RscSlaDomain.Nodes)"
   ]
  },
  {
   "cell_type": "markdown",
   "metadata": {},
   "source": [
    "## Track the status of the backup"
   ]
  },
  {
   "cell_type": "code",
   "execution_count": null,
   "metadata": {
    "dotnet_interactive": {
     "language": "csharp"
    },
    "polyglot_notebook": {
     "kernelName": "csharp"
    }
   },
   "outputs": [],
   "source": []
  },
  {
   "cell_type": "markdown",
   "metadata": {},
   "source": [
    "---\n",
    "\n",
    "# Disconnect from RSC\n",
    "It is important to have each script you create end by disconnecting from RSC. If you do not, then you will run into issues with token authentication exhaustion. RSC allows a Service Account to have 10 concurrent open connections to RSC. Additional requests will be denied until existing connections are closed. \n",
    "\n",
    "You can easily disconnect your connection by running the below statement. "
   ]
  },
  {
   "cell_type": "code",
   "execution_count": null,
   "metadata": {
    "dotnet_interactive": {
     "language": "pwsh"
    },
    "polyglot_notebook": {
     "kernelName": "pwsh"
    }
   },
   "outputs": [],
   "source": [
    "Disconnect-Rsc"
   ]
  }
 ],
 "metadata": {
  "kernelspec": {
   "display_name": ".NET (C#)",
   "language": "C#",
   "name": ".net-csharp"
  },
  "language_info": {
   "name": "polyglot-notebook"
  },
  "polyglot_notebook": {
   "kernelInfo": {
    "defaultKernelName": "csharp",
    "items": [
     {
      "aliases": [],
      "name": "csharp"
     },
     {
      "aliases": [],
      "languageName": "pwsh",
      "name": "pwsh"
     }
    ]
   }
  }
 },
 "nbformat": 4,
 "nbformat_minor": 2
}

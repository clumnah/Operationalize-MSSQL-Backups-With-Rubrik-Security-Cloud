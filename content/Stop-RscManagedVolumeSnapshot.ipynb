{
 "cells": [
  {
   "cell_type": "markdown",
   "metadata": {},
   "source": [
    "# Stop-RscManagedVolumeSnapshot\n",
    "Managed Volumes (MV) provide hosts with a backup target location on a Rubrik cluster. The cluster manages snapshots of the data through the policies of a specified SLA Domain. DBAs will typically use a MVs for writing backups of databases where Rubrik does not have a built in snappable yet. The Stop-RscManagedVolumeSnapshot cmdlet closes the MV for write. This will then tell Rubrik to start doing its post-processing tasks like indexing.\n",
    "\n",
    "This process works with Persistent Mount Managed Volumes and not SLA Driven Managed Volumes. \n",
    "\n",
    "If you are using this cmdlet, we assume that you have already written data to the MV and now need to make it read only. \n",
    "\n",
    "You can use any command you want to send data to the MV. \n",
    "- Oracle DBAs may use RMAN scripts\n",
    "- SQL Server DBAs may use T-SQL scripts\n",
    "- MySQL DBAs may use mysqldump\n",
    "- PostgreSQL DBAs may use barman\n",
    "- A simple copy command to copy files from a host to the share on the Rubrik cluster. "
   ]
  },
  {
   "cell_type": "markdown",
   "metadata": {},
   "source": [
    "# Workflow\n",
    "To get information about the SQL Server Instance, you need to do the following\n",
    "1. Use **Connect-RSC** to Connect to RSC\n",
    "1. Use **Get-RscCluster** to get the cluster id that the Managed Volume is registered. This is akin to the datacenter that the Managed Volume is located in. While you can run the next command without the cluster ID, you may get more records back than expected. This is because your Managed Volume could exist on 2 different clusters. Once as a replicated source and once as the replicated target. \n",
    "1. Use **Get-RscManagedVolume** to get the id of the Managed Volume\n",
    "1. Use **Get-RscSla** to get the id of the SLA Domain. This will be used in the next command when setting the MV to read only to allow Rubrik to goveren the life cycle of the snapshot of the MV. \n",
    "1. Use **Stop-RscManagedVolumeSnapshot** to make the MV read only\n",
    "1. Use **Disconnect-RSC** to disconnect from RSC"
   ]
  },
  {
   "cell_type": "markdown",
   "metadata": {},
   "source": [
    "## Connect to RSC"
   ]
  },
  {
   "cell_type": "code",
   "execution_count": 1,
   "metadata": {
    "dotnet_interactive": {
     "language": "pwsh"
    },
    "polyglot_notebook": {
     "kernelName": "pwsh"
    }
   },
   "outputs": [
    {
     "name": "stdout",
     "output_type": "stream",
     "text": [
      "\n",
      "\u001b[32;1mClientId                               \u001b[0m\u001b[32;1m AuthenticationState\u001b[0m\u001b[32;1m SdkSchemaVersion\u001b[0m\u001b[32;1m ServerVersion\u001b[0m\n",
      "\u001b[32;1m--------                               \u001b[0m \u001b[32;1m-------------------\u001b[0m \u001b[32;1m----------------\u001b[0m \u001b[32;1m-------------\u001b[0m\n",
      "client|kB5og68XXrFlfXcvWhn3jlHdf1OKyJCB          AUTHORIZED v20240219-20     v20240219-20\n",
      "\n"
     ]
    }
   ],
   "source": [
    "Import-Module RubrikSecurityCloud\n",
    "Connect-RSC"
   ]
  },
  {
   "cell_type": "markdown",
   "metadata": {},
   "source": [
    "## Get the Cluster ID"
   ]
  },
  {
   "cell_type": "code",
   "execution_count": 2,
   "metadata": {
    "dotnet_interactive": {
     "language": "pwsh"
    },
    "polyglot_notebook": {
     "kernelName": "pwsh"
    }
   },
   "outputs": [],
   "source": [
    "$ClusterName = \"vault-r-london\"\n",
    "$RscCluster = Get-RscCluster -Name $ClusterName"
   ]
  },
  {
   "cell_type": "markdown",
   "metadata": {},
   "source": [
    "## Get the Managed Volume Information"
   ]
  },
  {
   "cell_type": "code",
   "execution_count": 4,
   "metadata": {
    "dotnet_interactive": {
     "language": "pwsh"
    },
    "polyglot_notebook": {
     "kernelName": "pwsh"
    }
   },
   "outputs": [],
   "source": [
    "$MVName = \"rp-mysql-01\"\n",
    "$RscManagedVolume = Get-RscManagedVolume -Name $MVName -RscCluster $RscCluster"
   ]
  },
  {
   "cell_type": "markdown",
   "metadata": {},
   "source": [
    "## Get SLA Domain Information"
   ]
  },
  {
   "cell_type": "code",
   "execution_count": 5,
   "metadata": {
    "dotnet_interactive": {
     "language": "pwsh"
    },
    "polyglot_notebook": {
     "kernelName": "pwsh"
    }
   },
   "outputs": [],
   "source": [
    "$SLADomain = \"1d-14d-NRA\"\n",
    "$RscSlaDomain = Get-RscSla -Name $SLADomain "
   ]
  },
  {
   "cell_type": "markdown",
   "metadata": {},
   "source": [
    "## Make the Managed Volume read only"
   ]
  },
  {
   "cell_type": "code",
   "execution_count": 6,
   "metadata": {
    "dotnet_interactive": {
     "language": "pwsh"
    },
    "polyglot_notebook": {
     "kernelName": "pwsh"
    }
   },
   "outputs": [
    {
     "name": "stdout",
     "output_type": "stream",
     "text": [
      "\n",
      "\u001b[32;1mAsyncRequestStatus                          \u001b[0m\u001b[32;1m ManagedVolumeSnapshotSummary\u001b[0m\n",
      "\u001b[32;1m------------------                          \u001b[0m \u001b[32;1m----------------------------\u001b[0m\n",
      "RubrikSecurityCloud.Types.AsyncRequestStatus \n",
      "\n"
     ]
    }
   ],
   "source": [
    "Stop-RscManagedVolumeSnapshot -RscManagedVolume $RscManagedVolume -RscSlaDomain $RscSlaDomain"
   ]
  },
  {
   "cell_type": "markdown",
   "metadata": {},
   "source": [
    "---\n",
    "\n",
    "# Disconnect from RSC\n",
    "It is important to have each script you create end by disconnecting from RSC. If you do not, then you will run into issues with token authentication exhaustion. RSC allows a Service Account to have 10 concurrent open connections to RSC. Additional requests will be denied until existing connections are closed. \n",
    "\n",
    "You can easily disconnect your connection by running the below statement. "
   ]
  },
  {
   "cell_type": "code",
   "execution_count": null,
   "metadata": {
    "dotnet_interactive": {
     "language": "pwsh"
    },
    "polyglot_notebook": {
     "kernelName": "pwsh"
    }
   },
   "outputs": [],
   "source": [
    "Disconnect-Rsc"
   ]
  }
 ],
 "metadata": {
  "kernelspec": {
   "display_name": ".NET (C#)",
   "language": "C#",
   "name": ".net-csharp"
  },
  "language_info": {
   "name": "polyglot-notebook"
  },
  "polyglot_notebook": {
   "kernelInfo": {
    "defaultKernelName": "csharp",
    "items": [
     {
      "aliases": [],
      "name": "csharp"
     },
     {
      "aliases": [],
      "languageName": "pwsh",
      "name": "pwsh"
     }
    ]
   }
  }
 },
 "nbformat": 4,
 "nbformat_minor": 2
}

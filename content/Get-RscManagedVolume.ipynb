{
 "cells": [
  {
   "cell_type": "markdown",
   "metadata": {},
   "source": [
    "# Get-RscManagedVolume \n",
    "Managed Volumes (MV) provide hosts with a backup target location on a Rubrik cluster. The cluster manages snapshots of the data through the policies of a specified SLA Domain. DBAs will typically use a MVs for writing backups of databases where Rubrik does not have a built in snappable yet. \n",
    "\n",
    "This process works with Persistent Mount Managed Volumes and not SLA Driven Managed Volumes. "
   ]
  },
  {
   "cell_type": "markdown",
   "metadata": {},
   "source": [
    "# Workflow\n",
    "To get information about the Managed Volume, you need to do the following\n",
    "1. Use **Connect-RSC** to Connect to RSC\n",
    "1. Use **Get-RscCluster** to get the cluster id that the Managed Volume is registered. This is akin to the datacenter that the Managed Volume is located in. While you can run the next command without the cluster, you may get more records back than expected. This is because your Managed Volume could exist on 2 different clusters. Once as a replicated source and once as the replicated target. \n",
    "1. Use **Get-RscManagedVolume** to get the id of the Managed Volume\n",
    "1. Use **Disconnect-RSC** to disconnect from RSC"
   ]
  },
  {
   "cell_type": "markdown",
   "metadata": {},
   "source": [
    "## Connect to RSC"
   ]
  },
  {
   "cell_type": "code",
   "execution_count": 1,
   "metadata": {
    "dotnet_interactive": {
     "language": "pwsh"
    },
    "polyglot_notebook": {
     "kernelName": "pwsh"
    }
   },
   "outputs": [
    {
     "name": "stdout",
     "output_type": "stream",
     "text": [
      "\n",
      "\u001b[32;1mClientId                               \u001b[0m\u001b[32;1m AuthenticationState\u001b[0m\u001b[32;1m SdkSchemaVersion\u001b[0m\u001b[32;1m ServerVersion\u001b[0m\n",
      "\u001b[32;1m--------                               \u001b[0m \u001b[32;1m-------------------\u001b[0m \u001b[32;1m----------------\u001b[0m \u001b[32;1m-------------\u001b[0m\n",
      "client|kB5og68XXrFlfXcvWhn3jlHdf1OKyJCB          AUTHORIZED v20240219-20     v20240219-20\n",
      "\n"
     ]
    }
   ],
   "source": [
    "Import-Module RubrikSecurityCloud\n",
    "Connect-RSC"
   ]
  },
  {
   "cell_type": "markdown",
   "metadata": {},
   "source": [
    "## Get the Cluster ID"
   ]
  },
  {
   "cell_type": "code",
   "execution_count": 2,
   "metadata": {
    "dotnet_interactive": {
     "language": "pwsh"
    },
    "polyglot_notebook": {
     "kernelName": "pwsh"
    }
   },
   "outputs": [],
   "source": [
    "$ClusterName = \"vault-r-london\"\n",
    "$RscCluster = Get-RscCluster -Name $ClusterName"
   ]
  },
  {
   "cell_type": "markdown",
   "metadata": {},
   "source": [
    "## Get the Managed Volume Information"
   ]
  },
  {
   "cell_type": "code",
   "execution_count": 3,
   "metadata": {
    "dotnet_interactive": {
     "language": "pwsh"
    },
    "polyglot_notebook": {
     "kernelName": "pwsh"
    }
   },
   "outputs": [
    {
     "name": "stdout",
     "output_type": "stream",
     "text": [
      "\n",
      "\u001b[32;1mApplicationTag                  : \u001b[0m\n",
      "\u001b[32;1mAuthorizedOperations            : \u001b[0m\n",
      "\u001b[32;1mManagedVolumeType               : \u001b[0m\n",
      "\u001b[32;1mMountState                      : \u001b[0mREAD_ONLY\n",
      "\u001b[32;1mObjectType                      : \u001b[0mMANAGED_VOLUME\n",
      "\u001b[32;1mProtocol                        : \u001b[0m\n",
      "\u001b[32;1mSlaAssignment                   : \u001b[0mDIRECT\n",
      "\u001b[32;1mState                           : \u001b[0mMANAGED_VOLUME_STATE_EXPORTED\n",
      "\u001b[32;1mConfiguredSlaDomain             : \u001b[0m\n",
      "\u001b[32;1mEffectiveRetentionSlaDomain     : \u001b[0m\n",
      "\u001b[32;1mEffectiveSlaDomain              : \u001b[0mRubrikSecurityCloud.Types.GlobalSlaReply\n",
      "\u001b[32;1mPendingSla                      : \u001b[0m\n",
      "\u001b[32;1mReplicatedObjects               : \u001b[0m\n",
      "\u001b[32;1mCdmId                           : \u001b[0m06eb9870-72e6-479f-a2e2-6eca63ec41d8\n",
      "\u001b[32;1mCdmLink                         : \u001b[0m\n",
      "\u001b[32;1mClientNamePatterns              : \u001b[0m\n",
      "\u001b[32;1mId                              : \u001b[0m84189a16-df52-5dd1-b5ef-1806d680e404\n",
      "\u001b[32;1mIsRelic                         : \u001b[0mFalse\n",
      "\u001b[32;1mName                            : \u001b[0mrp-mysql-01\n",
      "\u001b[32;1mNumChannels                     : \u001b[0m\n",
      "\u001b[32;1mNumWorkloadDescendants          : \u001b[0m0\n",
      "\u001b[32;1mOnDemandSnapshotCount           : \u001b[0m\n",
      "\u001b[32;1mPhysicalUsedSize                : \u001b[0m\n",
      "\u001b[32;1mProtectionDate                  : \u001b[0m\n",
      "\u001b[32;1mProvisionedSize                 : \u001b[0m\n",
      "\u001b[32;1mReplicatedObjectCount           : \u001b[0m\n",
      "\u001b[32;1mSlaPauseStatus                  : \u001b[0mFalse\n",
      "\u001b[32;1mSubnet                          : \u001b[0m\n",
      "\u001b[32;1mAllOrgs                         : \u001b[0m\n",
      "\u001b[32;1mClientConfig                    : \u001b[0m\n",
      "\u001b[32;1mCluster                         : \u001b[0m\n",
      "\u001b[32;1mDescendantConnection            : \u001b[0m\n",
      "\u001b[32;1mEffectiveSlaSourceObject        : \u001b[0m\n",
      "\u001b[32;1mHost                            : \u001b[0m\n",
      "\u001b[32;1mHostDetail                      : \u001b[0m\n",
      "\u001b[32;1mLatestUserNote                  : \u001b[0m\n",
      "\u001b[32;1mLiveMounts                      : \u001b[0m\n",
      "\u001b[32;1mLogicalPath                     : \u001b[0m\n",
      "\u001b[32;1mMainMount                       : \u001b[0m\n",
      "\u001b[32;1mMissedSnapshotConnection        : \u001b[0m\n",
      "\u001b[32;1mMissedSnapshotGroupByConnection : \u001b[0m\n",
      "\u001b[32;1mNewestArchivedSnapshot          : \u001b[0m\n",
      "\u001b[32;1mNewestIndexedSnapshot           : \u001b[0m\n",
      "\u001b[32;1mNewestReplicatedSnapshot        : \u001b[0m\n",
      "\u001b[32;1mNewestSnapshot                  : \u001b[0m\n",
      "\u001b[32;1mOldestSnapshot                  : \u001b[0m\n",
      "\u001b[32;1mPendingObjectDeletionStatus     : \u001b[0m\n",
      "\u001b[32;1mPhysicalChildConnection         : \u001b[0mRubrikSecurityCloud.Types.ManagedVolumePhysicalChildTypeConnectio\n",
      "                                  n\n",
      "\u001b[32;1mPhysicalPath                    : \u001b[0m\n",
      "\u001b[32;1mPrimaryClusterLocation          : \u001b[0m\n",
      "\u001b[32;1mQueuedSnapshotGroupBys          : \u001b[0m\n",
      "\u001b[32;1mQueuedSnapshots                 : \u001b[0m\n",
      "\u001b[32;1mReportWorkload                  : \u001b[0m\n",
      "\u001b[32;1mSmbShare                        : \u001b[0m\n",
      "\u001b[32;1mSnapshotConnection              : \u001b[0m\n",
      "\u001b[32;1mSnapshotDistribution            : \u001b[0m\n",
      "\u001b[32;1mSnapshotGroupByConnection       : \u001b[0m\n",
      "\u001b[32;1mSnapshotGroupBySummary          : \u001b[0m\n",
      "\n"
     ]
    }
   ],
   "source": [
    "$MVName = \"rp-mysql-01\"\n",
    "$RscManagedVolume = Get-RscManagedVolume -Name $MVName -RscCluster $RscCluster\n",
    "$RscManagedVolume"
   ]
  },
  {
   "cell_type": "markdown",
   "metadata": {},
   "source": [
    "---\n",
    "\n",
    "# Disconnect from RSC\n",
    "It is important to have each script you create end by disconnecting from RSC. If you do not, then you will run into issues with token authentication exhaustion. RSC allows a Service Account to have 10 concurrent open connections to RSC. Additional requests will be denied until existing connections are closed. \n",
    "\n",
    "You can easily disconnect your connection by running the below statement. "
   ]
  },
  {
   "cell_type": "code",
   "execution_count": 4,
   "metadata": {
    "dotnet_interactive": {
     "language": "pwsh"
    },
    "polyglot_notebook": {
     "kernelName": "pwsh"
    }
   },
   "outputs": [
    {
     "name": "stdout",
     "output_type": "stream",
     "text": [
      "The Rubrik Security Cloud session has been terminated.\n"
     ]
    }
   ],
   "source": [
    "Disconnect-Rsc"
   ]
  }
 ],
 "metadata": {
  "kernelspec": {
   "display_name": ".NET (C#)",
   "language": "C#",
   "name": ".net-csharp"
  },
  "language_info": {
   "name": "polyglot-notebook"
  },
  "polyglot_notebook": {
   "kernelInfo": {
    "defaultKernelName": "csharp",
    "items": [
     {
      "aliases": [],
      "name": "csharp"
     },
     {
      "aliases": [],
      "languageName": "pwsh",
      "name": "pwsh"
     }
    ]
   }
  }
 },
 "nbformat": 4,
 "nbformat_minor": 2
}

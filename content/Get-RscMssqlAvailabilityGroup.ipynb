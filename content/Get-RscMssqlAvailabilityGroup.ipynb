{
 "cells": [
  {
   "cell_type": "markdown",
   "metadata": {},
   "source": [
    "# Get-RscMssqlAvailabilityGroup\n",
    "In some environments where High Availability is required, DBAs will use a feature called Availability Groups. If this is used in an environment, then the Availability Group is the parent of the database. by getting this value first, it will allow you to narrow down the places the database can exist and allowing you to work with the database you need to. "
   ]
  },
  {
   "cell_type": "markdown",
   "metadata": {},
   "source": [
    "# Workflow\n",
    "To get information about the SQL Server Instance, you need to do the following\n",
    "1. Use **Connect-RSC** to Connect to RSC\n",
    "1. Use **Get-RscCluster** to get the cluster id that the SQL Server is registered. This is akin to the datacenter that the SQL Server is located in. While you can run the next command without the cluster ID, you may get more records back than expected. This is because your SQL Server Host could exist on 2 different cluster. Once as a replicated source and once as the replicated target. \n",
    "1. Use **Get-RscHost** to get the host id that the SQL Server is installed on. \n",
    "1. Use **Get-RscMssqlAvailabilityGroup** to get the id of the Availability Group. \n",
    "1. Use **Disconnect-RSC** to disconnect from RSC"
   ]
  },
  {
   "cell_type": "markdown",
   "metadata": {},
   "source": [
    "## Connect to RSC"
   ]
  },
  {
   "cell_type": "code",
   "execution_count": 1,
   "metadata": {
    "dotnet_interactive": {
     "language": "pwsh"
    },
    "polyglot_notebook": {
     "kernelName": "pwsh"
    }
   },
   "outputs": [
    {
     "name": "stdout",
     "output_type": "stream",
     "text": [
      "\n",
      "\u001b[32;1mClientId                               \u001b[0m\u001b[32;1m AuthenticationState\u001b[0m\u001b[32;1m SdkSchemaVersion\u001b[0m\u001b[32;1m ServerVersion\u001b[0m\n",
      "\u001b[32;1m--------                               \u001b[0m \u001b[32;1m-------------------\u001b[0m \u001b[32;1m----------------\u001b[0m \u001b[32;1m-------------\u001b[0m\n",
      "client|kB5og68XXrFlfXcvWhn3jlHdf1OKyJCB          AUTHORIZED v20240325-21     v20240325-21\n",
      "\n"
     ]
    }
   ],
   "source": [
    "Import-Module RubrikSecurityCloud\n",
    "Connect-RSC"
   ]
  },
  {
   "cell_type": "markdown",
   "metadata": {},
   "source": [
    "## Get the Cluster ID"
   ]
  },
  {
   "cell_type": "code",
   "execution_count": 2,
   "metadata": {
    "dotnet_interactive": {
     "language": "pwsh"
    },
    "polyglot_notebook": {
     "kernelName": "pwsh"
    }
   },
   "outputs": [],
   "source": [
    "$ClusterName = \"vault-r-london\"\n",
    "$RscCluster = Get-RscCluster -Name $ClusterName"
   ]
  },
  {
   "cell_type": "markdown",
   "metadata": {},
   "source": [
    "## Get the Availability Group Information"
   ]
  },
  {
   "cell_type": "code",
   "execution_count": 3,
   "metadata": {
    "dotnet_interactive": {
     "language": "pwsh"
    },
    "polyglot_notebook": {
     "kernelName": "pwsh"
    }
   },
   "outputs": [
    {
     "name": "stdout",
     "output_type": "stream",
     "text": [
      "\n",
      "\u001b[32;1mAuthorizedOperations              : \u001b[0m\n",
      "\u001b[32;1mObjectType                        : \u001b[0mMSSQL_AVAILABILITY_GROUP\n",
      "\u001b[32;1mSlaAssignment                     : \u001b[0mDIRECT\n",
      "\u001b[32;1mConfiguredSlaDomain               : \u001b[0m\n",
      "\u001b[32;1mEffectiveRetentionSlaDomain       : \u001b[0m\n",
      "\u001b[32;1mEffectiveSlaDomain                : \u001b[0mRubrikSecurityCloud.Types.GlobalSlaReply\n",
      "\u001b[32;1mPendingSla                        : \u001b[0m\n",
      "\u001b[32;1mReplicatedObjects                 : \u001b[0m\n",
      "\u001b[32;1mCopyOnly                          : \u001b[0m\n",
      "\u001b[32;1mHasLogConfigFromSla               : \u001b[0mTrue\n",
      "\u001b[32;1mHostLogRetention                  : \u001b[0m\n",
      "\u001b[32;1mId                                : \u001b[0m8118908c-62c7-57ac-b13d-31a75c91e377\n",
      "\u001b[32;1mLogBackupFrequencyInSeconds       : \u001b[0m\n",
      "\u001b[32;1mLogBackupRetentionInHours         : \u001b[0m\n",
      "\u001b[32;1mName                              : \u001b[0mDEMO_AG1\n",
      "\u001b[32;1mNumWorkloadDescendants            : \u001b[0m3\n",
      "\u001b[32;1mReplicatedObjectCount             : \u001b[0m\n",
      "\u001b[32;1mSlaPauseStatus                    : \u001b[0mFalse\n",
      "\u001b[32;1mAllOrgs                           : \u001b[0m\n",
      "\u001b[32;1mCluster                           : \u001b[0m\n",
      "\u001b[32;1mCrossAccountReplicatedObjectInfos : \u001b[0m\n",
      "\u001b[32;1mDescendantConnection              : \u001b[0m\n",
      "\u001b[32;1mEffectiveSlaSourceObject          : \u001b[0m\n",
      "\u001b[32;1mInstances                         : \u001b[0m\n",
      "\u001b[32;1mLatestUserNote                    : \u001b[0m\n",
      "\u001b[32;1mLogicalChildConnection            : \u001b[0m\n",
      "\u001b[32;1mLogicalPath                       : \u001b[0m\n",
      "\u001b[32;1mPendingObjectDeletionStatus       : \u001b[0m\n",
      "\u001b[32;1mPhysicalPath                      : \u001b[0m\n",
      "\u001b[32;1mPrimaryClusterLocation            : \u001b[0m\n",
      "\u001b[32;1mSnapshotDistribution              : \u001b[0m\n",
      "\u001b[32;1mVars                              : \u001b[0mRubrikSecurityCloud.Types.MssqlAvailabilityGroup+InlineVars\n",
      "\n"
     ]
    }
   ],
   "source": [
    "$AvailabilityGroupName = \"DEMO_AG1\"\n",
    "$RscMssqlAvailabilityGroup = Get-RscMssqlAvailabilityGroup -AvailabilityGroupName $AvailabilityGroupName -RscCluster $RscCluster\n",
    "$RscMssqlAvailabilityGroup"
   ]
  },
  {
   "cell_type": "markdown",
   "metadata": {},
   "source": [
    "---\n",
    "\n",
    "# Disconnect from RSC\n",
    "It is important to have each script you create end by disconnecting from RSC. If you do not, then you will run into issues with token authentication exhaustion. RSC allows a Service Account to have 10 concurrent open connections to RSC. Additional requests will be denied until existing connections are closed. \n",
    "\n",
    "You can easily disconnect your connection by running the below statement. "
   ]
  },
  {
   "cell_type": "code",
   "execution_count": 4,
   "metadata": {
    "dotnet_interactive": {
     "language": "pwsh"
    },
    "polyglot_notebook": {
     "kernelName": "pwsh"
    }
   },
   "outputs": [
    {
     "name": "stdout",
     "output_type": "stream",
     "text": [
      "The Rubrik Security Cloud session has been terminated.\n"
     ]
    }
   ],
   "source": [
    "Disconnect-Rsc"
   ]
  }
 ],
 "metadata": {
  "kernelspec": {
   "display_name": ".NET (C#)",
   "language": "C#",
   "name": ".net-csharp"
  },
  "language_info": {
   "name": "polyglot-notebook"
  },
  "polyglot_notebook": {
   "kernelInfo": {
    "defaultKernelName": "csharp",
    "items": [
     {
      "aliases": [],
      "name": "csharp"
     },
     {
      "aliases": [],
      "languageName": "pwsh",
      "name": "pwsh"
     }
    ]
   }
  }
 },
 "nbformat": 4,
 "nbformat_minor": 2
}

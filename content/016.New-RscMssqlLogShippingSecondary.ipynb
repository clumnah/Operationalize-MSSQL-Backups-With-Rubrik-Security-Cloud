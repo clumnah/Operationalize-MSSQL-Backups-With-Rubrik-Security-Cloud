{
 "cells": [
  {
   "cell_type": "markdown",
   "metadata": {},
   "source": [
    "# New-RscMssqlLogShippingSecondary\n",
    "DBAs are familiar with SQL Server native log shipping. It is generally a 3 step process where a log backup is taken on one server, copied to another server, and restored on that second server. Rubrik has log shipping built into the product in a similar workflow. The SLA will take a log backup and shortly after the log backup is complete, it is automatically recovered to the secondary server. \n",
    "\n",
    "New-RscMssqlLogShippingSecondary has multiple parameters, but the important ones to understand for most workflows are:\n",
    "- RscMssqlDatabase: Database object returned from Get-RscMssqlDatabase\n",
    "- RscCluster: Database object returned from Get-RscCluster\n",
    "- TargetMssqlInstance: SQL Server Instance Object returned from Get-RscMssqlInstance\n",
    "- TargetDatabaseName: Any name you want to call your database when it is recovered onto the target instance\n",
    "- TargetDataPath: Single path that all data files will be placed into \n",
    "- TargeLogPath: Single path that all log files will be placed into\n",
    "- TargetFilePaths: Object can be built manually like the below example, or by using Get-RscMssqlDatabaseFiles. \n",
    "- MaxDataStreams: This controls the number of streams used for the restore. By default, Rubrik will use 2 streams. This cannot exceed a value of 8. \n",
    "\n",
    "    In general, the default value of 2 performs best. However in some cases, increasing the value can provide better performance of the restore. Do not change this value in a\n",
    "    production setting without running some tests in a non-production environment. \n",
    "- DisconnectStandbyUsers: Automatically disconnect users when restoring backups\n",
    "- State: State of Log Shipping Secondaary. Can be either RESTORING or STANDBY\n",
    "- AutomaticReseed: Automatically reseed the log shipping configuration when the primary transaction log chain breaks "
   ]
  },
  {
   "cell_type": "markdown",
   "metadata": {},
   "source": [
    "# Workflow\n",
    "To add a log shipping secondary of a database, you need to do the following\n",
    "1. Use **Connect-RSC** to Connect to RSC\n",
    "1. Use **Get-RscCluster** to get the cluster id that the SQL Server is registered. This is akin to the datacenter that the SQL Server is located in. While you can run the next command without the cluster ID, you may get more records back than expected. This is because your SQL Server Host could exist on 2 different cluster. Once as a replicated source and once as the replicated target. \n",
    "1. Use **Get-RscMssqlInstance** to get the instance id of the SQL Server based on the name of the instance and the cluster where it is located. \n",
    "1. Use **Get-RscMssqlDatabase** to get the database ID based on the database name and the SQL Server Instance. \n",
    "1. Use **Get-RscMssqlDatabaseFiles** to get the list of files from the backup. \n",
    "1. Use **Get-RscMssqlInstance** to get the instance id of the Target SQL Server based on the name of the instance and the cluster where it is located. \n",
    "1. Use **NNew-RscMssqlLogShippingSecondary** to start an in place restore of the database to the point in time provided. \n",
    "1. Use **Get-RscRequest** to track the request and know when it completes. ***DOES NOT EXIST YET***\n",
    "1. Use **Disconnect-RSC** to disconnect from RSC"
   ]
  },
  {
   "cell_type": "markdown",
   "metadata": {},
   "source": [
    "## Connect to RSC"
   ]
  },
  {
   "cell_type": "code",
   "execution_count": null,
   "metadata": {
    "dotnet_interactive": {
     "language": "pwsh"
    },
    "polyglot_notebook": {
     "kernelName": "pwsh"
    }
   },
   "outputs": [],
   "source": [
    "Set-Location '/Users/Chris.Lumnah/Library/CloudStorage/GoogleDrive-chris.lumnah@rubrik.com/My Drive/1.Projects/Powershell SDK/rubrik-powershell-sdk'\n",
    "Import-Module ./output/rubriksecuritycloud -force\n",
    "# Import-Module RubrikSecurityCloud\n",
    "Connect-RSC"
   ]
  },
  {
   "cell_type": "markdown",
   "metadata": {},
   "source": [
    "## Get the Cluster ID"
   ]
  },
  {
   "cell_type": "code",
   "execution_count": null,
   "metadata": {
    "dotnet_interactive": {
     "language": "pwsh"
    },
    "polyglot_notebook": {
     "kernelName": "pwsh"
    }
   },
   "outputs": [],
   "source": [
    "$ClusterName = \"vault-r-london\"\n",
    "$RscCluster = Get-RscCluster -Name $ClusterName"
   ]
  },
  {
   "cell_type": "markdown",
   "metadata": {},
   "source": [
    "## Get the Instance Information"
   ]
  },
  {
   "cell_type": "code",
   "execution_count": null,
   "metadata": {
    "dotnet_interactive": {
     "language": "pwsh"
    },
    "polyglot_notebook": {
     "kernelName": "pwsh"
    }
   },
   "outputs": [],
   "source": [
    "$HostName = \"rp-sql19s-001.perf.rubrik.com\"\n",
    "$RscHost = Get-RscHost -Name $HostName -OsType Windows\n",
    "$RscMssqlInstance = Get-RscMssqlInstance -RscHost $RscHost -RscCluster $RscCluster"
   ]
  },
  {
   "cell_type": "markdown",
   "metadata": {},
   "source": [
    "## Get the Database Information"
   ]
  },
  {
   "cell_type": "code",
   "execution_count": null,
   "metadata": {
    "dotnet_interactive": {
     "language": "pwsh"
    },
    "polyglot_notebook": {
     "kernelName": "pwsh"
    }
   },
   "outputs": [],
   "source": [
    "$DatabaseName = \"AdventureWorks2019\"\n",
    "$RscMssqlDatabase = Get-RscMssqlDatabase -Name $DatabaseName  -RscMssqlInstance $RscMssqlInstance"
   ]
  },
  {
   "cell_type": "markdown",
   "metadata": {},
   "source": [
    "## Get the Target Instance Information"
   ]
  },
  {
   "cell_type": "code",
   "execution_count": null,
   "metadata": {
    "dotnet_interactive": {
     "language": "pwsh"
    },
    "polyglot_notebook": {
     "kernelName": "pwsh"
    }
   },
   "outputs": [],
   "source": [
    "$HostName = \"rp-sql19s-001.perf.rubrik.com\"\n",
    "$RscHost = Get-RscHost -Name $HostName -OsType Windows\n",
    "$TargetMssqlInstance = Get-RscMssqlInstance -RscHost $RscHost -RscCluster $RscCluster"
   ]
  },
  {
   "cell_type": "markdown",
   "metadata": {},
   "source": [
    "## Add log shipping secondary using the Simple Method"
   ]
  },
  {
   "cell_type": "code",
   "execution_count": null,
   "metadata": {
    "dotnet_interactive": {
     "language": "pwsh"
    },
    "polyglot_notebook": {
     "kernelName": "pwsh"
    }
   },
   "outputs": [],
   "source": [
    "$NewRscMssqlLogShippingSecondary = @{\n",
    "    RscMssqlDatabase = $RscMssqlDatabase\n",
    "    RscCluster = $RscCluster\n",
    "    TargetMssqlInstance = $TargetMssqlInstance\n",
    "    TargetDatabaseName = \"test\"\n",
    "    TargetDataPath = \"c:\\mnt\\sqldata\\\"\n",
    "    TargeLogPath = \"c:\\mnt\\sqllogs\\\"\n",
    "    State = \"RESTORING\"\n",
    "}\n",
    "New-RscMssqlLogShippingSecondary @NewRscMssqlLogShippingSecondary"
   ]
  },
  {
   "cell_type": "markdown",
   "metadata": {},
   "source": [
    "## Add log shipping secondary using the Advanced Method\n",
    "### Get the fully formatted recovery point"
   ]
  },
  {
   "cell_type": "code",
   "execution_count": null,
   "metadata": {
    "dotnet_interactive": {
     "language": "pwsh"
    },
    "polyglot_notebook": {
     "kernelName": "pwsh"
    }
   },
   "outputs": [],
   "source": [
    "$RecoveryDateTime = Get-RscMssqlDatabaseRecoveryPoint -RscMssqlDatabase $RscMssqlDatabase -Latest"
   ]
  },
  {
   "cell_type": "markdown",
   "metadata": {},
   "source": [
    "### Get list of files of the database from the backup"
   ]
  },
  {
   "cell_type": "code",
   "execution_count": null,
   "metadata": {
    "dotnet_interactive": {
     "language": "pwsh"
    },
    "polyglot_notebook": {
     "kernelName": "pwsh"
    }
   },
   "outputs": [],
   "source": [
    "$RscMssqlDatabaseFiles = Get-RscMssqlDatabaseFiles -RscMssqlDatabase $RscMssqlDatabase -RecoveryDateTime $RecoveryDateTime\n",
    "$RscMssqlDatabaseFiles"
   ]
  },
  {
   "cell_type": "markdown",
   "metadata": {},
   "source": [
    "### Create hash table of files"
   ]
  },
  {
   "cell_type": "code",
   "execution_count": null,
   "metadata": {
    "dotnet_interactive": {
     "language": "pwsh"
    },
    "polyglot_notebook": {
     "kernelName": "pwsh"
    }
   },
   "outputs": [],
   "source": [
    "$TargetFilePaths = @()\n",
    "foreach($File in $RscMssqlDatabaseFiles){\n",
    "    If ($File.FileType -eq 'MSSQL_DATABASE_FILE_TYPE_DATA'){\n",
    "        $TargetDataPath = @{\n",
    "            exportPath = $File.OriginalPath\n",
    "            logicalName = $File.LogicalName\n",
    "            newFilename = \"Lumnah_Test.mdf\"\n",
    "        }\n",
    "        $TargetFilePaths += $TargetDataPath\n",
    "    }\n",
    "\n",
    "    If ($File.FileType -eq 'MSSQL_DATABASE_FILE_TYPE_LOG'){\n",
    "        $TargetLogPath = @{\n",
    "            exportPath = $File.OriginalPath\n",
    "            logicalName = $File.LogicalName\n",
    "            newFilename = \"Lumnah_Test_log.ldf\"\n",
    "        } \n",
    "        $TargetFilePaths += $TargetLogPath\n",
    "    }\n",
    "}\n",
    "$TargetFilePaths"
   ]
  },
  {
   "cell_type": "code",
   "execution_count": null,
   "metadata": {
    "dotnet_interactive": {
     "language": "pwsh"
    },
    "polyglot_notebook": {
     "kernelName": "pwsh"
    }
   },
   "outputs": [],
   "source": [
    "$NewRscMssqlLogShippingSecondary = @{\n",
    "    RscMssqlDatabase = $RscMssqlDatabase\n",
    "    RscCluster = $RscCluster\n",
    "    TargetMssqlInstance = $TargetMssqlInstance\n",
    "    TargetDatabaseName = \"test\"\n",
    "    TargetFilePaths = $TargetFilePaths\n",
    "    State = \"RESTORING\"\n",
    "}\n",
    "New-RscMssqlLogShippingSecondary @NewRscMssqlLogShippingSecondary"
   ]
  },
  {
   "cell_type": "markdown",
   "metadata": {},
   "source": [
    "## Track the status of the restore"
   ]
  },
  {
   "cell_type": "code",
   "execution_count": null,
   "metadata": {
    "dotnet_interactive": {
     "language": "pwsh"
    },
    "polyglot_notebook": {
     "kernelName": "pwsh"
    }
   },
   "outputs": [],
   "source": []
  },
  {
   "cell_type": "markdown",
   "metadata": {},
   "source": [
    "---\n",
    "\n",
    "# Disconnect from RSC\n",
    "It is important to have each script you create end by disconnecting from RSC. If you do not, then you will run into issues with token authentication exhaustion. RSC allows a Service Account to have 10 concurrent open connections to RSC. Additional requests will be denied until existing connections are closed. \n",
    "\n",
    "You can easily disconnect your connection by running the below statement. "
   ]
  },
  {
   "cell_type": "code",
   "execution_count": null,
   "metadata": {
    "dotnet_interactive": {
     "language": "pwsh"
    },
    "polyglot_notebook": {
     "kernelName": "pwsh"
    }
   },
   "outputs": [],
   "source": [
    "Disconnect-Rsc"
   ]
  }
 ],
 "metadata": {
  "kernelspec": {
   "display_name": ".NET (C#)",
   "language": "C#",
   "name": ".net-csharp"
  },
  "language_info": {
   "name": "polyglot-notebook"
  },
  "polyglot_notebook": {
   "kernelInfo": {
    "defaultKernelName": "csharp",
    "items": [
     {
      "aliases": [],
      "name": "csharp"
     },
     {
      "aliases": [],
      "languageName": "pwsh",
      "name": "pwsh"
     }
    ]
   }
  }
 },
 "nbformat": 4,
 "nbformat_minor": 2
}

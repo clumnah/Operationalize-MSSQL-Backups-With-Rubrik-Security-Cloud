{
 "cells": [
  {
   "cell_type": "markdown",
   "metadata": {},
   "source": [
    "# New-RscMssqlSnapshot\n",
    "DBAs will often take a backup before they make a change to the database. In general, you need 2 things to take a snapshot of a database, the database ID and the SLA ID. An SLA is required for all on demand snapshots to manage the retention of the snapshot. "
   ]
  },
  {
   "cell_type": "markdown",
   "metadata": {},
   "source": [
    "# Workflow\n",
    "To start an On-Demand Snapsot of a database, you need to do the following\n",
    "1. Use **Connect-RSC** to Connect to RSC\n",
    "1. Use **Get-RscCluster** to get the cluster id that the SQL Server is registered. This is akin to the datacenter that the SQL Server is located in. While you can run the next command without the cluster ID, you may get more records back than expected. This is because your SQL Server Host could exist on 2 different cluster. Once as a replicated source and once as the replicated target. \n",
    "1. Use **Get-RscHost** to get the id of the host. This will be used in the next cmdlet when looking up a SQL Instance\n",
    "1. Use **Get-RscMssqlInstance** to get the instance id of the SQL Server based on the name of the instance and the cluster where it is located. \n",
    "1. Use **Get-RscMssqlDatabase** to get the database ID based on the database name and the SQL Server Instance. \n",
    "1. Use **Get-RscSLADomain** to get the ID SLA Domain that will manage the retention of the snapshot.\n",
    "1. Use **New-RscMssqlSnapshot** to initiate an On Demand Snapshot of a database. \n",
    "1. Use **Get-RscRequest** to track the request and know when it completes. ***DOES NOT EXIST YET***\n",
    "1. Use **Disconnect-RSC** to disconnect from RSC"
   ]
  },
  {
   "cell_type": "markdown",
   "metadata": {},
   "source": [
    "## Connect to RSC"
   ]
  },
  {
   "cell_type": "code",
   "execution_count": 1,
   "metadata": {
    "dotnet_interactive": {
     "language": "pwsh"
    },
    "polyglot_notebook": {
     "kernelName": "pwsh"
    }
   },
   "outputs": [
    {
     "name": "stdout",
     "output_type": "stream",
     "text": [
      "\u001b[93mWARNING: Connect_Rsc: The installed RSC SDK version does not match the server version.\u001b[0m\n",
      "\n",
      "\u001b[32;1mClientId                               \u001b[0m\u001b[32;1m AuthenticationState\u001b[0m\u001b[32;1m SdkSchemaVersion\u001b[0m\u001b[32;1m ServerVersion\u001b[0m\n",
      "\u001b[32;1m--------                               \u001b[0m \u001b[32;1m-------------------\u001b[0m \u001b[32;1m----------------\u001b[0m \u001b[32;1m-------------\u001b[0m\n",
      "client|kB5og68XXrFlfXcvWhn3jlHdf1OKyJCB          AUTHORIZED v20240219-20     v20240304-21\n",
      "\n"
     ]
    }
   ],
   "source": [
    "Import-Module RubrikSecurityCloud\n",
    "Connect-RSC"
   ]
  },
  {
   "cell_type": "markdown",
   "metadata": {},
   "source": [
    "## Get the Cluster ID"
   ]
  },
  {
   "cell_type": "code",
   "execution_count": 2,
   "metadata": {
    "dotnet_interactive": {
     "language": "pwsh"
    },
    "polyglot_notebook": {
     "kernelName": "pwsh"
    }
   },
   "outputs": [],
   "source": [
    "$ClusterName = \"vault-r-london\"\n",
    "$RscCluster = Get-RscCluster -Name $ClusterName"
   ]
  },
  {
   "cell_type": "markdown",
   "metadata": {},
   "source": [
    "## Get the Host ID"
   ]
  },
  {
   "cell_type": "code",
   "execution_count": 3,
   "metadata": {
    "dotnet_interactive": {
     "language": "pwsh"
    },
    "polyglot_notebook": {
     "kernelName": "pwsh"
    }
   },
   "outputs": [],
   "source": [
    "$HostName = \"rp-sql19s-001.perf.rubrik.com\"\n",
    "$RscHost = Get-RscHost -Name $HostName -OsType Windows"
   ]
  },
  {
   "cell_type": "markdown",
   "metadata": {},
   "source": [
    "## Get the Instance Information"
   ]
  },
  {
   "cell_type": "code",
   "execution_count": 4,
   "metadata": {
    "dotnet_interactive": {
     "language": "pwsh"
    },
    "polyglot_notebook": {
     "kernelName": "pwsh"
    }
   },
   "outputs": [],
   "source": [
    "$RscMssqlInstance = Get-RscMssqlInstance -RscHost $RscHost -RscCluster $RscCluster"
   ]
  },
  {
   "cell_type": "markdown",
   "metadata": {},
   "source": [
    "## Get the Database Information"
   ]
  },
  {
   "cell_type": "code",
   "execution_count": 5,
   "metadata": {
    "dotnet_interactive": {
     "language": "pwsh"
    },
    "polyglot_notebook": {
     "kernelName": "pwsh"
    }
   },
   "outputs": [
    {
     "name": "stdout",
     "output_type": "stream",
     "text": [
      "\n",
      "\u001b[32;1mAuthorizedOperations            : \u001b[0m\n",
      "\u001b[32;1mObjectType                      : \u001b[0mMSSQL\n",
      "\u001b[32;1mSlaAssignment                   : \u001b[0mDIRECT\n",
      "\u001b[32;1mConfiguredSlaDomain             : \u001b[0m\n",
      "\u001b[32;1mEffectiveRetentionSlaDomain     : \u001b[0m\n",
      "\u001b[32;1mEffectiveSlaDomain              : \u001b[0mRubrikSecurityCloud.Types.GlobalSlaReply\n",
      "\u001b[32;1mPendingSla                      : \u001b[0m\n",
      "\u001b[32;1mReplicatedObjects               : \u001b[0m\n",
      "\u001b[32;1mCdmId                           : \u001b[0m42527305-5e85-4777-8689-955237d3d951\n",
      "\u001b[32;1mCdmLink                         : \u001b[0m\n",
      "\u001b[32;1mCdmOnDemandSnapshotCount        : \u001b[0m\n",
      "\u001b[32;1mCopyOnly                        : \u001b[0mFalse\n",
      "\u001b[32;1mDagId                           : \u001b[0m9024703f-4510-5209-b3bb-52b7115ad5b9\n",
      "\u001b[32;1mHasLogConfigFromSla             : \u001b[0mTrue\n",
      "\u001b[32;1mHasPermissions                  : \u001b[0mTrue\n",
      "\u001b[32;1mHostLogRetention                : \u001b[0m-1\n",
      "\u001b[32;1mId                              : \u001b[0ma3ca658f-3a80-5a3f-8108-a2156e5fd6a3\n",
      "\u001b[32;1mIsInAvailabilityGroup           : \u001b[0mFalse\n",
      "\u001b[32;1mIsLogShippingSecondary          : \u001b[0mFalse\n",
      "\u001b[32;1mIsMount                         : \u001b[0mFalse\n",
      "\u001b[32;1mIsOnline                        : \u001b[0mTrue\n",
      "\u001b[32;1mIsRelic                         : \u001b[0mFalse\n",
      "\u001b[32;1mLogBackupFrequencyInSeconds     : \u001b[0m-2\n",
      "\u001b[32;1mLogBackupRetentionInHours       : \u001b[0m-3\n",
      "\u001b[32;1mName                            : \u001b[0mAdventureWorks2019\n",
      "\u001b[32;1mNumWorkloadDescendants          : \u001b[0m0\n",
      "\u001b[32;1mOnDemandSnapshotCount           : \u001b[0m\n",
      "\u001b[32;1mPostBackupScript                : \u001b[0m{\"scriptPath\":\"c:\\\\rubrik\\\\scripts\\\\dosomething.bat\",\"timeoutMs\":\n",
      "                                  5000,\"scriptErrorAction\":\"continue\"}\n",
      "\u001b[32;1mPreBackupScript                 : \u001b[0m{\"scriptPath\":\"c:\\\\rubrik\\\\scripts\\\\dosomething.bat\",\"timeoutMs\":\n",
      "                                  5000,\"scriptErrorAction\":\"abort\"}\n",
      "\u001b[32;1mRecoveryModel                   : \u001b[0m\n",
      "\u001b[32;1mReplicatedObjectCount           : \u001b[0m\n",
      "\u001b[32;1mSlaPauseStatus                  : \u001b[0mFalse\n",
      "\u001b[32;1mUnprotectableReasons            : \u001b[0m\n",
      "\u001b[32;1mAllOrgs                         : \u001b[0m\n",
      "\u001b[32;1mCdmGroupedSnapshots             : \u001b[0m\n",
      "\u001b[32;1mCdmNewestSnapshot               : \u001b[0m\n",
      "\u001b[32;1mCdmOldestSnapshot               : \u001b[0m\n",
      "\u001b[32;1mCdmSnapshots                    : \u001b[0m\n",
      "\u001b[32;1mCluster                         : \u001b[0m\n",
      "\u001b[32;1mEffectiveSlaSourceObject        : \u001b[0m\n",
      "\u001b[32;1mLatestUserNote                  : \u001b[0m\n",
      "\u001b[32;1mLiveMounts                      : \u001b[0m\n",
      "\u001b[32;1mLogicalPath                     : \u001b[0m\n",
      "\u001b[32;1mMissedSnapshotConnection        : \u001b[0m\n",
      "\u001b[32;1mMissedSnapshotGroupByConnection : \u001b[0m\n",
      "\u001b[32;1mNewestArchivedSnapshot          : \u001b[0m\n",
      "\u001b[32;1mNewestIndexedSnapshot           : \u001b[0m\n",
      "\u001b[32;1mNewestReplicatedSnapshot        : \u001b[0m\n",
      "\u001b[32;1mNewestSnapshot                  : \u001b[0m\n",
      "\u001b[32;1mOldestSnapshot                  : \u001b[0m\n",
      "\u001b[32;1mPendingObjectDeletionStatus     : \u001b[0m\n",
      "\u001b[32;1mPhysicalPath                    : \u001b[0m{MSSQLSERVER, rp-sql19s-001.perf.rubrik.com}\n",
      "\u001b[32;1mPrimaryClusterLocation          : \u001b[0m\n",
      "\u001b[32;1mReplicas                        : \u001b[0m\n",
      "\u001b[32;1mSnapshotConnection              : \u001b[0m\n",
      "\u001b[32;1mSnapshotDistribution            : \u001b[0m\n",
      "\u001b[32;1mSnapshotGroupByConnection       : \u001b[0m\n",
      "\u001b[32;1mSnapshotGroupBySummary          : \u001b[0m\n",
      "\n"
     ]
    }
   ],
   "source": [
    "$DatabaseName = \"AdventureWorks2019\"\n",
    "$RscMssqlDatabase = Get-RscMssqlDatabase -Name $DatabaseName -RscMssqlInstance $RscMssqlInstance\n",
    "$RscMssqlDatabase"
   ]
  },
  {
   "cell_type": "markdown",
   "metadata": {},
   "source": [
    "## Get SLA Domain Information"
   ]
  },
  {
   "cell_type": "code",
   "execution_count": 6,
   "metadata": {
    "dotnet_interactive": {
     "language": "pwsh"
    },
    "polyglot_notebook": {
     "kernelName": "pwsh"
    }
   },
   "outputs": [
    {
     "name": "stdout",
     "output_type": "stream",
     "text": [
      "\n",
      "\u001b[32;1mName                                \u001b[0m \u001b[32;1;3mBase Frequency\u001b[0m \u001b[32;1;3mObject Count\u001b[0m \u001b[32;1;3mArchival Location\u001b[0m \u001b[32;1;3mReplication\u001b[0m\n",
      "\u001b[32;1m                                    \u001b[0m \u001b[32;1;3m              \u001b[0m \u001b[32;1;3m            \u001b[0m \u001b[32;1;3m                 \u001b[0m \u001b[32;1;3mTarget\u001b[0m\n",
      "\u001b[32;1m----                                \u001b[0m \u001b[32;1m--------------\u001b[0m \u001b[32;1m------------\u001b[0m \u001b[32;1m-----------------\u001b[0m \u001b[32;1m----------------\u001b[0m\n",
      "MSSQL-1d-30d-NoArchive-Repl-Houghton 1 DAYS         0                                              \n",
      "\n"
     ]
    },
    {
     "ename": "Error",
     "evalue": "Command failed: SubmitCode: $SLADomain = \"MSSQL-1d-30d-NoArchive-Repl-Houghton ...",
     "output_type": "error",
     "traceback": [
      "Command failed: SubmitCode: $SLADomain = \"MSSQL-1d-30d-NoArchive-Repl-Houghton ..."
     ]
    }
   ],
   "source": [
    "$SLADomain = \"MSSQL-1d-30d-NoArchive-Repl-Houghton\"\n",
    "$RscSlaDomain = Get-RscSla -Name $SLADomain\n",
    "$RscSlaDomain"
   ]
  },
  {
   "cell_type": "markdown",
   "metadata": {},
   "source": [
    "## Initiate On Demand Snapshot"
   ]
  },
  {
   "cell_type": "code",
   "execution_count": 7,
   "metadata": {
    "dotnet_interactive": {
     "language": "pwsh"
    },
    "polyglot_notebook": {
     "kernelName": "pwsh"
    }
   },
   "outputs": [
    {
     "name": "stdout",
     "output_type": "stream",
     "text": [
      "\n",
      "\u001b[32;1mEndTime   : \u001b[0m\n",
      "\u001b[32;1mId        : \u001b[0mMSSQL_DB_BACKUP_138e0fbc-c0f8-4df2-97b4-3338258e49c1_82340416-343c-4e2b-b323-abda7c668a\n",
      "            84:::0\n",
      "\u001b[32;1mNodeId    : \u001b[0m\n",
      "\u001b[32;1mProgress  : \u001b[0m\n",
      "\u001b[32;1mStartTime : \u001b[0m\n",
      "\u001b[32;1mStatus    : \u001b[0mQUEUED\n",
      "\u001b[32;1mError     : \u001b[0m\n",
      "\u001b[32;1mLinks     : \u001b[0m\n",
      "\n"
     ]
    }
   ],
   "source": [
    "New-RscMssqlSnapshot -RscMssqlDatabase $RscMssqlDatabase -RscSlaDomain $RscSlaDomain"
   ]
  },
  {
   "cell_type": "markdown",
   "metadata": {},
   "source": [
    "## Track the status of the backup"
   ]
  },
  {
   "cell_type": "code",
   "execution_count": null,
   "metadata": {
    "dotnet_interactive": {
     "language": "csharp"
    },
    "polyglot_notebook": {
     "kernelName": "csharp"
    }
   },
   "outputs": [],
   "source": []
  },
  {
   "cell_type": "markdown",
   "metadata": {},
   "source": [
    "---\n",
    "\n",
    "# Disconnect from RSC\n",
    "It is important to have each script you create end by disconnecting from RSC. If you do not, then you will run into issues with token authentication exhaustion. RSC allows a Service Account to have 10 concurrent open connections to RSC. Additional requests will be denied until existing connections are closed. \n",
    "\n",
    "You can easily disconnect your connection by running the below statement. "
   ]
  },
  {
   "cell_type": "code",
   "execution_count": 8,
   "metadata": {
    "dotnet_interactive": {
     "language": "pwsh"
    },
    "polyglot_notebook": {
     "kernelName": "pwsh"
    }
   },
   "outputs": [
    {
     "name": "stdout",
     "output_type": "stream",
     "text": [
      "The Rubrik Security Cloud session has been terminated.\n"
     ]
    }
   ],
   "source": [
    "Disconnect-Rsc"
   ]
  }
 ],
 "metadata": {
  "kernelspec": {
   "display_name": ".NET (C#)",
   "language": "C#",
   "name": ".net-csharp"
  },
  "language_info": {
   "name": "polyglot-notebook"
  },
  "polyglot_notebook": {
   "kernelInfo": {
    "defaultKernelName": "csharp",
    "items": [
     {
      "aliases": [],
      "name": "csharp"
     },
     {
      "aliases": [],
      "languageName": "pwsh",
      "name": "pwsh"
     }
    ]
   }
  }
 },
 "nbformat": 4,
 "nbformat_minor": 2
}

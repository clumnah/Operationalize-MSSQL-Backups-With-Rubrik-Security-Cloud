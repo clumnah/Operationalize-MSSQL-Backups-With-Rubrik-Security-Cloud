{
 "cells": [
  {
   "cell_type": "markdown",
   "metadata": {},
   "source": [
    "# Step 1: Install the Rubrik Security Cloud Powershell SDK. \n",
    "To install the Rubrik Security Cloud Powershell SDK. Run the below code to install the SDK on your machine. Installing the module only needs to be done once. If you have already installed the SDK, then you can proceed to Step 2."
   ]
  },
  {
   "cell_type": "code",
   "execution_count": 1,
   "metadata": {
    "dotnet_interactive": {
     "language": "pwsh"
    },
    "polyglot_notebook": {
     "kernelName": "pwsh"
    },
    "vscode": {
     "languageId": "polyglot-notebook"
    }
   },
   "outputs": [],
   "source": [
    "Install-Module -Name RubrikSecurityCloud"
   ]
  },
  {
   "cell_type": "markdown",
   "metadata": {},
   "source": [
    "## Step 2: Import the Rubrik Security Cloud Powershell SDK\n",
    "To import the Rubrik Security Cloud Powershell SDK. We can do that with the Import-Module command as shown below. "
   ]
  },
  {
   "cell_type": "code",
   "execution_count": 3,
   "metadata": {
    "dotnet_interactive": {
     "language": "pwsh"
    },
    "polyglot_notebook": {
     "kernelName": "pwsh"
    },
    "vscode": {
     "languageId": "polyglot-notebook"
    }
   },
   "outputs": [
    {
     "name": "stdout",
     "output_type": "stream",
     "text": [
      "\n",
      "Loading Rubrik Security Cloud PowerShell Module (PowerShell Core)...\n",
      "\n",
      "Welcome to the Rubrik Security Cloud PowerShell SDK!\n",
      "\n",
      "\tPlease refer to the Getting Started section of the Readme documentation: \n",
      "\thttps://github.com/rubrikinc/rubrik-powershell-sdk#getting-started\n",
      "\n"
     ]
    }
   ],
   "source": [
    "Import-Module RubrikSecurityCloud"
   ]
  }
 ],
 "metadata": {
  "language_info": {
   "name": "csharp"
  }
 },
 "nbformat": 4,
 "nbformat_minor": 2
}

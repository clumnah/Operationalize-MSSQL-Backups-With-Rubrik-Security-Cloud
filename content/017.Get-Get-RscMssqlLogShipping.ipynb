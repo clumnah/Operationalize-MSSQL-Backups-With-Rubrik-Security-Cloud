{
 "cells": [
  {
   "cell_type": "markdown",
   "metadata": {},
   "source": [
    "# Get-RscMssqlLogShipping\n",
    "Used to return existing log shipping relationships in RSC\n",
    "\n",
    "---\n",
    "# Workflow\n",
    "To get information about the Log Shipping relationship, you need to do the following\n",
    "1. Use **Connect-RSC** to Connect to RSC\n",
    "1. Use **Get-RscCluster** to get the cluster id that the SQL Server is registered. This is akin to the datacenter that the SQL Server is located in. \n",
    "1. Use **Get-RscMssqlLogShipping** to get the MSSQL log shipping relationship\n",
    "1. Use **Disconnect-RSC** to disconnect from RSC\n",
    "\n",
    "## Connect to RSC"
   ]
  },
  {
   "cell_type": "code",
   "execution_count": 14,
   "metadata": {
    "dotnet_interactive": {
     "language": "pwsh"
    },
    "polyglot_notebook": {
     "kernelName": "pwsh"
    }
   },
   "outputs": [],
   "source": [
    "Set-Location '/Users/Chris.Lumnah/Library/CloudStorage/GoogleDrive-chris.lumnah@rubrik.com/My Drive/1.Projects/Powershell SDK/rubrik-powershell-sdk'\n",
    "Import-Module ./output/rubriksecuritycloud -force\n",
    "# Import-Module RubrikSecurityCloud\n",
    "Connect-RSC"
   ]
  },
  {
   "cell_type": "markdown",
   "metadata": {},
   "source": [
    "## Get Cluster ID"
   ]
  },
  {
   "cell_type": "code",
   "execution_count": 2,
   "metadata": {
    "dotnet_interactive": {
     "language": "pwsh"
    },
    "polyglot_notebook": {
     "kernelName": "pwsh"
    }
   },
   "outputs": [],
   "source": [
    "$ClusterName = \"vault-r-london\"\n",
    "$RscCluster = Get-RscCluster -Name $ClusterName"
   ]
  },
  {
   "cell_type": "markdown",
   "metadata": {},
   "source": [
    "## Get a list of Log Shipping relationships"
   ]
  },
  {
   "cell_type": "code",
   "execution_count": 3,
   "metadata": {
    "dotnet_interactive": {
     "language": "pwsh"
    },
    "polyglot_notebook": {
     "kernelName": "pwsh"
    }
   },
   "outputs": [
    {
     "name": "stdout",
     "output_type": "stream",
     "text": [
      "\n",
      "\u001b[32;1mCdmId              : \u001b[0m03ca6e61-6889-4978-8422-8ef9438a35b6\n",
      "\u001b[32;1mFid                : \u001b[0m7c686e81-e3e6-5099-9d35-6a8fe9653b43\n",
      "\u001b[32;1mLagTimeFromPrimary : \u001b[0m0\n",
      "\u001b[32;1mLastAppliedPoint   : \u001b[0m12/19/2023 2:41:33 PM\n",
      "\u001b[32;1mLocation           : \u001b[0m\n",
      "\u001b[32;1mLogFrequency       : \u001b[0m\n",
      "\u001b[32;1mState              : \u001b[0mRESTORING\n",
      "\u001b[32;1mStatus             : \u001b[0mAPPLYING\n",
      "\u001b[32;1mCluster            : \u001b[0m\n",
      "\u001b[32;1mPrimaryCluster     : \u001b[0m\n",
      "\u001b[32;1mPrimaryDatabase    : \u001b[0m\n",
      "\u001b[32;1mSecondaryDatabase  : \u001b[0m\n",
      "\u001b[32;1mSecondaryInstance  : \u001b[0m\n",
      "\n",
      "\u001b[32;1mCdmId              : \u001b[0made76135-2520-45e3-8c21-230eda896f33\n",
      "\u001b[32;1mFid                : \u001b[0maeef05b4-0903-58f1-a82a-740f6bfc21c4\n",
      "\u001b[32;1mLagTimeFromPrimary : \u001b[0m0\n",
      "\u001b[32;1mLastAppliedPoint   : \u001b[0m12/19/2023 2:41:32 PM\n",
      "\u001b[32;1mLocation           : \u001b[0m\n",
      "\u001b[32;1mLogFrequency       : \u001b[0m\n",
      "\u001b[32;1mState              : \u001b[0mONLINE\n",
      "\u001b[32;1mStatus             : \u001b[0mAPPLYING\n",
      "\u001b[32;1mCluster            : \u001b[0m\n",
      "\u001b[32;1mPrimaryCluster     : \u001b[0m\n",
      "\u001b[32;1mPrimaryDatabase    : \u001b[0m\n",
      "\u001b[32;1mSecondaryDatabase  : \u001b[0m\n",
      "\u001b[32;1mSecondaryInstance  : \u001b[0m\n",
      "\n",
      "\u001b[32;1mCdmId              : \u001b[0m1d35eacf-ca81-4288-a686-9451c8c4064d\n",
      "\u001b[32;1mFid                : \u001b[0m95ba6d32-f3e5-55cf-94a5-6b16a1f0f54d\n",
      "\u001b[32;1mLagTimeFromPrimary : \u001b[0m0\n",
      "\u001b[32;1mLastAppliedPoint   : \u001b[0m12/19/2023 3:12:15 PM\n",
      "\u001b[32;1mLocation           : \u001b[0m\n",
      "\u001b[32;1mLogFrequency       : \u001b[0m\n",
      "\u001b[32;1mState              : \u001b[0mRESTORING\n",
      "\u001b[32;1mStatus             : \u001b[0mAPPLYING\n",
      "\u001b[32;1mCluster            : \u001b[0m\n",
      "\u001b[32;1mPrimaryCluster     : \u001b[0m\n",
      "\u001b[32;1mPrimaryDatabase    : \u001b[0m\n",
      "\u001b[32;1mSecondaryDatabase  : \u001b[0m\n",
      "\u001b[32;1mSecondaryInstance  : \u001b[0m\n",
      "\n"
     ]
    }
   ],
   "source": [
    "Get-RscMssqlLogShipping"
   ]
  },
  {
   "cell_type": "markdown",
   "metadata": {},
   "source": [
    "## Get a log shipping relationship based on values"
   ]
  },
  {
   "cell_type": "code",
   "execution_count": 17,
   "metadata": {
    "dotnet_interactive": {
     "language": "pwsh"
    },
    "polyglot_notebook": {
     "kernelName": "pwsh"
    }
   },
   "outputs": [
    {
     "name": "stdout",
     "output_type": "stream",
     "text": [
      "\n",
      "   TypeName: RubrikSecurityCloud.Types.MssqlLogShippingTarget\n",
      "\n",
      "\u001b[32;1mName                     \u001b[0m\u001b[32;1m MemberType\u001b[0m\u001b[32;1m Definition\u001b[0m\n",
      "\u001b[32;1m----                     \u001b[0m \u001b[32;1m----------\u001b[0m \u001b[32;1m----------\u001b[0m\n",
      "AllFields                 Method     System.Collections.Generic.List[string] AllFields()\n",
      "ApplyExploratoryFieldSpec Method     void ApplyExploratoryFieldSpec(RubrikSecurityCloud.Exploratio…\n",
      "AsFieldSpec               Method     string AsFieldSpec(RubrikSecurityCloud.Types.FieldSpecConfig …\n",
      "Equals                    Method     bool Equals(System.Object obj)\n",
      "GetGqlTypeName            Method     string GetGqlTypeName()\n",
      "GetHashCode               Method     int GetHashCode()\n",
      "GetType                   Method     type GetType()\n",
      "SelectedFields            Method     System.Collections.Generic.List[string] SelectedFields(), Sys…\n",
      "SelectForRetrieval        Method     void SelectForRetrieval(), void IFieldSpec.SelectForRetrieval…\n",
      "Set                       Method     RubrikSecurityCloud.Types.MssqlLogShippingTarget Set(string C…\n",
      "ToString                  Method     string ToString()\n",
      "UnselectedFields          Method     System.Collections.Generic.List[string] UnselectedFields()\n",
      "CdmId                     Property   string CdmId {get;set;}\n",
      "Cluster                   Property   RubrikSecurityCloud.Types.Cluster Cluster {get;set;}\n",
      "Fid                       Property   string Fid {get;set;}\n",
      "LagTimeFromPrimary        Property   System.Nullable[long] LagTimeFromPrimary {get;set;}\n",
      "LastAppliedPoint          Property   System.Nullable[datetime] LastAppliedPoint {get;set;}\n",
      "Location                  Property   string Location {get;set;}\n",
      "LogFrequency              Property   System.Nullable[long] LogFrequency {get;set;}\n",
      "PrimaryCluster            Property   RubrikSecurityCloud.Types.Cluster PrimaryCluster {get;set;}\n",
      "PrimaryDatabase           Property   RubrikSecurityCloud.Types.MssqlDatabase PrimaryDatabase {get;…\n",
      "SecondaryDatabase         Property   RubrikSecurityCloud.Types.MssqlDatabase SecondaryDatabase {ge…\n",
      "SecondaryInstance         Property   RubrikSecurityCloud.Types.MssqlInstance SecondaryInstance {ge…\n",
      "State                     Property   string State {get;set;}\n",
      "Status                    Property   string Status {get;set;}\n",
      "\n"
     ]
    }
   ],
   "source": [
    "$GetRscMssqlLogShipping = @{\n",
    "    PrimaryDatabaseName = \"AdventureWorks2019\"\n",
    "    SecondaryDatabaseName = \"test\"\n",
    "    RscCluster = $RscCluster\n",
    "}\n",
    "Get-RscMssqlLogShipping @GetRscMssqlLogShipping"
   ]
  },
  {
   "cell_type": "markdown",
   "metadata": {},
   "source": [
    "---\n",
    "\n",
    "# Disconnect from RSC\n",
    "It is important to have each script you create end by disconnecting from RSC. If you do not, then you will run into issues with token authentication exhaustion. RSC allows a Service Account to have 10 concurrent open connections to RSC. Additional requests will be denied until existing connections are closed. \n",
    "\n",
    "You can easily disconnect your connection by running the below statement. "
   ]
  },
  {
   "cell_type": "code",
   "execution_count": null,
   "metadata": {
    "dotnet_interactive": {
     "language": "pwsh"
    },
    "polyglot_notebook": {
     "kernelName": "pwsh"
    }
   },
   "outputs": [],
   "source": [
    "Disconnect-Rsc"
   ]
  }
 ],
 "metadata": {
  "kernelspec": {
   "display_name": ".NET (C#)",
   "language": "C#",
   "name": ".net-csharp"
  },
  "language_info": {
   "name": "polyglot-notebook"
  },
  "polyglot_notebook": {
   "kernelInfo": {
    "defaultKernelName": "csharp",
    "items": [
     {
      "aliases": [],
      "name": "csharp"
     },
     {
      "aliases": [],
      "languageName": "pwsh",
      "name": "pwsh"
     }
    ]
   }
  }
 },
 "nbformat": 4,
 "nbformat_minor": 2
}

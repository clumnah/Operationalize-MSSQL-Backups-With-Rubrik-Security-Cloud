{
 "cells": [
  {
   "attachments": {},
   "cell_type": "markdown",
   "metadata": {},
   "source": [
    "# Connect-RSC\n",
    "Connects to Rubrik Security Cloud(RSC)\n",
    "\n",
    "Connecting to RSC via the SDK requires the use of a Service Account. A Service Account is a special account created inside RSC that is granted permissions it needs to run an automation task. Before continuing, please read the user guide section pertaining to Service Accounts and create one for your usage. That section can be found [here](https://docs.rubrik.com/en-us/saas/saas/service_account.html).\n",
    "\n",
    "Below we will show examples of connecting to RSC using a Service Account in different ways. \n",
    "\n",
    "---\n",
    "\n",
    "# Setup Environment\n",
    "Once you have created the Service Account, you need to set up your environment.  \n",
    "\n",
    "## Step 1: Install the Rubrik Security Cloud Powershell SDK. \n",
    "To install the Rubrik Security Cloud Powershell SDK. Run the below code to install the SDK on your machine. Installing the module only needs to be done once. If you have already installed the SDK, then you can proceed to Step 2."
   ]
  },
  {
   "cell_type": "code",
   "execution_count": null,
   "metadata": {
    "dotnet_interactive": {
     "language": "pwsh"
    },
    "polyglot_notebook": {
     "kernelName": "pwsh"
    }
   },
   "outputs": [],
   "source": [
    "Install-Module -Name RubrikSecurityCloud"
   ]
  },
  {
   "attachments": {},
   "cell_type": "markdown",
   "metadata": {},
   "source": [
    "## Step 2: Import the Rubrik Security Cloud Powershell SDK\n",
    "To import the Rubrik Security Cloud Powershell SDK. We can do that with the Import-Module command as shown below. "
   ]
  },
  {
   "cell_type": "code",
   "execution_count": 1,
   "metadata": {
    "dotnet_interactive": {
     "language": "pwsh"
    },
    "polyglot_notebook": {
     "kernelName": "pwsh"
    }
   },
   "outputs": [],
   "source": [
    "Import-Module RubrikSecurityCloud"
   ]
  },
  {
   "attachments": {},
   "cell_type": "markdown",
   "metadata": {
    "azdata_cell_guid": "64befc64-ac5c-458e-8e76-75dff60de040"
   },
   "source": [
    "---\n",
    "\n",
    "# Connect using a service account json file\n",
    "When you created the Service Account in RSC, you were given the option to download the json file. You will have a file that has content that looks like the below. \n",
    "\n",
    "```json\n",
    "{\n",
    "\t\"client_id\": \"client|lasdfs1fZ9a2GYRBjrJqotseu\",\n",
    "\t\"client_secret\": \"CCzC_wY6PwVMOTdUZKktr8QL3OWlhasdlfhljasfIz314mErx\",\n",
    "\t\"name\": \"RSC Demo Service Account\",\n",
    "\t\"access_token_uri\": \"https://rubrik-demo.my.rubrik.com/api/client_token\"\n",
    "}\n",
    "```\n",
    "\n",
    "Treat this json file as a secure artifact. This file contains credential information to connect and interact with your RSC instance. This file should be placed into a secure location. \n",
    "\n",
    "To use the json file, run the code below. "
   ]
  },
  {
   "cell_type": "code",
   "execution_count": 9,
   "metadata": {
    "dotnet_interactive": {
     "language": "pwsh"
    },
    "polyglot_notebook": {
     "kernelName": "pwsh"
    }
   },
   "outputs": [
    {
     "name": "stdout",
     "output_type": "stream",
     "text": [
      "Connect-Rsc does not support unencrypted JSON files for service accounts. Please use the 'Set-RscServiceAccountFile' cmdlet to create a valid credential file.\n",
      "\u001b[31;1mConnect-Rsc: \u001b[0m\n",
      "\u001b[31;1m\u001b[36;1mLine |\u001b[0m\n",
      "\u001b[31;1m\u001b[36;1m\u001b[36;1m   2 | \u001b[0m \u001b[36;1mConnect-RSC -ServiceAccountFile /Users/Chris.Lumnah/Documents/RSCDemo\u001b[0m …\u001b[0m\n",
      "\u001b[31;1m\u001b[36;1m\u001b[36;1m\u001b[0m\u001b[36;1m\u001b[0m\u001b[36;1m     | \u001b[31;1m ~~~~~~~~~~~~~~~~~~~~~~~~~~~~~~~~~~~~~~~~~~~~~~~~~~~~~~~~~~~~~~~~~~~~~\u001b[0m\n",
      "\u001b[31;1m\u001b[36;1m\u001b[36;1m\u001b[0m\u001b[36;1m\u001b[0m\u001b[36;1m\u001b[31;1m\u001b[31;1m\u001b[36;1m     | \u001b[31;1mData at the root level is invalid. Line 1, position 1.\u001b[0m\n"
     ]
    }
   ],
   "source": [
    "# ls ~/Documents/RSCDemoServiceAccount.json\n",
    "Connect-RSC -ServiceAccountFile /Users/Chris.Lumnah/Documents/RSCDemoServiceAccount.json"
   ]
  },
  {
   "attachments": {},
   "cell_type": "markdown",
   "metadata": {},
   "source": [
    "# Connect using a service account file\n",
    "## Create an encrypted format of the service account json file\n",
    "`Set-RscServiceAccountFile` will generate an encrypted service account (SA) file, store it in a default location, and prompt you to delete the clear-text SA file. We recommend that you delete the clear-text SA file after you have generated the encrypted one to avoid any security issues (if you ever need a clear-text SA file again, they can easily be retrieved from the RSC UI).\n",
    "\n",
    "You only need to do the step with `Set-RscServiceAccountFile` once."
   ]
  },
  {
   "cell_type": "code",
   "execution_count": 10,
   "metadata": {
    "dotnet_interactive": {
     "language": "pwsh"
    },
    "polyglot_notebook": {
     "kernelName": "pwsh"
    }
   },
   "outputs": [
    {
     "name": "stdout",
     "output_type": "stream",
     "text": [
      "\n",
      "Creating credential store...\n",
      "\n",
      "Reading RSC Service Account JSON File from /Users/Chris.Lumnah/Documents/RSCDemoServiceAccount.json\n",
      "\n",
      "Saving credential file: /Users/Chris.Lumnah/.config/powershell/rubrik-powershell-sdk/rsc_service_account_default.xml\n",
      "\n",
      "Rubrik strongly discourage keeping clear text service account files.\n",
      "\u001b[93mWARNING: Preserving original credential file: /Users/Chris.Lumnah/Documents/RSCDemoServiceAccount.json. Please ensure this is stored securely.\u001b[0m\n"
     ]
    }
   ],
   "source": [
    "Set-RscServiceAccountFile -InputFile /Users/Chris.Lumnah/Documents/RSCDemoServiceAccount.json"
   ]
  },
  {
   "cell_type": "code",
   "execution_count": 11,
   "metadata": {
    "dotnet_interactive": {
     "language": "pwsh"
    },
    "polyglot_notebook": {
     "kernelName": "pwsh"
    }
   },
   "outputs": [
    {
     "name": "stdout",
     "output_type": "stream",
     "text": [
      "\u001b[93mWARNING: Connect_Rsc: The installed RSC SDK version does not match the server version.\u001b[0m\n",
      "\n",
      "\u001b[32;1mClientId                                AuthenticationState SdkSchemaVersion ServerVersion\u001b[0m\n",
      "\u001b[32;1m--------                                ------------------- ---------------- -------------\u001b[0m\n",
      "client|kB5og68XXrFlfXcvWhn3jlHdf1OKyJCB          AUTHORIZED v20230607-45     v20230614-31\n",
      "\n"
     ]
    }
   ],
   "source": [
    "Connect-Rsc"
   ]
  },
  {
   "attachments": {},
   "cell_type": "markdown",
   "metadata": {
    "azdata_cell_guid": "ebb6ca69-fdbd-4950-9901-edfdd6fa9715"
   },
   "source": [
    "---\n",
    "\n",
    "# Connect using an Environment Variable\n",
    "An alternative is to store the location of the json file in an environment variable. Again, the file contains credential information and should be treated as a secure artifact. Store the file in a secure location. Connect-RSC looks for an environment variable called **RSC_SERVICE_ACCOUNT_FILE**\n",
    "\n",
    "Since this notebook is showing Powershell examples, we will show how to create and use an environment variable in Powershell"
   ]
  },
  {
   "cell_type": "code",
   "execution_count": 14,
   "metadata": {
    "dotnet_interactive": {
     "language": "pwsh"
    },
    "polyglot_notebook": {
     "kernelName": "pwsh"
    }
   },
   "outputs": [],
   "source": [
    "# Create Environment Variable in pwsh. This can be done one time\n",
    "$env:RSC_SERVICE_ACCOUNT_FILE = '/Users/Chris.Lumnah/Documents/RSCDemoServiceAccount.json'"
   ]
  },
  {
   "cell_type": "code",
   "execution_count": 15,
   "metadata": {
    "dotnet_interactive": {
     "language": "pwsh"
    },
    "polyglot_notebook": {
     "kernelName": "pwsh"
    }
   },
   "outputs": [
    {
     "name": "stdout",
     "output_type": "stream",
     "text": [
      "Connect-Rsc does not support unencrypted JSON files for service accounts. Please use the 'Set-RscServiceAccountFile' cmdlet to create a valid credential file.\n",
      "\u001b[31;1mConnect-Rsc: \u001b[0m\n",
      "\u001b[31;1m\u001b[36;1mLine |\u001b[0m\n",
      "\u001b[31;1m\u001b[36;1m\u001b[36;1m   2 | \u001b[0m \u001b[36;1mConnect-Rsc -FromEnv\u001b[0m\n",
      "\u001b[31;1m\u001b[36;1m\u001b[36;1m\u001b[0m\u001b[36;1m\u001b[0m\u001b[36;1m     | \u001b[31;1m ~~~~~~~~~~~~~~~~~~~~\u001b[0m\n",
      "\u001b[31;1m\u001b[36;1m\u001b[36;1m\u001b[0m\u001b[36;1m\u001b[0m\u001b[36;1m\u001b[31;1m\u001b[31;1m\u001b[36;1m     | \u001b[31;1mData at the root level is invalid. Line 1, position 1.\u001b[0m\n"
     ]
    }
   ],
   "source": [
    "# Connect to RSC\n",
    "Connect-Rsc -FromEnv"
   ]
  },
  {
   "attachments": {},
   "cell_type": "markdown",
   "metadata": {
    "azdata_cell_guid": "04b89945-2a0e-4d4f-b437-396ff3b58a9a"
   },
   "source": [
    "---\n",
    "\n",
    "# Connect using Service Account Values\n",
    "If you do not have the json file, but you have all of the values from the json file, you can pass each value into the appropriate parameter. It is important to note that the Client Secret parameter is expecting a secure string. Your code will look something like...\n",
    "\n",
    "```pwsh\n",
    "$ClientID = \"client|lasdfs1fZ9a2GYRBjrJqotseu\"\n",
    "$ClientSecret = ConvertTo-SecureString (\"CCzC_wY6PwVMOTdUZKktr8QL3OWlhasdlfhljasfIz314mErx\") -AsPlainText -Force\n",
    "$AccessTokenURI = \"https://rubrik-demo.my.rubrik.com/api/client_token\"\n",
    "\n",
    "Connect-RSC -Server $AccessTokenURI -ClientID $ClientID -ClientSecret $ClientSecret\n",
    "```\n",
    "Remember that the above values are security artifacts, so do not store these values in plain text in your scripts. They should be placed into a secure location. \n",
    "\n",
    "\n",
    "In the example below, we are taking things to the next level by having our values stored in a Password Vault. In this example, I am using 1Password. \n"
   ]
  },
  {
   "cell_type": "code",
   "execution_count": 16,
   "metadata": {
    "dotnet_interactive": {
     "language": "pwsh"
    },
    "polyglot_notebook": {
     "kernelName": "pwsh"
    }
   },
   "outputs": [
    {
     "name": "stdout",
     "output_type": "stream",
     "text": [
      "ServiceAccountDetails\n",
      "\u001b[93mWARNING: Connect_Rsc: The installed RSC SDK version does not match the server version.\u001b[0m\n",
      "\n",
      "\u001b[32;1mClientId                                AuthenticationState SdkSchemaVersion ServerVersion\u001b[0m\n",
      "\u001b[32;1m--------                                ------------------- ---------------- -------------\u001b[0m\n",
      "client|kB5og68XXrFlfXcvWhn3jlHdf1OKyJCB          AUTHORIZED v20230607-45     v20230614-31\n",
      "\n"
     ]
    }
   ],
   "source": [
    "$ClientID = op read op://Rubrik/RSCDemoServiceAccount/username\n",
    "$ClientSecret = ConvertTo-SecureString (op read op://Rubrik/RSCDemoServiceAccount/credential) -AsPlainText -Force\n",
    "$AccessTokenURI = op read op://Rubrik/RSCDemoServiceAccount/hostname\n",
    "\n",
    "#Connect to RSC\n",
    "Connect-RSC -Server $AccessTokenURI -ClientID $ClientID -ClientSecret $ClientSecret"
   ]
  },
  {
   "attachments": {},
   "cell_type": "markdown",
   "metadata": {},
   "source": [
    "---\n",
    "\n",
    "# Disconnect from RSC\n",
    "It is important to have each script you create end by disconnecting from RSC. If you do not, then you will run into issues with token authentication exhaustion. RSC allows a Service Account to have 10 concurrent open connections to RSC. Additional requests will be denied until existing connections are closed. \n",
    "\n",
    "You can easily disconnect your connection by running the below statement. "
   ]
  },
  {
   "cell_type": "code",
   "execution_count": 17,
   "metadata": {
    "azdata_cell_guid": "28f133a8-f128-4d9c-b609-9fe2a255abc9",
    "dotnet_interactive": {
     "language": "pwsh"
    },
    "language": "powershell",
    "polyglot_notebook": {
     "kernelName": "pwsh"
    }
   },
   "outputs": [
    {
     "name": "stdout",
     "output_type": "stream",
     "text": [
      "The Rubrik Security Cloud session has been terminated.\n"
     ]
    }
   ],
   "source": [
    "Disconnect-Rsc"
   ]
  }
 ],
 "metadata": {
  "kernelspec": {
   "display_name": ".NET (C#)",
   "language": "C#",
   "name": ".net-csharp"
  },
  "language_info": {
   "name": "polyglot-notebook"
  },
  "polyglot_notebook": {
   "kernelInfo": {
    "defaultKernelName": "csharp",
    "items": [
     {
      "aliases": [],
      "name": ".NET"
     },
     {
      "aliases": [
       "C#",
       "c#"
      ],
      "languageName": "C#",
      "name": "csharp"
     },
     {
      "aliases": [
       "F#",
       "f#"
      ],
      "languageName": "F#",
      "name": "fsharp"
     },
     {
      "aliases": [],
      "languageName": "HTML",
      "name": "html"
     },
     {
      "aliases": [],
      "languageName": "KQL",
      "name": "kql"
     },
     {
      "aliases": [],
      "languageName": "Mermaid",
      "name": "mermaid"
     },
     {
      "aliases": [
       "powershell"
      ],
      "languageName": "PowerShell",
      "name": "pwsh"
     },
     {
      "aliases": [],
      "languageName": "SQL",
      "name": "sql"
     },
     {
      "aliases": [],
      "name": "value"
     },
     {
      "aliases": [
       "frontend"
      ],
      "name": "vscode"
     }
    ]
   }
  }
 },
 "nbformat": 4,
 "nbformat_minor": 2
}
